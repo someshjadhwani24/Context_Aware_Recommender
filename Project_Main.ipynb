{
 "cells": [
  {
   "cell_type": "markdown",
   "id": "de453510",
   "metadata": {},
   "source": [
    "### Imports "
   ]
  },
  {
   "cell_type": "code",
   "execution_count": 1,
   "id": "a895ee48",
   "metadata": {},
   "outputs": [],
   "source": [
    "import pandas as pd\n",
    "import seaborn as sns\n",
    "import matplotlib.pyplot as plt\n",
    "import datetime as dt\n",
    "from operator import attrgetter\n",
    "import sklearn\n",
    "from sklearn.decomposition import TruncatedSVD\n",
    "import numpy as np"
   ]
  },
  {
   "cell_type": "code",
   "execution_count": 2,
   "id": "301a20e3",
   "metadata": {},
   "outputs": [],
   "source": [
    "#Reading the main dataset \n",
    "data_main = pd.read_csv(\"data.csv\" ,encoding= 'unicode_escape',parse_dates=['InvoiceDate'], infer_datetime_format=True)\n",
    "df=pd.read_csv(\"data.csv\" ,encoding= 'unicode_escape',parse_dates=['InvoiceDate'], infer_datetime_format=True)"
   ]
  },
  {
   "cell_type": "markdown",
   "id": "ff536b10",
   "metadata": {},
   "source": [
    "## Task 1 : Data cleaning and EDA "
   ]
  },
  {
   "cell_type": "markdown",
   "id": "fdb54a32",
   "metadata": {},
   "source": [
    "Subtask 1 : \n",
    "1. Find data types \n",
    "2. Find the shape\n",
    "3. Find the Null values \n",
    "4. Find Unique values for Country \n",
    "5. Clean Desc column \n",
    "6. Remove Duplicates "
   ]
  },
  {
   "cell_type": "code",
   "execution_count": 3,
   "id": "99257e5a",
   "metadata": {},
   "outputs": [
    {
     "data": {
      "text/html": [
       "<div>\n",
       "<style scoped>\n",
       "    .dataframe tbody tr th:only-of-type {\n",
       "        vertical-align: middle;\n",
       "    }\n",
       "\n",
       "    .dataframe tbody tr th {\n",
       "        vertical-align: top;\n",
       "    }\n",
       "\n",
       "    .dataframe thead th {\n",
       "        text-align: right;\n",
       "    }\n",
       "</style>\n",
       "<table border=\"1\" class=\"dataframe\">\n",
       "  <thead>\n",
       "    <tr style=\"text-align: right;\">\n",
       "      <th></th>\n",
       "      <th>InvoiceNo</th>\n",
       "      <th>StockCode</th>\n",
       "      <th>Description</th>\n",
       "      <th>Quantity</th>\n",
       "      <th>InvoiceDate</th>\n",
       "      <th>UnitPrice</th>\n",
       "      <th>CustomerID</th>\n",
       "      <th>Country</th>\n",
       "    </tr>\n",
       "  </thead>\n",
       "  <tbody>\n",
       "    <tr>\n",
       "      <th>0</th>\n",
       "      <td>536365</td>\n",
       "      <td>85123A</td>\n",
       "      <td>WHITE HANGING HEART T-LIGHT HOLDER</td>\n",
       "      <td>6</td>\n",
       "      <td>2010-12-01 08:26:00</td>\n",
       "      <td>2.55</td>\n",
       "      <td>17850.0</td>\n",
       "      <td>United Kingdom</td>\n",
       "    </tr>\n",
       "    <tr>\n",
       "      <th>1</th>\n",
       "      <td>536365</td>\n",
       "      <td>71053</td>\n",
       "      <td>WHITE METAL LANTERN</td>\n",
       "      <td>6</td>\n",
       "      <td>2010-12-01 08:26:00</td>\n",
       "      <td>3.39</td>\n",
       "      <td>17850.0</td>\n",
       "      <td>United Kingdom</td>\n",
       "    </tr>\n",
       "    <tr>\n",
       "      <th>2</th>\n",
       "      <td>536365</td>\n",
       "      <td>84406B</td>\n",
       "      <td>CREAM CUPID HEARTS COAT HANGER</td>\n",
       "      <td>8</td>\n",
       "      <td>2010-12-01 08:26:00</td>\n",
       "      <td>2.75</td>\n",
       "      <td>17850.0</td>\n",
       "      <td>United Kingdom</td>\n",
       "    </tr>\n",
       "    <tr>\n",
       "      <th>3</th>\n",
       "      <td>536365</td>\n",
       "      <td>84029G</td>\n",
       "      <td>KNITTED UNION FLAG HOT WATER BOTTLE</td>\n",
       "      <td>6</td>\n",
       "      <td>2010-12-01 08:26:00</td>\n",
       "      <td>3.39</td>\n",
       "      <td>17850.0</td>\n",
       "      <td>United Kingdom</td>\n",
       "    </tr>\n",
       "    <tr>\n",
       "      <th>4</th>\n",
       "      <td>536365</td>\n",
       "      <td>84029E</td>\n",
       "      <td>RED WOOLLY HOTTIE WHITE HEART.</td>\n",
       "      <td>6</td>\n",
       "      <td>2010-12-01 08:26:00</td>\n",
       "      <td>3.39</td>\n",
       "      <td>17850.0</td>\n",
       "      <td>United Kingdom</td>\n",
       "    </tr>\n",
       "  </tbody>\n",
       "</table>\n",
       "</div>"
      ],
      "text/plain": [
       "  InvoiceNo StockCode                          Description  Quantity  \\\n",
       "0    536365    85123A   WHITE HANGING HEART T-LIGHT HOLDER         6   \n",
       "1    536365     71053                  WHITE METAL LANTERN         6   \n",
       "2    536365    84406B       CREAM CUPID HEARTS COAT HANGER         8   \n",
       "3    536365    84029G  KNITTED UNION FLAG HOT WATER BOTTLE         6   \n",
       "4    536365    84029E       RED WOOLLY HOTTIE WHITE HEART.         6   \n",
       "\n",
       "          InvoiceDate  UnitPrice  CustomerID         Country  \n",
       "0 2010-12-01 08:26:00       2.55     17850.0  United Kingdom  \n",
       "1 2010-12-01 08:26:00       3.39     17850.0  United Kingdom  \n",
       "2 2010-12-01 08:26:00       2.75     17850.0  United Kingdom  \n",
       "3 2010-12-01 08:26:00       3.39     17850.0  United Kingdom  \n",
       "4 2010-12-01 08:26:00       3.39     17850.0  United Kingdom  "
      ]
     },
     "execution_count": 3,
     "metadata": {},
     "output_type": "execute_result"
    }
   ],
   "source": [
    "#Basic features of the dataset : \n",
    "data_main.head(5)"
   ]
  },
  {
   "cell_type": "code",
   "execution_count": 15,
   "id": "928edc4e",
   "metadata": {
    "scrolled": true
   },
   "outputs": [
    {
     "data": {
      "text/plain": [
       "InvoiceNo              object\n",
       "StockCode              object\n",
       "Description            object\n",
       "Quantity                int64\n",
       "InvoiceDate    datetime64[ns]\n",
       "UnitPrice             float64\n",
       "CustomerID            float64\n",
       "Country                object\n",
       "dtype: object"
      ]
     },
     "execution_count": 15,
     "metadata": {},
     "output_type": "execute_result"
    }
   ],
   "source": [
    "data_main.dtypes"
   ]
  },
  {
   "cell_type": "code",
   "execution_count": 16,
   "id": "13b0a8b8",
   "metadata": {
    "scrolled": false
   },
   "outputs": [
    {
     "data": {
      "text/plain": [
       "InvoiceNo           0\n",
       "StockCode           0\n",
       "Description      1454\n",
       "Quantity            0\n",
       "InvoiceDate         0\n",
       "UnitPrice           0\n",
       "CustomerID     135080\n",
       "Country             0\n",
       "dtype: int64"
      ]
     },
     "execution_count": 16,
     "metadata": {},
     "output_type": "execute_result"
    }
   ],
   "source": [
    "data_main.isnull().sum()"
   ]
  },
  {
   "cell_type": "markdown",
   "id": "4e3259be",
   "metadata": {},
   "source": [
    "Here, we can see that there are 1454 items with description as Null. Since the dataset is over 5,00,000 lines long, we can let go of 1454 lines without no considerable loss of data. For the data items without CustomerID, we can still use the other columns for analysis hence for now we will not tamper with those columns. "
   ]
  },
  {
   "cell_type": "code",
   "execution_count": 3,
   "id": "e54cc385",
   "metadata": {},
   "outputs": [],
   "source": [
    "data_main = data_main.dropna(subset=['Description'])"
   ]
  },
  {
   "cell_type": "code",
   "execution_count": 4,
   "id": "adfb8e3f",
   "metadata": {},
   "outputs": [
    {
     "data": {
      "text/plain": [
       "InvoiceNo           0\n",
       "StockCode           0\n",
       "Description         0\n",
       "Quantity            0\n",
       "InvoiceDate         0\n",
       "UnitPrice           0\n",
       "CustomerID     133626\n",
       "Country             0\n",
       "dtype: int64"
      ]
     },
     "execution_count": 4,
     "metadata": {},
     "output_type": "execute_result"
    }
   ],
   "source": [
    "data_main.isnull().sum()"
   ]
  },
  {
   "cell_type": "code",
   "execution_count": 5,
   "id": "52bf7a2c",
   "metadata": {
    "scrolled": true
   },
   "outputs": [
    {
     "data": {
      "text/plain": [
       "array(['WHITE HANGING HEART T-LIGHT HOLDER', 'WHITE METAL LANTERN',\n",
       "       'CREAM CUPID HEARTS COAT HANGER', ..., 'lost',\n",
       "       'CREAM HANGING HEART T-LIGHT HOLDER',\n",
       "       'PAPER CRAFT , LITTLE BIRDIE'], dtype=object)"
      ]
     },
     "execution_count": 5,
     "metadata": {},
     "output_type": "execute_result"
    }
   ],
   "source": [
    "data_main['Description'].unique()"
   ]
  },
  {
   "cell_type": "markdown",
   "id": "b478af49",
   "metadata": {},
   "source": [
    "Since we will be using a lot of description based segmentation for our classification, we need to make sure this space is as clean as possible, even if it means loss of data. Hence we will go ahead and see the garbage values and drop them in the following parts of this code. "
   ]
  },
  {
   "cell_type": "code",
   "execution_count": 6,
   "id": "5679f864",
   "metadata": {},
   "outputs": [
    {
     "data": {
      "text/plain": [
       "array(['POSTAGE', 'Discount', 'CARRIAGE', 'Manual', 'amazon', '?',\n",
       "       'check', 'damages', 'SAMPLES', 'faulty', 'Found', 'found',\n",
       "       'counted', 'Dotcom', 'showroom', 'MIA', 'broken', '?lost',\n",
       "       'damages?', 'cracked', 'Damaged', 'damaged', 'DAMAGED', 'Display',\n",
       "       'Missing', 'returned', 'adjust', 'crushed', 'samples', 'mailout ',\n",
       "       'mailout', 'smashed', 'missing', 'FOUND', 'dotcom', 'FBA', 'ebay',\n",
       "       '?missing', 'Crushed', 'test', '??', 'Amazon', 'Dagamed', 'mouldy',\n",
       "       '20713', 'Damages', 'CHECK', 'missing?', '???lost', 'check?',\n",
       "       'AMAZON', 'wet?', 'lost??', '???', 'wet', 'mixed up', 'lost'],\n",
       "      dtype=object)"
      ]
     },
     "execution_count": 6,
     "metadata": {},
     "output_type": "execute_result"
    }
   ],
   "source": [
    "data_main[data_main['Description'].map(len) < 9]['Description'].unique()"
   ]
  },
  {
   "cell_type": "markdown",
   "id": "ea249a9a",
   "metadata": {},
   "source": [
    "Here is a list of most of the garabge values and there is no useful data in these. However, to preserve the integrity of the dataset for furthur analysis, we will subset this data into a new dataframe. "
   ]
  },
  {
   "cell_type": "code",
   "execution_count": 7,
   "id": "f92f6924",
   "metadata": {},
   "outputs": [],
   "source": [
    "cleaned_desc=data_main.drop(data_main[data_main['Description'].map(len) < 9].index,)"
   ]
  },
  {
   "cell_type": "code",
   "execution_count": 8,
   "id": "beaf91e0",
   "metadata": {},
   "outputs": [
    {
     "data": {
      "text/plain": [
       "array(['WHITE HANGING HEART T-LIGHT HOLDER', 'WHITE METAL LANTERN',\n",
       "       'CREAM CUPID HEARTS COAT HANGER', ..., '????damages????',\n",
       "       'CREAM HANGING HEART T-LIGHT HOLDER',\n",
       "       'PAPER CRAFT , LITTLE BIRDIE'], dtype=object)"
      ]
     },
     "execution_count": 8,
     "metadata": {},
     "output_type": "execute_result"
    }
   ],
   "source": [
    "cleaned_desc['Description'].unique()"
   ]
  },
  {
   "cell_type": "code",
   "execution_count": 9,
   "id": "b1caa2e9",
   "metadata": {
    "scrolled": true
   },
   "outputs": [],
   "source": [
    "cleaned_desc = cleaned_desc.drop(cleaned_desc[cleaned_desc['Description'].str.startswith('?')].index)"
   ]
  },
  {
   "cell_type": "code",
   "execution_count": 10,
   "id": "f5b08f01",
   "metadata": {
    "scrolled": false
   },
   "outputs": [
    {
     "data": {
      "text/plain": [
       "array(['WHITE HANGING HEART T-LIGHT HOLDER', 'WHITE METAL LANTERN',\n",
       "       'CREAM CUPID HEARTS COAT HANGER', ..., 'wet boxes',\n",
       "       'CREAM HANGING HEART T-LIGHT HOLDER',\n",
       "       'PAPER CRAFT , LITTLE BIRDIE'], dtype=object)"
      ]
     },
     "execution_count": 10,
     "metadata": {},
     "output_type": "execute_result"
    }
   ],
   "source": [
    "cleaned_desc['Description'].unique()"
   ]
  },
  {
   "cell_type": "code",
   "execution_count": 11,
   "id": "0686f76f",
   "metadata": {
    "scrolled": true
   },
   "outputs": [
    {
     "data": {
      "text/plain": [
       "array(['United Kingdom', 'France', 'Australia', 'Netherlands', 'Germany',\n",
       "       'Norway', 'EIRE', 'Switzerland', 'Spain', 'Poland', 'Portugal',\n",
       "       'Italy', 'Belgium', 'Lithuania', 'Japan', 'Iceland',\n",
       "       'Channel Islands', 'Denmark', 'Cyprus', 'Sweden', 'Austria',\n",
       "       'Israel', 'Finland', 'Bahrain', 'Greece', 'Hong Kong', 'Singapore',\n",
       "       'Lebanon', 'United Arab Emirates', 'Saudi Arabia',\n",
       "       'Czech Republic', 'Canada', 'Unspecified', 'Brazil', 'USA',\n",
       "       'European Community', 'Malta', 'RSA'], dtype=object)"
      ]
     },
     "execution_count": 11,
     "metadata": {},
     "output_type": "execute_result"
    }
   ],
   "source": [
    "cleaned_desc['Country'].unique()"
   ]
  },
  {
   "cell_type": "markdown",
   "id": "1ef141d0",
   "metadata": {},
   "source": [
    "We will be needing country values for some analysis and here there are no unknown values so we can proceed with that. "
   ]
  },
  {
   "cell_type": "markdown",
   "id": "f0386340",
   "metadata": {},
   "source": [
    "Lastely, we will be dropping duplicates so as to not corrupt our recommender system. "
   ]
  },
  {
   "cell_type": "code",
   "execution_count": 12,
   "id": "22810ab4",
   "metadata": {},
   "outputs": [],
   "source": [
    "cleaned_desc = cleaned_desc.drop_duplicates()"
   ]
  },
  {
   "cell_type": "markdown",
   "id": "567bb3a8",
   "metadata": {},
   "source": [
    "##### Summary  \n",
    "We cleaned the description column as we will need it for the recommender system in task3. \n",
    "Later on, we will also be cleaning the CustomerId column but since it has a lot of null values which cant be treated at the moment, it is not advisable to drop them pre data visulisation. "
   ]
  },
  {
   "cell_type": "markdown",
   "id": "44dba172",
   "metadata": {},
   "source": [
    "## Task 2 : Data Visualization "
   ]
  },
  {
   "cell_type": "markdown",
   "id": "652e32e0",
   "metadata": {},
   "source": [
    "Subtasks : \n",
    "1. Find the number of repeat customers and number of first time customers \n",
    "2. Find YOY growth for each country \n",
    "3. Find Sales of each country year wise\n",
    "4. Identify customer segments or personas based on purchasing patterns, and how do these segments differ in terms of their purchasing behavior\n",
    "5. Which products had the most cancellations and their descriptions\n",
    "6. Segment the customers based on scores"
   ]
  },
  {
   "cell_type": "markdown",
   "id": "c9580812",
   "metadata": {},
   "source": [
    "### 1. Number of Repeat Customers"
   ]
  },
  {
   "cell_type": "markdown",
   "id": "1a27e20f",
   "metadata": {},
   "source": [
    "To find the number of repeat customers, we first need to find those customers which have made atleast one purchase.\n",
    "After that we find those who have made 2 or more purchases by checking if there are more than one entires for said customer ID. \n",
    "We display this information in a pie for easy inferencing. "
   ]
  },
  {
   "cell_type": "code",
   "execution_count": 13,
   "id": "4924ae0a",
   "metadata": {},
   "outputs": [],
   "source": [
    "df_clean = df[df['Quantity'] >= 0]\n",
    "dick=df_clean.groupby(['Country']).nunique()"
   ]
  },
  {
   "cell_type": "code",
   "execution_count": 14,
   "id": "446b0be1",
   "metadata": {},
   "outputs": [],
   "source": [
    "unique_cust_count=df_clean['CustomerID'].value_counts().to_dict()"
   ]
  },
  {
   "cell_type": "code",
   "execution_count": 15,
   "id": "3b43dfbf",
   "metadata": {},
   "outputs": [],
   "source": [
    "repeat=[]\n",
    "first_time = []\n",
    "for key, value in unique_cust_count.items():\n",
    "    if value<2:\n",
    "        first_time.append(key)\n",
    "    else:\n",
    "        repeat.append(key)\n"
   ]
  },
  {
   "cell_type": "code",
   "execution_count": 148,
   "id": "f19eb289",
   "metadata": {},
   "outputs": [
    {
     "data": {
      "image/png": "[encoded data removed]",
      "text/plain": [
       "<Figure size 640x480 with 1 Axes>"
      ]
     },
     "metadata": {},
     "output_type": "display_data"
    }
   ],
   "source": [
    "mylabels=[\"First Time Customers\",\"Repeat Customers\"]\n",
    "plt.title(\"Number of repeat customers vs first timers\")\n",
    "number_of_customers = plt.pie([len(first_time),len(repeat)],labels = mylabels,colors = ['#8A577A', '#AC87A0'])"
   ]
  },
  {
   "cell_type": "markdown",
   "id": "7d9ac697",
   "metadata": {},
   "source": [
    "**From this plot we can see that > 95% of customers have made multiple purchases and hence the customer retention rate of the company is good.**"
   ]
  },
  {
   "cell_type": "markdown",
   "id": "d6f9389e",
   "metadata": {},
   "source": [
    "## 2. Retention rate country wise : "
   ]
  },
  {
   "cell_type": "markdown",
   "id": "4049ff60",
   "metadata": {},
   "source": [
    "This calculation requires creation of new variables such as the Year column. We extract the year from the current invoice date and save it in a new row. Then we find the number of unique Customer IDs for each year and group them by country. There are some countires for which data wasnt present for 2010 and we have ignored said countries. "
   ]
  },
  {
   "cell_type": "code",
   "execution_count": 17,
   "id": "12283810",
   "metadata": {
    "collapsed": true
   },
   "outputs": [
    {
     "name": "stderr",
     "output_type": "stream",
     "text": [
      "/var/folders/mr/kssk23v57tb4236qqsb_hp1m0000gp/T/ipykernel_73718/284174564.py:2: SettingWithCopyWarning: \n",
      "A value is trying to be set on a copy of a slice from a DataFrame.\n",
      "Try using .loc[row_indexer,col_indexer] = value instead\n",
      "\n",
      "See the caveats in the documentation: https://pandas.pydata.org/pandas-docs/stable/user_guide/indexing.html#returning-a-view-versus-a-copy\n",
      "  df_clean['InvoiceDate'] = pd.to_datetime(df_clean['InvoiceDate'])\n",
      "/var/folders/mr/kssk23v57tb4236qqsb_hp1m0000gp/T/ipykernel_73718/284174564.py:3: SettingWithCopyWarning: \n",
      "A value is trying to be set on a copy of a slice from a DataFrame.\n",
      "Try using .loc[row_indexer,col_indexer] = value instead\n",
      "\n",
      "See the caveats in the documentation: https://pandas.pydata.org/pandas-docs/stable/user_guide/indexing.html#returning-a-view-versus-a-copy\n",
      "  df_clean['Year'] = df_clean['InvoiceDate'].dt.year\n"
     ]
    }
   ],
   "source": [
    "#Data engineeering : \n",
    "df_clean['InvoiceDate'] = pd.to_datetime(df_clean['InvoiceDate'])\n",
    "df_clean['Year'] = df_clean['InvoiceDate'].dt.year\n",
    "\n",
    "df2010=df_clean[df_clean['Year'] == 2010]\n",
    "final2010=[]\n",
    "df2010group=df2010.groupby(['Country'])['CustomerID'].nunique()\n",
    "list_2010 = df2010group.tolist() #List of values \n",
    "\n",
    "df2010list=df2010group.axes #List of countries\n",
    "\n",
    "for i in range(len(list_2010)):\n",
    "    final2010.append([df2010list[0][i],list_2010[i]])\n",
    "\n",
    "df2010list=df2010list[0].tolist()\n",
    "df2010group=df2010.groupby(['Country'])['CustomerID'].nunique()\n",
    "df2010list=df2010group.axes\n",
    "df2010list=df2010list[0].tolist()\n",
    "\n",
    "df2011=df_clean[df_clean['Year'] == 2011]\n",
    "final2011=[]\n",
    "df2011group=df2011.groupby(['Country'])['CustomerID'].nunique()\n",
    "list_2011 = df2011group.tolist()\n",
    "\n",
    "df2011list=df2011group.axes\n",
    "\n",
    "for i in range(len(list_2011)):\n",
    "    final2011.append([df2011list[0][i],list_2011[i]])\n",
    "df2011list=df2011list[0].tolist()\n",
    "\n",
    "df2011list.append('Lithuania')\n",
    "list_2011.append(0)\n",
    "\n",
    "#Computing the growth : \n",
    "\n",
    "country_list=[]\n",
    "change_list=[]\n",
    "for i in range(0,len(df2010list)):\n",
    "    temp=df2011list.index(df2010list[i])\n",
    "    country = df2011list[temp]\n",
    "\n",
    "    val2010 = list_2010[i]\n",
    "    val2011 = list_2011[temp]\n",
    "    \n",
    "    if(val2010==0):\n",
    "        country_list.append(df2010list[i])\n",
    "        change_list.append(0)\n",
    "    else:\n",
    "        change = (val2011-val2010)/val2010\n",
    "        country_list.append(df2010list[i])\n",
    "        change_list.append(change)\n"
   ]
  },
  {
   "cell_type": "code",
   "execution_count": 147,
   "id": "ff324f5c",
   "metadata": {},
   "outputs": [
    {
     "data": {
      "text/plain": [
       "Text(0, 0.5, 'Growth %')"
      ]
     },
     "execution_count": 147,
     "metadata": {},
     "output_type": "execute_result"
    },
    {
     "data": {
      "image/png": "[encoded data removed]",
      "text/plain": [
       "<Figure size 640x480 with 1 Axes>"
      ]
     },
     "metadata": {},
     "output_type": "display_data"
    }
   ],
   "source": [
    "#Plotting the growth rate : \n",
    "fig, ax = plt.subplots(nrows=1, ncols=1)\n",
    "ax.set_facecolor('white')\n",
    "\n",
    "plt.xticks(ticks=range(len(country_list)), labels=country_list, rotation=90)\n",
    "growth_rate = plt.bar(country_list,change_list, color=['#8A577A', '#AC87A0'],edgecolor = \"black\")\n",
    "plt.title(\"Growth % by country\")\n",
    "plt.ylabel(\"Growth %\", fontweight='bold')"
   ]
  },
  {
   "cell_type": "markdown",
   "id": "d7375307",
   "metadata": {},
   "source": [
    "**We see a healthy growth in most countries except Lithuaina where the number of customers have reduced YoY."
   ]
  },
  {
   "cell_type": "markdown",
   "id": "b71f337a",
   "metadata": {},
   "source": [
    "## 3. Sales per country annualised"
   ]
  },
  {
   "cell_type": "markdown",
   "id": "f772ca0d",
   "metadata": {},
   "source": [
    "We need to create seperate columns to realise this task. We create a few more variables like the total order value. Then we group these by country and use sum as the aggregation measure. \n",
    "We give the plots as a stacked bar and also seperaly since the scales were so different, the stacked graphs werent understandable. "
   ]
  },
  {
   "cell_type": "code",
   "execution_count": 150,
   "id": "a598a0d7",
   "metadata": {
    "collapsed": true
   },
   "outputs": [
    {
     "name": "stderr",
     "output_type": "stream",
     "text": [
      "/var/folders/mr/kssk23v57tb4236qqsb_hp1m0000gp/T/ipykernel_73718/3843838782.py:3: SettingWithCopyWarning: \n",
      "A value is trying to be set on a copy of a slice from a DataFrame.\n",
      "Try using .loc[row_indexer,col_indexer] = value instead\n",
      "\n",
      "See the caveats in the documentation: https://pandas.pydata.org/pandas-docs/stable/user_guide/indexing.html#returning-a-view-versus-a-copy\n",
      "  df_topitems['TotalPrice'] = df['Quantity'] * df['UnitPrice']\n",
      "/var/folders/mr/kssk23v57tb4236qqsb_hp1m0000gp/T/ipykernel_73718/3843838782.py:4: SettingWithCopyWarning: \n",
      "A value is trying to be set on a copy of a slice from a DataFrame.\n",
      "Try using .loc[row_indexer,col_indexer] = value instead\n",
      "\n",
      "See the caveats in the documentation: https://pandas.pydata.org/pandas-docs/stable/user_guide/indexing.html#returning-a-view-versus-a-copy\n",
      "  df_topitems['InvoiceDate'] = pd.to_datetime(df_topitems['InvoiceDate'])\n",
      "/var/folders/mr/kssk23v57tb4236qqsb_hp1m0000gp/T/ipykernel_73718/3843838782.py:5: SettingWithCopyWarning: \n",
      "A value is trying to be set on a copy of a slice from a DataFrame.\n",
      "Try using .loc[row_indexer,col_indexer] = value instead\n",
      "\n",
      "See the caveats in the documentation: https://pandas.pydata.org/pandas-docs/stable/user_guide/indexing.html#returning-a-view-versus-a-copy\n",
      "  df_topitems['Year'] = df_topitems['InvoiceDate'].dt.year\n",
      "/var/folders/mr/kssk23v57tb4236qqsb_hp1m0000gp/T/ipykernel_73718/3843838782.py:9: FutureWarning: The default value of numeric_only in DataFrameGroupBy.sum is deprecated. In a future version, numeric_only will default to False. Either specify numeric_only or select only columns which should be valid for the function.\n",
      "  df_sum_2010 =df_sum_2010.groupby(['Country']).sum()\n",
      "/var/folders/mr/kssk23v57tb4236qqsb_hp1m0000gp/T/ipykernel_73718/3843838782.py:12: FutureWarning: The default value of numeric_only in DataFrameGroupBy.sum is deprecated. In a future version, numeric_only will default to False. Either specify numeric_only or select only columns which should be valid for the function.\n",
      "  df_sum_2011 =df_sum_2011.groupby(['Country']).sum()\n"
     ]
    }
   ],
   "source": [
    "#Creating a subset having the reqiuered variables\n",
    "df_topitems = df[df['Quantity'] >= 0]\n",
    "df_topitems['TotalPrice'] = df['Quantity'] * df['UnitPrice']\n",
    "df_topitems['InvoiceDate'] = pd.to_datetime(df_topitems['InvoiceDate'])\n",
    "df_topitems['Year'] = df_topitems['InvoiceDate'].dt.year\n",
    "\n",
    "#Creating subsets for 2010 and 2011 and grouping them by country\n",
    "df_sum_2010 = df_topitems[df_topitems['Year']==2010]\n",
    "df_sum_2010 =df_sum_2010.groupby(['Country']).sum()\n",
    "\n",
    "df_sum_2011 = df_topitems[df_topitems['Year']==2011]\n",
    "df_sum_2011 =df_sum_2011.groupby(['Country']).sum()\n",
    "\n",
    "#Extracting the list of countries in 2010 and 2011\n",
    "bar_list2011=df_sum_2011.axes[0].tolist()\n",
    "bar_list2010=df_sum_2010.axes[0].tolist()\n",
    "\n",
    "#Extracting the total sales country wise in 2010 and 2011\n",
    "bar_sales2011 = df_sum_2011['TotalPrice'].tolist()\n",
    "bar_sales2010 = df_sum_2010['TotalPrice'].tolist()\n",
    "\n",
    "#Dropping Lithuaina from the 2010 list as it doesnt exist in the 2011 list\n",
    "bar_list2010.pop(14)\n",
    "bar_sales2010.pop(14)\n",
    "\n",
    "#Creating a list which has the sales data from 2010 and dimensions of 2011 lists. Whichever country wasnt recorded in 2010 is assigned 0\n",
    "final_sales2010=[]\n",
    "count=0\n",
    "for i in range(len(bar_list2011)):\n",
    "    country2011 = bar_list2011[i]\n",
    "    if(country2011 in bar_list2010):\n",
    "        final_sales2010.append(bar_sales2010[count])\n",
    "        count=count+1\n",
    "    else:\n",
    "        final_sales2010.append(0)\n",
    "        \n",
    "#Dropping United Kingdom for scaling purposes\n",
    "\n",
    "test2010=bar_list2010.copy()\n",
    "test2010.pop()\n",
    "test2010.pop()\n",
    "val2010=final_sales2010.copy()\n",
    "val2010.pop()\n",
    "uk2010=val2010.pop()\n",
    "\n",
    "test2011=bar_list2011.copy()\n",
    "test2011.pop()\n",
    "test2011.pop()\n",
    "val2011=bar_sales2011.copy()\n",
    "val2011.pop()\n",
    "uk2011=val2011.pop()"
   ]
  },
  {
   "cell_type": "code",
   "execution_count": 151,
   "id": "50615f2e",
   "metadata": {
    "scrolled": false
   },
   "outputs": [
    {
     "data": {
      "text/plain": [
       "<matplotlib.legend.Legend at 0x157e8da10>"
      ]
     },
     "execution_count": 151,
     "metadata": {},
     "output_type": "execute_result"
    },
    {
     "data": {
      "image/png": "[encoded data removed]",
      "text/plain": [
       "<Figure size 640x480 with 1 Axes>"
      ]
     },
     "metadata": {},
     "output_type": "display_data"
    }
   ],
   "source": [
    "#Plotting the graphs \n",
    "\n",
    "fig, ax = plt.subplots(nrows=1, ncols=1)\n",
    "ax.set_facecolor('white')\n",
    "\n",
    "plt.title(\"Annualised Sales by Country\")\n",
    "plt.ylabel(\"Sales in $\", fontweight='bold')\n",
    "\n",
    "plt.xticks(ticks=range(len(test2011)), labels=test2011, rotation=90)\n",
    "plt.bar(test2011,val2011)\n",
    "\n",
    "x1=plt.bar(test2011, val2010, color='plum',edgecolor = \"black\")\n",
    "x2=plt.bar(test2011, val2011, bottom=val2010, color='moccasin',edgecolor = \"black\")\n",
    "\n",
    "plt.legend([x1, x2], ['Sales : 2010', 'Sales : 2011'])"
   ]
  },
  {
   "cell_type": "markdown",
   "id": "9780be2f",
   "metadata": {},
   "source": [
    "**We can clearly see that in almost all markets the sales for 2011 were much higher than 2010. This coupled with the average 6% growth rate in customers tells us that each customer has started shopping for more.**"
   ]
  },
  {
   "cell_type": "code",
   "execution_count": 168,
   "id": "a4862f1d",
   "metadata": {},
   "outputs": [
    {
     "data": {
      "text/plain": [
       "'United Kingdom'"
      ]
     },
     "execution_count": 168,
     "metadata": {},
     "output_type": "execute_result"
    }
   ],
   "source": [
    "only2010_sales = bar_sales2010.copy()\n",
    "only2010_sales.pop()\n",
    "only2010_bar = bar_list2010.copy()\n",
    "only2010_bar.pop()"
   ]
  },
  {
   "cell_type": "code",
   "execution_count": 170,
   "id": "bf80fda6",
   "metadata": {},
   "outputs": [
    {
     "data": {
      "text/plain": [
       "<matplotlib.legend.Legend at 0x157161590>"
      ]
     },
     "execution_count": 170,
     "metadata": {},
     "output_type": "execute_result"
    },
    {
     "data": {
      "image/png": "[encoded data removed]",
      "text/plain": [
       "<Figure size 1400x1000 with 2 Axes>"
      ]
     },
     "metadata": {},
     "output_type": "display_data"
    }
   ],
   "source": [
    "plt.figure(figsize=(14,10))\n",
    "plt.subplot(2,2,1)\n",
    "plt.xticks(ticks=range(len(bar_list2010)), labels=bar_list2010, rotation=90)\n",
    "x1=plt.bar(only2010_bar,only2010_sales,color=['#8A577A'],edgecolor = \"black\")\n",
    "\n",
    "plt.title(\"Total Sales in 2010 by country\")\n",
    "plt.ylabel(\"Sales in $\", fontweight='bold')\n",
    "\n",
    "plt.legend([x1], ['Sales : 2010'])\n",
    "\n",
    "plt.subplot(2,2,2)\n",
    "plt.xticks(ticks=range(len(test2011)), labels=test2011, rotation=90)\n",
    "x1=plt.bar(test2011,val2011,color=['#AC87A0'],edgecolor = \"black\")\n",
    "\n",
    "\n",
    "plt.title(\"Total Sales in 2011 by country\")\n",
    "plt.ylabel(\"Sales in $\", fontweight='bold')\n",
    "\n",
    "plt.legend([x1], ['Sales : 2011'])\n"
   ]
  },
  {
   "cell_type": "markdown",
   "id": "e2ea91a7",
   "metadata": {},
   "source": [
    "In the above graphs, the value for United Kingdom has been left out due to scaling issues. Comparision of sales of United Kingdom are given below. "
   ]
  },
  {
   "cell_type": "code",
   "execution_count": 171,
   "id": "07d4e267",
   "metadata": {
    "scrolled": false
   },
   "outputs": [
    {
     "data": {
      "image/png": "[encoded data removed]",
      "text/plain": [
       "<Figure size 500x500 with 1 Axes>"
      ]
     },
     "metadata": {},
     "output_type": "display_data"
    }
   ],
   "source": [
    "plt.figure(figsize=(5,5)) \n",
    "plt.title(\"Sales for United Kingdom in 2010 and 2011\")\n",
    "plt.ylabel(\"Sales in $million\", fontweight='bold')\n",
    "x1=plt.bar([\"UK 2010\",\"UK 2011\"],[uk2010,uk2011],color=['#8A577A', '#AC87A0'],edgecolor = \"black\",width=0.3)"
   ]
  },
  {
   "cell_type": "markdown",
   "id": "3cc66982",
   "metadata": {},
   "source": [
    "## 4. Customer Segmentation "
   ]
  },
  {
   "cell_type": "markdown",
   "id": "58ed64dc",
   "metadata": {},
   "source": [
    "RFM analysis stands for Receny Frequency and Monetary analysis. To realise this, we compute Recency Frequency and Monetary values as follows : \n",
    "1. Receny : Find the difference between the latest date of purchase and the date of report (11/12/2011) \n",
    "2. Frequency : Find the number of times each CustomerID has occured in the database\n",
    "3. Monmetary : Find the sum of the amount spent by each user. \n",
    "Then we remove those customers whose Monetary score is 0 as they have never made any purchase.\n",
    "\n",
    "To create buckets of the RFM values ,we first need to get them in the same range.\n",
    "Hence we have defined 5 sub buckets for each variable, each residing at the 20th %ile , 40th %ile , 60th %ile , 80th %ile and 100th %ile"
   ]
  },
  {
   "cell_type": "code",
   "execution_count": 22,
   "id": "a3877880",
   "metadata": {
    "scrolled": false
   },
   "outputs": [
    {
     "data": {
      "text/html": [
       "<div>\n",
       "<style scoped>\n",
       "    .dataframe tbody tr th:only-of-type {\n",
       "        vertical-align: middle;\n",
       "    }\n",
       "\n",
       "    .dataframe tbody tr th {\n",
       "        vertical-align: top;\n",
       "    }\n",
       "\n",
       "    .dataframe thead th {\n",
       "        text-align: right;\n",
       "    }\n",
       "</style>\n",
       "<table border=\"1\" class=\"dataframe\">\n",
       "  <thead>\n",
       "    <tr style=\"text-align: right;\">\n",
       "      <th></th>\n",
       "      <th>CustomerID</th>\n",
       "      <th>recency</th>\n",
       "      <th>frequency</th>\n",
       "      <th>monetary</th>\n",
       "    </tr>\n",
       "  </thead>\n",
       "  <tbody>\n",
       "    <tr>\n",
       "      <th>0</th>\n",
       "      <td>12346.0</td>\n",
       "      <td>326</td>\n",
       "      <td>2</td>\n",
       "      <td>0.00</td>\n",
       "    </tr>\n",
       "    <tr>\n",
       "      <th>1</th>\n",
       "      <td>12347.0</td>\n",
       "      <td>3</td>\n",
       "      <td>7</td>\n",
       "      <td>4310.00</td>\n",
       "    </tr>\n",
       "    <tr>\n",
       "      <th>2</th>\n",
       "      <td>12348.0</td>\n",
       "      <td>76</td>\n",
       "      <td>4</td>\n",
       "      <td>1797.24</td>\n",
       "    </tr>\n",
       "    <tr>\n",
       "      <th>3</th>\n",
       "      <td>12349.0</td>\n",
       "      <td>19</td>\n",
       "      <td>1</td>\n",
       "      <td>1757.55</td>\n",
       "    </tr>\n",
       "    <tr>\n",
       "      <th>4</th>\n",
       "      <td>12350.0</td>\n",
       "      <td>311</td>\n",
       "      <td>1</td>\n",
       "      <td>334.40</td>\n",
       "    </tr>\n",
       "  </tbody>\n",
       "</table>\n",
       "</div>"
      ],
      "text/plain": [
       "   CustomerID  recency  frequency  monetary\n",
       "0     12346.0      326          2      0.00\n",
       "1     12347.0        3          7   4310.00\n",
       "2     12348.0       76          4   1797.24\n",
       "3     12349.0       19          1   1757.55\n",
       "4     12350.0      311          1    334.40"
      ]
     },
     "execution_count": 22,
     "metadata": {},
     "output_type": "execute_result"
    }
   ],
   "source": [
    "df['InvoiceDate'].max()\n",
    "df['TotalPrice'] = df['Quantity']*df['UnitPrice']\n",
    "today_date = dt.datetime(2011,12,11)\n",
    "\n",
    "rfm = df.groupby('CustomerID').agg({'InvoiceDate': lambda x: (today_date - x.max()).days,\n",
    "                                    'InvoiceNo': lambda x: x.nunique(),\n",
    "                                    'TotalPrice': lambda x: x.sum()})\n",
    "\n",
    "rfm.columns = ['recency', 'frequency', 'monetary']\n",
    "#rfm['monetary'] = rfm[rfm['monetary'] > 0]\n",
    "rfm = rfm.reset_index()\n",
    "\n",
    "rfm.head() \n",
    "\n",
    "#Here, we are assigning certain scores to the customers based on their purchase history.\n",
    "#We count the recency based on the number of days passed since the last purchase\n",
    "#We determine the frequency based on the number of unique invoice numbers of the user\n",
    "#The monetary is the total sums of purchase made by each consumer "
   ]
  },
  {
   "cell_type": "code",
   "execution_count": 24,
   "id": "01af00e2",
   "metadata": {},
   "outputs": [],
   "source": [
    "rfm= rfm.drop(rfm[rfm['monetary']<=0].index)"
   ]
  },
  {
   "cell_type": "code",
   "execution_count": 25,
   "id": "0c33c0fa",
   "metadata": {},
   "outputs": [],
   "source": [
    "rfm_country=[]\n",
    "for i in rfm['CustomerID']:\n",
    "    cust_country=df['Country'][df['CustomerID']==i]\n",
    "    rfm_country.append(cust_country.tolist()[0])\n",
    "rfm['Country']=rfm_country"
   ]
  },
  {
   "cell_type": "code",
   "execution_count": 80,
   "id": "688a5b8a",
   "metadata": {},
   "outputs": [],
   "source": [
    "rfm_customers=rfm_stats['CustomerID'].tolist() \n",
    "#Put this as the top of the bar to indicate the max spender"
   ]
  },
  {
   "cell_type": "code",
   "execution_count": 48,
   "id": "301583d0",
   "metadata": {},
   "outputs": [],
   "source": [
    "rfm.groupby(['Country']).sum()\n",
    "AOV = pd.DataFrame()\n",
    "AOV['Country']=rfm.groupby(['Country']).sum().axes[0]\n",
    "AOV['Frequency'] = list(rfm.groupby(['Country']).sum()['frequency'])\n",
    "AOV['Monetary'] = list(rfm.groupby(['Country']).sum()['monetary'])\n",
    "AOV['AOV'] = AOV['Monetary']/AOV['Frequency']"
   ]
  },
  {
   "cell_type": "code",
   "execution_count": 72,
   "id": "2aa0299b",
   "metadata": {},
   "outputs": [],
   "source": [
    "AOV2 = AOV.copy()"
   ]
  },
  {
   "cell_type": "code",
   "execution_count": 80,
   "id": "e0358b2a",
   "metadata": {},
   "outputs": [],
   "source": [
    "AOV= AOV.drop(AOV.loc[AOV['Country'] == \"United Kingdom\"].index)"
   ]
  },
  {
   "cell_type": "code",
   "execution_count": 81,
   "id": "ca05199b",
   "metadata": {
    "scrolled": false
   },
   "outputs": [
    {
     "data": {
      "text/html": [
       "<div>\n",
       "<style scoped>\n",
       "    .dataframe tbody tr th:only-of-type {\n",
       "        vertical-align: middle;\n",
       "    }\n",
       "\n",
       "    .dataframe tbody tr th {\n",
       "        vertical-align: top;\n",
       "    }\n",
       "\n",
       "    .dataframe thead th {\n",
       "        text-align: right;\n",
       "    }\n",
       "</style>\n",
       "<table border=\"1\" class=\"dataframe\">\n",
       "  <thead>\n",
       "    <tr style=\"text-align: right;\">\n",
       "      <th></th>\n",
       "      <th>Country</th>\n",
       "      <th>Frequency</th>\n",
       "      <th>Monetary</th>\n",
       "      <th>AOV</th>\n",
       "    </tr>\n",
       "  </thead>\n",
       "  <tbody>\n",
       "    <tr>\n",
       "      <th>31</th>\n",
       "      <td>Sweden</td>\n",
       "      <td>46</td>\n",
       "      <td>36595.91</td>\n",
       "      <td>795.563261</td>\n",
       "    </tr>\n",
       "    <tr>\n",
       "      <th>32</th>\n",
       "      <td>Switzerland</td>\n",
       "      <td>73</td>\n",
       "      <td>55518.39</td>\n",
       "      <td>760.525890</td>\n",
       "    </tr>\n",
       "    <tr>\n",
       "      <th>33</th>\n",
       "      <td>USA</td>\n",
       "      <td>5</td>\n",
       "      <td>1730.92</td>\n",
       "      <td>346.184000</td>\n",
       "    </tr>\n",
       "    <tr>\n",
       "      <th>34</th>\n",
       "      <td>United Arab Emirates</td>\n",
       "      <td>3</td>\n",
       "      <td>1902.28</td>\n",
       "      <td>634.093333</td>\n",
       "    </tr>\n",
       "    <tr>\n",
       "      <th>36</th>\n",
       "      <td>Unspecified</td>\n",
       "      <td>8</td>\n",
       "      <td>2667.07</td>\n",
       "      <td>333.383750</td>\n",
       "    </tr>\n",
       "  </tbody>\n",
       "</table>\n",
       "</div>"
      ],
      "text/plain": [
       "                 Country  Frequency  Monetary         AOV\n",
       "31                Sweden         46  36595.91  795.563261\n",
       "32           Switzerland         73  55518.39  760.525890\n",
       "33                   USA          5   1730.92  346.184000\n",
       "34  United Arab Emirates          3   1902.28  634.093333\n",
       "36           Unspecified          8   2667.07  333.383750"
      ]
     },
     "execution_count": 81,
     "metadata": {},
     "output_type": "execute_result"
    }
   ],
   "source": [
    "AOV.tail(5)"
   ]
  },
  {
   "cell_type": "code",
   "execution_count": 179,
   "id": "c1ab3028",
   "metadata": {
    "scrolled": false
   },
   "outputs": [
    {
     "data": {
      "text/plain": [
       "<Figure size 1200x500 with 0 Axes>"
      ]
     },
     "metadata": {},
     "output_type": "display_data"
    },
    {
     "data": {
      "image/png": "[encoded data removed]",
      "text/plain": [
       "<Figure size 640x480 with 2 Axes>"
      ]
     },
     "metadata": {},
     "output_type": "display_data"
    }
   ],
   "source": [
    "plt.figure(figsize=(12,5)) \n",
    "\n",
    "fig, ax1 = plt.subplots()\n",
    "ax1.bar(AOV['Country'],AOV['AOV'],color=['#EEE7EC'],edgecolor = \"plum\",label=\"AOV\")\n",
    "ax1.set_ylabel(\"AOV\")\n",
    "\n",
    "plt.xticks(ticks=range(len(AOV['Country'])), labels=AOV['Country'], rotation=90)\n",
    "\n",
    "ax2 = ax1.twinx()\n",
    "ax2.plot(AOV['Country'],AOV['Frequency'],color=\"#8A577A\",label=\"Number of Orders\")\n",
    "ax2.set_ylabel('Number of Orders')\n",
    "\n",
    "plt.title(\"AOV vs Number of Orders per country\")\n",
    "fig.legend(loc =\"lower left\")\n",
    "\n",
    "plt.show()"
   ]
  },
  {
   "cell_type": "markdown",
   "id": "d72a6962",
   "metadata": {},
   "source": [
    "**In the above chart, we can see that the Number of orders is very high for France as compared to the AOV whereas the inverse is true for Neatherlands, showing us that the people in France spend lower per order but there is volume, so we can attempt to increase minimum order value.**"
   ]
  },
  {
   "cell_type": "code",
   "execution_count": 27,
   "id": "3a09bb01",
   "metadata": {},
   "outputs": [
    {
     "data": {
      "image/png": "[encoded data removed]",
      "text/plain": [
       "<Figure size 1200x500 with 1 Axes>"
      ]
     },
     "metadata": {},
     "output_type": "display_data"
    }
   ],
   "source": [
    "plt.figure(figsize=(12,5)) \n",
    "rfm_stats=rfm.groupby(['Country']).max()\n",
    "\n",
    "\n",
    "plt.xticks(ticks=range(len(rfm_stats.axes[0].tolist())), labels=rfm_stats.axes[0].tolist(), rotation=90)\n",
    "\n",
    "rfm_stats.sort_values(by='monetary', ascending=False)\n",
    "x=plt.bar(rfm_stats.axes[0].tolist(),rfm_stats['monetary'],color=['plum', 'moccasin'],edgecolor = \"black\")\n"
   ]
  },
  {
   "cell_type": "markdown",
   "id": "c7d8fcbd",
   "metadata": {},
   "source": [
    "**This shows us the single highest spender per country and we can see that one of the customers in Australia EIRE Neatherlands and the UK is spending a lot on our platform.**"
   ]
  },
  {
   "cell_type": "code",
   "execution_count": 100,
   "id": "e6822efb",
   "metadata": {},
   "outputs": [],
   "source": [
    "def get_rfm_scores(dataframe) -> pd.core.frame.DataFrame:\n",
    "    df_ = dataframe.copy()\n",
    "    df_[\"recency_score\"] = pd.qcut(df_[\"recency\"], 5, labels=[5, 4, 3, 2, 1])\n",
    "    df_[\"frequency_score\"] = pd.qcut(df_[\"frequency\"].rank(method=\"first\"), 5, labels=[1, 2, 3, 4, 5])\n",
    "    df_[\"monetary_score\"] = pd.qcut(df_[\"monetary\"], 5, labels=[1, 2, 3, 4, 5])\n",
    "    df_[\"RFM_SCORE\"] = df_[\"recency_score\"].astype(str) + df_[\"frequency_score\"].astype(str)\n",
    "\n",
    "    return df_\n",
    "\n",
    "rfm = get_rfm_scores(rfm)\n",
    "#This function creates a new dataframe after encoding the scores using Qcuts. Qcut distirbutes the values into x number of quartiles specified by the user"
   ]
  },
  {
   "cell_type": "code",
   "execution_count": 143,
   "id": "7e1f31fd",
   "metadata": {},
   "outputs": [
    {
     "data": {
      "text/html": [
       "<div>\n",
       "<style scoped>\n",
       "    .dataframe tbody tr th:only-of-type {\n",
       "        vertical-align: middle;\n",
       "    }\n",
       "\n",
       "    .dataframe tbody tr th {\n",
       "        vertical-align: top;\n",
       "    }\n",
       "\n",
       "    .dataframe thead th {\n",
       "        text-align: right;\n",
       "    }\n",
       "</style>\n",
       "<table border=\"1\" class=\"dataframe\">\n",
       "  <thead>\n",
       "    <tr style=\"text-align: right;\">\n",
       "      <th></th>\n",
       "      <th>CustomerID</th>\n",
       "      <th>recency</th>\n",
       "      <th>frequency</th>\n",
       "      <th>monetary</th>\n",
       "      <th>Country</th>\n",
       "      <th>recency_score</th>\n",
       "      <th>frequency_score</th>\n",
       "      <th>monetary_score</th>\n",
       "      <th>RFM_SCORE</th>\n",
       "      <th>segment</th>\n",
       "    </tr>\n",
       "  </thead>\n",
       "  <tbody>\n",
       "    <tr>\n",
       "      <th>1</th>\n",
       "      <td>12347.0</td>\n",
       "      <td>3</td>\n",
       "      <td>7</td>\n",
       "      <td>4310.00</td>\n",
       "      <td>Iceland</td>\n",
       "      <td>5</td>\n",
       "      <td>4</td>\n",
       "      <td>5</td>\n",
       "      <td>54</td>\n",
       "      <td>champions</td>\n",
       "    </tr>\n",
       "    <tr>\n",
       "      <th>2</th>\n",
       "      <td>12348.0</td>\n",
       "      <td>76</td>\n",
       "      <td>4</td>\n",
       "      <td>1797.24</td>\n",
       "      <td>Finland</td>\n",
       "      <td>2</td>\n",
       "      <td>3</td>\n",
       "      <td>4</td>\n",
       "      <td>23</td>\n",
       "      <td>at_Risk</td>\n",
       "    </tr>\n",
       "    <tr>\n",
       "      <th>3</th>\n",
       "      <td>12349.0</td>\n",
       "      <td>19</td>\n",
       "      <td>1</td>\n",
       "      <td>1757.55</td>\n",
       "      <td>Italy</td>\n",
       "      <td>4</td>\n",
       "      <td>1</td>\n",
       "      <td>4</td>\n",
       "      <td>41</td>\n",
       "      <td>promising</td>\n",
       "    </tr>\n",
       "    <tr>\n",
       "      <th>4</th>\n",
       "      <td>12350.0</td>\n",
       "      <td>311</td>\n",
       "      <td>1</td>\n",
       "      <td>334.40</td>\n",
       "      <td>Norway</td>\n",
       "      <td>1</td>\n",
       "      <td>1</td>\n",
       "      <td>2</td>\n",
       "      <td>11</td>\n",
       "      <td>hibernating</td>\n",
       "    </tr>\n",
       "    <tr>\n",
       "      <th>5</th>\n",
       "      <td>12352.0</td>\n",
       "      <td>37</td>\n",
       "      <td>11</td>\n",
       "      <td>1545.41</td>\n",
       "      <td>Norway</td>\n",
       "      <td>3</td>\n",
       "      <td>5</td>\n",
       "      <td>4</td>\n",
       "      <td>35</td>\n",
       "      <td>loyal_customers</td>\n",
       "    </tr>\n",
       "    <tr>\n",
       "      <th>...</th>\n",
       "      <td>...</td>\n",
       "      <td>...</td>\n",
       "      <td>...</td>\n",
       "      <td>...</td>\n",
       "      <td>...</td>\n",
       "      <td>...</td>\n",
       "      <td>...</td>\n",
       "      <td>...</td>\n",
       "      <td>...</td>\n",
       "      <td>...</td>\n",
       "    </tr>\n",
       "    <tr>\n",
       "      <th>4367</th>\n",
       "      <td>18280.0</td>\n",
       "      <td>278</td>\n",
       "      <td>1</td>\n",
       "      <td>180.60</td>\n",
       "      <td>United Kingdom</td>\n",
       "      <td>1</td>\n",
       "      <td>2</td>\n",
       "      <td>1</td>\n",
       "      <td>12</td>\n",
       "      <td>hibernating</td>\n",
       "    </tr>\n",
       "    <tr>\n",
       "      <th>4368</th>\n",
       "      <td>18281.0</td>\n",
       "      <td>181</td>\n",
       "      <td>1</td>\n",
       "      <td>80.82</td>\n",
       "      <td>United Kingdom</td>\n",
       "      <td>1</td>\n",
       "      <td>2</td>\n",
       "      <td>1</td>\n",
       "      <td>12</td>\n",
       "      <td>hibernating</td>\n",
       "    </tr>\n",
       "    <tr>\n",
       "      <th>4369</th>\n",
       "      <td>18282.0</td>\n",
       "      <td>8</td>\n",
       "      <td>3</td>\n",
       "      <td>176.60</td>\n",
       "      <td>United Kingdom</td>\n",
       "      <td>5</td>\n",
       "      <td>3</td>\n",
       "      <td>1</td>\n",
       "      <td>53</td>\n",
       "      <td>potential_loyalists</td>\n",
       "    </tr>\n",
       "    <tr>\n",
       "      <th>4370</th>\n",
       "      <td>18283.0</td>\n",
       "      <td>4</td>\n",
       "      <td>16</td>\n",
       "      <td>2094.88</td>\n",
       "      <td>United Kingdom</td>\n",
       "      <td>5</td>\n",
       "      <td>5</td>\n",
       "      <td>5</td>\n",
       "      <td>55</td>\n",
       "      <td>champions</td>\n",
       "    </tr>\n",
       "    <tr>\n",
       "      <th>4371</th>\n",
       "      <td>18287.0</td>\n",
       "      <td>43</td>\n",
       "      <td>3</td>\n",
       "      <td>1837.28</td>\n",
       "      <td>United Kingdom</td>\n",
       "      <td>3</td>\n",
       "      <td>3</td>\n",
       "      <td>4</td>\n",
       "      <td>33</td>\n",
       "      <td>need_attention</td>\n",
       "    </tr>\n",
       "  </tbody>\n",
       "</table>\n",
       "<p>4320 rows × 10 columns</p>\n",
       "</div>"
      ],
      "text/plain": [
       "      CustomerID  recency  frequency  monetary         Country recency_score  \\\n",
       "1        12347.0        3          7   4310.00         Iceland             5   \n",
       "2        12348.0       76          4   1797.24         Finland             2   \n",
       "3        12349.0       19          1   1757.55           Italy             4   \n",
       "4        12350.0      311          1    334.40          Norway             1   \n",
       "5        12352.0       37         11   1545.41          Norway             3   \n",
       "...          ...      ...        ...       ...             ...           ...   \n",
       "4367     18280.0      278          1    180.60  United Kingdom             1   \n",
       "4368     18281.0      181          1     80.82  United Kingdom             1   \n",
       "4369     18282.0        8          3    176.60  United Kingdom             5   \n",
       "4370     18283.0        4         16   2094.88  United Kingdom             5   \n",
       "4371     18287.0       43          3   1837.28  United Kingdom             3   \n",
       "\n",
       "     frequency_score monetary_score RFM_SCORE              segment  \n",
       "1                  4              5        54            champions  \n",
       "2                  3              4        23              at_Risk  \n",
       "3                  1              4        41            promising  \n",
       "4                  1              2        11          hibernating  \n",
       "5                  5              4        35      loyal_customers  \n",
       "...              ...            ...       ...                  ...  \n",
       "4367               2              1        12          hibernating  \n",
       "4368               2              1        12          hibernating  \n",
       "4369               3              1        53  potential_loyalists  \n",
       "4370               5              5        55            champions  \n",
       "4371               3              4        33       need_attention  \n",
       "\n",
       "[4320 rows x 10 columns]"
      ]
     },
     "execution_count": 143,
     "metadata": {},
     "output_type": "execute_result"
    }
   ],
   "source": [
    "rfm"
   ]
  },
  {
   "cell_type": "code",
   "execution_count": 78,
   "id": "9609b2c1",
   "metadata": {},
   "outputs": [
    {
     "data": {
      "text/plain": [
       "2022.1500000000003"
      ]
     },
     "execution_count": 78,
     "metadata": {},
     "output_type": "execute_result"
    }
   ],
   "source": [
    "np.percentile(rfm['monetary'], 80)"
   ]
  },
  {
   "cell_type": "markdown",
   "id": "5f498eeb",
   "metadata": {},
   "source": [
    "* TODO : Create a function to convert the incoming Recency ,  Frequency and Monetary value to RFM Scores."
   ]
  },
  {
   "cell_type": "code",
   "execution_count": 101,
   "id": "c8d40a76",
   "metadata": {},
   "outputs": [],
   "source": [
    "seg_map = {r'[1-2][1-2]': 'hibernating',\n",
    "           r'[1-2][3-4]': 'at_Risk',\n",
    "           r'[1-2]5': 'cant_loose',\n",
    "           r'3[1-2]': 'about_to_sleep',\n",
    "           r'33': 'need_attention',\n",
    "           r'[3-4][4-5]': 'loyal_customers',\n",
    "           r'41': 'promising',\n",
    "           r'51': 'new_customers',\n",
    "           r'[4-5][2-3]': 'potential_loyalists',\n",
    "           r'5[4-5]': 'champions'}\n",
    "\n",
    "rfm['segment'] = rfm['RFM_SCORE'].replace(seg_map, regex = True)\n",
    "\n",
    "#Here, we are assinging labels based on the 2 segment values. "
   ]
  },
  {
   "cell_type": "code",
   "execution_count": 142,
   "id": "32f58873",
   "metadata": {},
   "outputs": [
    {
     "data": {
      "text/plain": [
       "Text(0, 0.5, 'Recency')"
      ]
     },
     "execution_count": 142,
     "metadata": {},
     "output_type": "execute_result"
    },
    {
     "data": {
      "image/png": "[encoded data removed]",
      "text/plain": [
       "<Figure size 1600x1000 with 1 Axes>"
      ]
     },
     "metadata": {},
     "output_type": "display_data"
    }
   ],
   "source": [
    "plt.figure(figsize=(15,10))\n",
    "import squarify\n",
    "segments = rfm[\"segment\"].value_counts().sort_values(ascending=False)\n",
    "fig = plt.gcf()\n",
    "ax = fig.add_subplot()\n",
    "fig.set_size_inches(16, 10)\n",
    "labels=[label for label in seg_map.values()]\n",
    "squarify.plot(\n",
    "    sizes=segments,\n",
    "    edgecolor=\"white\", linewidth=6,\n",
    "    color=[\n",
    "        \"#EEE7EC\",\n",
    "        \"#DECFD9\",\n",
    "        \"#CDB7C6\",\n",
    "        \"#BC9FB3\",\n",
    "        \"#AC87A0\",\n",
    "        \"#9B6F8D\",\n",
    "        \"#8A577A\",\n",
    "        \"#9C648A\",\n",
    "        \"#793F67\",\n",
    "        \"#692754\",\n",
    "    ],\n",
    "    pad=False,\n",
    "    bar_kwargs={\"alpha\": 1},\n",
    "    text_kwargs={\"fontsize\": 15},\n",
    ")\n",
    " \n",
    "plt.legend(handles=ax.containers[0], labels=labels,fontsize=\"10\")\n",
    "\n",
    "plt.title(\"Customer Segmentation Map\", fontsize=20)\n",
    "plt.xlabel(\"Frequency\", fontsize=18)\n",
    "plt.ylabel(\"Recency\", fontsize=18)\n",
    "\n",
    "\n"
   ]
  },
  {
   "cell_type": "markdown",
   "id": "1f78f81c",
   "metadata": {},
   "source": [
    "**This map gives us the number of customers under a given segment and shows us the Frequency and Recency values for that segment. Hence, The customers which lie to the top right are the ones which have made most purchases and most recently made those purchases, meanwhile the ones at the bottom have made the lowest number of purchases and they made it a while ago.**"
   ]
  },
  {
   "cell_type": "markdown",
   "id": "9049785b",
   "metadata": {},
   "source": [
    "**Higher the recency, the lesser number of days since the last purchase.\n",
    "The higher the Frequency, the more number of total purchases**"
   ]
  },
  {
   "cell_type": "markdown",
   "id": "46c07871",
   "metadata": {},
   "source": [
    "## Task 3 : Machine Learning Model for Customer Recommender"
   ]
  },
  {
   "cell_type": "code",
   "execution_count": 14,
   "id": "75dd4ad7",
   "metadata": {
    "scrolled": false
   },
   "outputs": [
    {
     "data": {
      "text/html": [
       "<div>\n",
       "<style scoped>\n",
       "    .dataframe tbody tr th:only-of-type {\n",
       "        vertical-align: middle;\n",
       "    }\n",
       "\n",
       "    .dataframe tbody tr th {\n",
       "        vertical-align: top;\n",
       "    }\n",
       "\n",
       "    .dataframe thead th {\n",
       "        text-align: right;\n",
       "    }\n",
       "</style>\n",
       "<table border=\"1\" class=\"dataframe\">\n",
       "  <thead>\n",
       "    <tr style=\"text-align: right;\">\n",
       "      <th></th>\n",
       "      <th>InvoiceNo</th>\n",
       "      <th>StockCode</th>\n",
       "      <th>Description</th>\n",
       "      <th>Quantity</th>\n",
       "      <th>InvoiceDate</th>\n",
       "      <th>UnitPrice</th>\n",
       "      <th>CustomerID</th>\n",
       "      <th>Country</th>\n",
       "    </tr>\n",
       "  </thead>\n",
       "  <tbody>\n",
       "    <tr>\n",
       "      <th>0</th>\n",
       "      <td>536365</td>\n",
       "      <td>85123A</td>\n",
       "      <td>WHITE HANGING HEART T-LIGHT HOLDER</td>\n",
       "      <td>6</td>\n",
       "      <td>2010-12-01 08:26:00</td>\n",
       "      <td>2.55</td>\n",
       "      <td>17850.0</td>\n",
       "      <td>United Kingdom</td>\n",
       "    </tr>\n",
       "    <tr>\n",
       "      <th>1</th>\n",
       "      <td>536365</td>\n",
       "      <td>71053</td>\n",
       "      <td>WHITE METAL LANTERN</td>\n",
       "      <td>6</td>\n",
       "      <td>2010-12-01 08:26:00</td>\n",
       "      <td>3.39</td>\n",
       "      <td>17850.0</td>\n",
       "      <td>United Kingdom</td>\n",
       "    </tr>\n",
       "    <tr>\n",
       "      <th>2</th>\n",
       "      <td>536365</td>\n",
       "      <td>84406B</td>\n",
       "      <td>CREAM CUPID HEARTS COAT HANGER</td>\n",
       "      <td>8</td>\n",
       "      <td>2010-12-01 08:26:00</td>\n",
       "      <td>2.75</td>\n",
       "      <td>17850.0</td>\n",
       "      <td>United Kingdom</td>\n",
       "    </tr>\n",
       "    <tr>\n",
       "      <th>3</th>\n",
       "      <td>536365</td>\n",
       "      <td>84029G</td>\n",
       "      <td>KNITTED UNION FLAG HOT WATER BOTTLE</td>\n",
       "      <td>6</td>\n",
       "      <td>2010-12-01 08:26:00</td>\n",
       "      <td>3.39</td>\n",
       "      <td>17850.0</td>\n",
       "      <td>United Kingdom</td>\n",
       "    </tr>\n",
       "    <tr>\n",
       "      <th>4</th>\n",
       "      <td>536365</td>\n",
       "      <td>84029E</td>\n",
       "      <td>RED WOOLLY HOTTIE WHITE HEART.</td>\n",
       "      <td>6</td>\n",
       "      <td>2010-12-01 08:26:00</td>\n",
       "      <td>3.39</td>\n",
       "      <td>17850.0</td>\n",
       "      <td>United Kingdom</td>\n",
       "    </tr>\n",
       "    <tr>\n",
       "      <th>...</th>\n",
       "      <td>...</td>\n",
       "      <td>...</td>\n",
       "      <td>...</td>\n",
       "      <td>...</td>\n",
       "      <td>...</td>\n",
       "      <td>...</td>\n",
       "      <td>...</td>\n",
       "      <td>...</td>\n",
       "    </tr>\n",
       "    <tr>\n",
       "      <th>541904</th>\n",
       "      <td>581587</td>\n",
       "      <td>22613</td>\n",
       "      <td>PACK OF 20 SPACEBOY NAPKINS</td>\n",
       "      <td>12</td>\n",
       "      <td>2011-12-09 12:50:00</td>\n",
       "      <td>0.85</td>\n",
       "      <td>12680.0</td>\n",
       "      <td>France</td>\n",
       "    </tr>\n",
       "    <tr>\n",
       "      <th>541905</th>\n",
       "      <td>581587</td>\n",
       "      <td>22899</td>\n",
       "      <td>CHILDREN'S APRON DOLLY GIRL</td>\n",
       "      <td>6</td>\n",
       "      <td>2011-12-09 12:50:00</td>\n",
       "      <td>2.10</td>\n",
       "      <td>12680.0</td>\n",
       "      <td>France</td>\n",
       "    </tr>\n",
       "    <tr>\n",
       "      <th>541906</th>\n",
       "      <td>581587</td>\n",
       "      <td>23254</td>\n",
       "      <td>CHILDRENS CUTLERY DOLLY GIRL</td>\n",
       "      <td>4</td>\n",
       "      <td>2011-12-09 12:50:00</td>\n",
       "      <td>4.15</td>\n",
       "      <td>12680.0</td>\n",
       "      <td>France</td>\n",
       "    </tr>\n",
       "    <tr>\n",
       "      <th>541907</th>\n",
       "      <td>581587</td>\n",
       "      <td>23255</td>\n",
       "      <td>CHILDRENS CUTLERY CIRCUS PARADE</td>\n",
       "      <td>4</td>\n",
       "      <td>2011-12-09 12:50:00</td>\n",
       "      <td>4.15</td>\n",
       "      <td>12680.0</td>\n",
       "      <td>France</td>\n",
       "    </tr>\n",
       "    <tr>\n",
       "      <th>541908</th>\n",
       "      <td>581587</td>\n",
       "      <td>22138</td>\n",
       "      <td>BAKING SET 9 PIECE RETROSPOT</td>\n",
       "      <td>3</td>\n",
       "      <td>2011-12-09 12:50:00</td>\n",
       "      <td>4.95</td>\n",
       "      <td>12680.0</td>\n",
       "      <td>France</td>\n",
       "    </tr>\n",
       "  </tbody>\n",
       "</table>\n",
       "<p>540455 rows × 8 columns</p>\n",
       "</div>"
      ],
      "text/plain": [
       "       InvoiceNo StockCode                          Description  Quantity  \\\n",
       "0         536365    85123A   WHITE HANGING HEART T-LIGHT HOLDER         6   \n",
       "1         536365     71053                  WHITE METAL LANTERN         6   \n",
       "2         536365    84406B       CREAM CUPID HEARTS COAT HANGER         8   \n",
       "3         536365    84029G  KNITTED UNION FLAG HOT WATER BOTTLE         6   \n",
       "4         536365    84029E       RED WOOLLY HOTTIE WHITE HEART.         6   \n",
       "...          ...       ...                                  ...       ...   \n",
       "541904    581587     22613          PACK OF 20 SPACEBOY NAPKINS        12   \n",
       "541905    581587     22899         CHILDREN'S APRON DOLLY GIRL          6   \n",
       "541906    581587     23254        CHILDRENS CUTLERY DOLLY GIRL          4   \n",
       "541907    581587     23255      CHILDRENS CUTLERY CIRCUS PARADE         4   \n",
       "541908    581587     22138        BAKING SET 9 PIECE RETROSPOT          3   \n",
       "\n",
       "               InvoiceDate  UnitPrice  CustomerID         Country  \n",
       "0      2010-12-01 08:26:00       2.55     17850.0  United Kingdom  \n",
       "1      2010-12-01 08:26:00       3.39     17850.0  United Kingdom  \n",
       "2      2010-12-01 08:26:00       2.75     17850.0  United Kingdom  \n",
       "3      2010-12-01 08:26:00       3.39     17850.0  United Kingdom  \n",
       "4      2010-12-01 08:26:00       3.39     17850.0  United Kingdom  \n",
       "...                    ...        ...         ...             ...  \n",
       "541904 2011-12-09 12:50:00       0.85     12680.0          France  \n",
       "541905 2011-12-09 12:50:00       2.10     12680.0          France  \n",
       "541906 2011-12-09 12:50:00       4.15     12680.0          France  \n",
       "541907 2011-12-09 12:50:00       4.15     12680.0          France  \n",
       "541908 2011-12-09 12:50:00       4.95     12680.0          France  \n",
       "\n",
       "[540455 rows x 8 columns]"
      ]
     },
     "execution_count": 14,
     "metadata": {},
     "output_type": "execute_result"
    }
   ],
   "source": [
    "data_main"
   ]
  },
  {
   "cell_type": "code",
   "execution_count": 198,
   "id": "3ad4514e",
   "metadata": {
    "scrolled": true
   },
   "outputs": [
    {
     "data": {
      "text/plain": [
       "InvoiceNo           0\n",
       "StockCode           0\n",
       "Description         0\n",
       "Quantity            0\n",
       "InvoiceDate         0\n",
       "UnitPrice           0\n",
       "CustomerID     132905\n",
       "Country             0\n",
       "dtype: int64"
      ]
     },
     "execution_count": 198,
     "metadata": {},
     "output_type": "execute_result"
    }
   ],
   "source": [
    "cleaned_desc.isnull().sum()"
   ]
  },
  {
   "cell_type": "markdown",
   "id": "2a63fa19",
   "metadata": {},
   "source": [
    "Since the Customer ID is requiered for furthur processing , we need to drop all those which are null."
   ]
  },
  {
   "cell_type": "code",
   "execution_count": 199,
   "id": "a13e1d09",
   "metadata": {},
   "outputs": [
    {
     "data": {
      "text/plain": [
       "InvoiceNo      0\n",
       "StockCode      0\n",
       "Description    0\n",
       "Quantity       0\n",
       "InvoiceDate    0\n",
       "UnitPrice      0\n",
       "CustomerID     0\n",
       "Country        0\n",
       "dtype: int64"
      ]
     },
     "execution_count": 199,
     "metadata": {},
     "output_type": "execute_result"
    }
   ],
   "source": [
    "df_r = cleaned_desc.dropna()\n",
    "df_r.isnull().sum()"
   ]
  },
  {
   "cell_type": "markdown",
   "id": "552c81d5",
   "metadata": {},
   "source": [
    "We also know that some orderes were cancelled and we need to remove these too."
   ]
  },
  {
   "cell_type": "code",
   "execution_count": 135,
   "id": "e0f03e7e",
   "metadata": {
    "collapsed": true
   },
   "outputs": [
    {
     "data": {
      "text/html": [
       "<div>\n",
       "<style scoped>\n",
       "    .dataframe tbody tr th:only-of-type {\n",
       "        vertical-align: middle;\n",
       "    }\n",
       "\n",
       "    .dataframe tbody tr th {\n",
       "        vertical-align: top;\n",
       "    }\n",
       "\n",
       "    .dataframe thead th {\n",
       "        text-align: right;\n",
       "    }\n",
       "</style>\n",
       "<table border=\"1\" class=\"dataframe\">\n",
       "  <thead>\n",
       "    <tr style=\"text-align: right;\">\n",
       "      <th></th>\n",
       "      <th>InvoiceNo</th>\n",
       "      <th>StockCode</th>\n",
       "      <th>Description</th>\n",
       "      <th>Quantity</th>\n",
       "      <th>InvoiceDate</th>\n",
       "      <th>UnitPrice</th>\n",
       "      <th>CustomerID</th>\n",
       "      <th>Country</th>\n",
       "    </tr>\n",
       "  </thead>\n",
       "  <tbody>\n",
       "    <tr>\n",
       "      <th>0</th>\n",
       "      <td>536365</td>\n",
       "      <td>85123A</td>\n",
       "      <td>WHITE HANGING HEART T-LIGHT HOLDER</td>\n",
       "      <td>6</td>\n",
       "      <td>2010-12-01 08:26:00</td>\n",
       "      <td>2.55</td>\n",
       "      <td>17850.0</td>\n",
       "      <td>United Kingdom</td>\n",
       "    </tr>\n",
       "    <tr>\n",
       "      <th>1</th>\n",
       "      <td>536365</td>\n",
       "      <td>71053</td>\n",
       "      <td>WHITE METAL LANTERN</td>\n",
       "      <td>6</td>\n",
       "      <td>2010-12-01 08:26:00</td>\n",
       "      <td>3.39</td>\n",
       "      <td>17850.0</td>\n",
       "      <td>United Kingdom</td>\n",
       "    </tr>\n",
       "    <tr>\n",
       "      <th>2</th>\n",
       "      <td>536365</td>\n",
       "      <td>84406B</td>\n",
       "      <td>CREAM CUPID HEARTS COAT HANGER</td>\n",
       "      <td>8</td>\n",
       "      <td>2010-12-01 08:26:00</td>\n",
       "      <td>2.75</td>\n",
       "      <td>17850.0</td>\n",
       "      <td>United Kingdom</td>\n",
       "    </tr>\n",
       "    <tr>\n",
       "      <th>3</th>\n",
       "      <td>536365</td>\n",
       "      <td>84029G</td>\n",
       "      <td>KNITTED UNION FLAG HOT WATER BOTTLE</td>\n",
       "      <td>6</td>\n",
       "      <td>2010-12-01 08:26:00</td>\n",
       "      <td>3.39</td>\n",
       "      <td>17850.0</td>\n",
       "      <td>United Kingdom</td>\n",
       "    </tr>\n",
       "    <tr>\n",
       "      <th>4</th>\n",
       "      <td>536365</td>\n",
       "      <td>84029E</td>\n",
       "      <td>RED WOOLLY HOTTIE WHITE HEART.</td>\n",
       "      <td>6</td>\n",
       "      <td>2010-12-01 08:26:00</td>\n",
       "      <td>3.39</td>\n",
       "      <td>17850.0</td>\n",
       "      <td>United Kingdom</td>\n",
       "    </tr>\n",
       "    <tr>\n",
       "      <th>...</th>\n",
       "      <td>...</td>\n",
       "      <td>...</td>\n",
       "      <td>...</td>\n",
       "      <td>...</td>\n",
       "      <td>...</td>\n",
       "      <td>...</td>\n",
       "      <td>...</td>\n",
       "      <td>...</td>\n",
       "    </tr>\n",
       "    <tr>\n",
       "      <th>541904</th>\n",
       "      <td>581587</td>\n",
       "      <td>22613</td>\n",
       "      <td>PACK OF 20 SPACEBOY NAPKINS</td>\n",
       "      <td>12</td>\n",
       "      <td>2011-12-09 12:50:00</td>\n",
       "      <td>0.85</td>\n",
       "      <td>12680.0</td>\n",
       "      <td>France</td>\n",
       "    </tr>\n",
       "    <tr>\n",
       "      <th>541905</th>\n",
       "      <td>581587</td>\n",
       "      <td>22899</td>\n",
       "      <td>CHILDREN'S APRON DOLLY GIRL</td>\n",
       "      <td>6</td>\n",
       "      <td>2011-12-09 12:50:00</td>\n",
       "      <td>2.10</td>\n",
       "      <td>12680.0</td>\n",
       "      <td>France</td>\n",
       "    </tr>\n",
       "    <tr>\n",
       "      <th>541906</th>\n",
       "      <td>581587</td>\n",
       "      <td>23254</td>\n",
       "      <td>CHILDRENS CUTLERY DOLLY GIRL</td>\n",
       "      <td>4</td>\n",
       "      <td>2011-12-09 12:50:00</td>\n",
       "      <td>4.15</td>\n",
       "      <td>12680.0</td>\n",
       "      <td>France</td>\n",
       "    </tr>\n",
       "    <tr>\n",
       "      <th>541907</th>\n",
       "      <td>581587</td>\n",
       "      <td>23255</td>\n",
       "      <td>CHILDRENS CUTLERY CIRCUS PARADE</td>\n",
       "      <td>4</td>\n",
       "      <td>2011-12-09 12:50:00</td>\n",
       "      <td>4.15</td>\n",
       "      <td>12680.0</td>\n",
       "      <td>France</td>\n",
       "    </tr>\n",
       "    <tr>\n",
       "      <th>541908</th>\n",
       "      <td>581587</td>\n",
       "      <td>22138</td>\n",
       "      <td>BAKING SET 9 PIECE RETROSPOT</td>\n",
       "      <td>3</td>\n",
       "      <td>2011-12-09 12:50:00</td>\n",
       "      <td>4.95</td>\n",
       "      <td>12680.0</td>\n",
       "      <td>France</td>\n",
       "    </tr>\n",
       "  </tbody>\n",
       "</table>\n",
       "<p>395622 rows × 8 columns</p>\n",
       "</div>"
      ],
      "text/plain": [
       "       InvoiceNo StockCode                          Description  Quantity  \\\n",
       "0         536365    85123A   WHITE HANGING HEART T-LIGHT HOLDER         6   \n",
       "1         536365     71053                  WHITE METAL LANTERN         6   \n",
       "2         536365    84406B       CREAM CUPID HEARTS COAT HANGER         8   \n",
       "3         536365    84029G  KNITTED UNION FLAG HOT WATER BOTTLE         6   \n",
       "4         536365    84029E       RED WOOLLY HOTTIE WHITE HEART.         6   \n",
       "...          ...       ...                                  ...       ...   \n",
       "541904    581587     22613          PACK OF 20 SPACEBOY NAPKINS        12   \n",
       "541905    581587     22899         CHILDREN'S APRON DOLLY GIRL          6   \n",
       "541906    581587     23254        CHILDRENS CUTLERY DOLLY GIRL          4   \n",
       "541907    581587     23255      CHILDRENS CUTLERY CIRCUS PARADE         4   \n",
       "541908    581587     22138        BAKING SET 9 PIECE RETROSPOT          3   \n",
       "\n",
       "               InvoiceDate  UnitPrice  CustomerID         Country  \n",
       "0      2010-12-01 08:26:00       2.55     17850.0  United Kingdom  \n",
       "1      2010-12-01 08:26:00       3.39     17850.0  United Kingdom  \n",
       "2      2010-12-01 08:26:00       2.75     17850.0  United Kingdom  \n",
       "3      2010-12-01 08:26:00       3.39     17850.0  United Kingdom  \n",
       "4      2010-12-01 08:26:00       3.39     17850.0  United Kingdom  \n",
       "...                    ...        ...         ...             ...  \n",
       "541904 2011-12-09 12:50:00       0.85     12680.0          France  \n",
       "541905 2011-12-09 12:50:00       2.10     12680.0          France  \n",
       "541906 2011-12-09 12:50:00       4.15     12680.0          France  \n",
       "541907 2011-12-09 12:50:00       4.15     12680.0          France  \n",
       "541908 2011-12-09 12:50:00       4.95     12680.0          France  \n",
       "\n",
       "[395622 rows x 8 columns]"
      ]
     },
     "execution_count": 135,
     "metadata": {},
     "output_type": "execute_result"
    }
   ],
   "source": [
    "df_r.drop(df_r[df_r['StockCode'].str.endswith('C')].index)"
   ]
  },
  {
   "cell_type": "markdown",
   "id": "613e6560",
   "metadata": {},
   "source": [
    "From the remainder of the dataset, we only need the UserId and StockCode. Also since the model we are applying is computationally intensive, we will have to cut the datatset and only provide a Proof of Concept, To do so , we will sort the data based on customers and pick the first 20,000 data points. "
   ]
  },
  {
   "cell_type": "code",
   "execution_count": 136,
   "id": "a7505581",
   "metadata": {},
   "outputs": [],
   "source": [
    "df_r = df_r[['CustomerID','StockCode','Quantity']]"
   ]
  },
  {
   "cell_type": "code",
   "execution_count": 137,
   "id": "ed132e4f",
   "metadata": {
    "collapsed": true
   },
   "outputs": [
    {
     "data": {
      "text/html": [
       "<div>\n",
       "<style scoped>\n",
       "    .dataframe tbody tr th:only-of-type {\n",
       "        vertical-align: middle;\n",
       "    }\n",
       "\n",
       "    .dataframe tbody tr th {\n",
       "        vertical-align: top;\n",
       "    }\n",
       "\n",
       "    .dataframe thead th {\n",
       "        text-align: right;\n",
       "    }\n",
       "</style>\n",
       "<table border=\"1\" class=\"dataframe\">\n",
       "  <thead>\n",
       "    <tr style=\"text-align: right;\">\n",
       "      <th></th>\n",
       "      <th>CustomerID</th>\n",
       "      <th>StockCode</th>\n",
       "      <th>Quantity</th>\n",
       "    </tr>\n",
       "  </thead>\n",
       "  <tbody>\n",
       "    <tr>\n",
       "      <th>61624</th>\n",
       "      <td>12346.0</td>\n",
       "      <td>23166</td>\n",
       "      <td>-74215</td>\n",
       "    </tr>\n",
       "    <tr>\n",
       "      <th>61619</th>\n",
       "      <td>12346.0</td>\n",
       "      <td>23166</td>\n",
       "      <td>74215</td>\n",
       "    </tr>\n",
       "    <tr>\n",
       "      <th>428984</th>\n",
       "      <td>12347.0</td>\n",
       "      <td>22621</td>\n",
       "      <td>12</td>\n",
       "    </tr>\n",
       "    <tr>\n",
       "      <th>428983</th>\n",
       "      <td>12347.0</td>\n",
       "      <td>22492</td>\n",
       "      <td>36</td>\n",
       "    </tr>\n",
       "    <tr>\n",
       "      <th>428982</th>\n",
       "      <td>12347.0</td>\n",
       "      <td>22561</td>\n",
       "      <td>12</td>\n",
       "    </tr>\n",
       "    <tr>\n",
       "      <th>...</th>\n",
       "      <td>...</td>\n",
       "      <td>...</td>\n",
       "      <td>...</td>\n",
       "    </tr>\n",
       "    <tr>\n",
       "      <th>392721</th>\n",
       "      <td>18287.0</td>\n",
       "      <td>22600</td>\n",
       "      <td>24</td>\n",
       "    </tr>\n",
       "    <tr>\n",
       "      <th>392737</th>\n",
       "      <td>18287.0</td>\n",
       "      <td>23269</td>\n",
       "      <td>36</td>\n",
       "    </tr>\n",
       "    <tr>\n",
       "      <th>392720</th>\n",
       "      <td>18287.0</td>\n",
       "      <td>22603</td>\n",
       "      <td>24</td>\n",
       "    </tr>\n",
       "    <tr>\n",
       "      <th>198718</th>\n",
       "      <td>18287.0</td>\n",
       "      <td>22753</td>\n",
       "      <td>12</td>\n",
       "    </tr>\n",
       "    <tr>\n",
       "      <th>392736</th>\n",
       "      <td>18287.0</td>\n",
       "      <td>23223</td>\n",
       "      <td>48</td>\n",
       "    </tr>\n",
       "  </tbody>\n",
       "</table>\n",
       "<p>399737 rows × 3 columns</p>\n",
       "</div>"
      ],
      "text/plain": [
       "        CustomerID StockCode  Quantity\n",
       "61624      12346.0     23166    -74215\n",
       "61619      12346.0     23166     74215\n",
       "428984     12347.0     22621        12\n",
       "428983     12347.0     22492        36\n",
       "428982     12347.0     22561        12\n",
       "...            ...       ...       ...\n",
       "392721     18287.0     22600        24\n",
       "392737     18287.0     23269        36\n",
       "392720     18287.0     22603        24\n",
       "198718     18287.0     22753        12\n",
       "392736     18287.0     23223        48\n",
       "\n",
       "[399737 rows x 3 columns]"
      ]
     },
     "execution_count": 137,
     "metadata": {},
     "output_type": "execute_result"
    }
   ],
   "source": [
    "df_r.sort_values(by=['CustomerID'])\n",
    "df_r.drop(df_r[df_r['Quantity']<1].index)\n",
    "df_work = df_r.head(20000)"
   ]
  },
  {
   "cell_type": "code",
   "execution_count": 140,
   "id": "7ed78064",
   "metadata": {},
   "outputs": [
    {
     "data": {
      "text/plain": [
       "766"
      ]
     },
     "execution_count": 140,
     "metadata": {},
     "output_type": "execute_result"
    }
   ],
   "source": [
    "len(df_work['CustomerID'].unique())"
   ]
  },
  {
   "cell_type": "code",
   "execution_count": 141,
   "id": "230c0803",
   "metadata": {},
   "outputs": [
    {
     "data": {
      "text/plain": [
       "2230"
      ]
     },
     "execution_count": 141,
     "metadata": {},
     "output_type": "execute_result"
    }
   ],
   "source": [
    "len(df_work['StockCode'].unique())"
   ]
  },
  {
   "cell_type": "markdown",
   "id": "a82763ad",
   "metadata": {},
   "source": [
    "We will now be working with data for 756 customers and 2226 products that they have purchased."
   ]
  },
  {
   "cell_type": "code",
   "execution_count": 142,
   "id": "916f1edc",
   "metadata": {},
   "outputs": [],
   "source": [
    "df2 = df_work.pivot_table(index = ['CustomerID', 'StockCode','Quantity'], aggfunc ='size')"
   ]
  },
  {
   "cell_type": "markdown",
   "id": "27d97eca",
   "metadata": {},
   "source": [
    "df2 has the Quantity of a Stock purchased by a customer. Now we need to transform this data to a dataframe. "
   ]
  },
  {
   "cell_type": "code",
   "execution_count": 143,
   "id": "b14263e2",
   "metadata": {
    "scrolled": false
   },
   "outputs": [],
   "source": [
    "df2=df2.to_frame()\n",
    "final_dict = df2.to_dict()[0]\n",
    "\n",
    "cust = []\n",
    "code = []\n",
    "quantity=[]\n",
    "final_qty=[]\n",
    "\n",
    "for i in list(final_dict.keys()):\n",
    "    cust.append(i[0])\n",
    "    code.append(i[1])\n",
    "    quantity.append(i[2])\n",
    "final_qty = list(final_dict.values())\n",
    "\n",
    "for i in range (0,len(final_qty)):\n",
    "    final_qty[i] = final_qty[i] * quantity[i]\n",
    "    \n",
    "    df_recommend = pd.DataFrame(list(zip(cust, code,final_qty)),\n",
    "               columns =['CustomerId', 'StockCode','Qty'])"
   ]
  },
  {
   "cell_type": "markdown",
   "id": "194e5d8c",
   "metadata": {},
   "source": [
    "This is the final Dataframe that we will be applying our support vector decomposition on. "
   ]
  },
  {
   "cell_type": "code",
   "execution_count": 150,
   "id": "5dece5a3",
   "metadata": {
    "scrolled": true
   },
   "outputs": [
    {
     "data": {
      "text/html": [
       "<div>\n",
       "<style scoped>\n",
       "    .dataframe tbody tr th:only-of-type {\n",
       "        vertical-align: middle;\n",
       "    }\n",
       "\n",
       "    .dataframe tbody tr th {\n",
       "        vertical-align: top;\n",
       "    }\n",
       "\n",
       "    .dataframe thead th {\n",
       "        text-align: right;\n",
       "    }\n",
       "</style>\n",
       "<table border=\"1\" class=\"dataframe\">\n",
       "  <thead>\n",
       "    <tr style=\"text-align: right;\">\n",
       "      <th>StockCode</th>\n",
       "      <th>10002</th>\n",
       "      <th>10120</th>\n",
       "      <th>10123C</th>\n",
       "      <th>10124A</th>\n",
       "      <th>10124G</th>\n",
       "      <th>10125</th>\n",
       "      <th>10133</th>\n",
       "      <th>10135</th>\n",
       "      <th>11001</th>\n",
       "      <th>15034</th>\n",
       "      <th>...</th>\n",
       "      <th>90212B</th>\n",
       "      <th>90212C</th>\n",
       "      <th>90214B</th>\n",
       "      <th>90214C</th>\n",
       "      <th>90214J</th>\n",
       "      <th>90214K</th>\n",
       "      <th>90214M</th>\n",
       "      <th>90214S</th>\n",
       "      <th>90214V</th>\n",
       "      <th>BANK CHARGES</th>\n",
       "    </tr>\n",
       "    <tr>\n",
       "      <th>CustomerId</th>\n",
       "      <th></th>\n",
       "      <th></th>\n",
       "      <th></th>\n",
       "      <th></th>\n",
       "      <th></th>\n",
       "      <th></th>\n",
       "      <th></th>\n",
       "      <th></th>\n",
       "      <th></th>\n",
       "      <th></th>\n",
       "      <th></th>\n",
       "      <th></th>\n",
       "      <th></th>\n",
       "      <th></th>\n",
       "      <th></th>\n",
       "      <th></th>\n",
       "      <th></th>\n",
       "      <th></th>\n",
       "      <th></th>\n",
       "      <th></th>\n",
       "      <th></th>\n",
       "    </tr>\n",
       "  </thead>\n",
       "  <tbody>\n",
       "    <tr>\n",
       "      <th>12347.0</th>\n",
       "      <td>0</td>\n",
       "      <td>0</td>\n",
       "      <td>0</td>\n",
       "      <td>0</td>\n",
       "      <td>0</td>\n",
       "      <td>0</td>\n",
       "      <td>0.0</td>\n",
       "      <td>0</td>\n",
       "      <td>0</td>\n",
       "      <td>0</td>\n",
       "      <td>...</td>\n",
       "      <td>0</td>\n",
       "      <td>0</td>\n",
       "      <td>0</td>\n",
       "      <td>0</td>\n",
       "      <td>0</td>\n",
       "      <td>0</td>\n",
       "      <td>0</td>\n",
       "      <td>0.0</td>\n",
       "      <td>0</td>\n",
       "      <td>0</td>\n",
       "    </tr>\n",
       "    <tr>\n",
       "      <th>12370.0</th>\n",
       "      <td>0</td>\n",
       "      <td>0</td>\n",
       "      <td>0</td>\n",
       "      <td>0</td>\n",
       "      <td>0</td>\n",
       "      <td>0</td>\n",
       "      <td>0.0</td>\n",
       "      <td>0</td>\n",
       "      <td>0</td>\n",
       "      <td>0</td>\n",
       "      <td>...</td>\n",
       "      <td>0</td>\n",
       "      <td>0</td>\n",
       "      <td>0</td>\n",
       "      <td>0</td>\n",
       "      <td>0</td>\n",
       "      <td>0</td>\n",
       "      <td>0</td>\n",
       "      <td>0.0</td>\n",
       "      <td>0</td>\n",
       "      <td>0</td>\n",
       "    </tr>\n",
       "    <tr>\n",
       "      <th>12386.0</th>\n",
       "      <td>0</td>\n",
       "      <td>0</td>\n",
       "      <td>0</td>\n",
       "      <td>0</td>\n",
       "      <td>0</td>\n",
       "      <td>0</td>\n",
       "      <td>0.0</td>\n",
       "      <td>0</td>\n",
       "      <td>0</td>\n",
       "      <td>0</td>\n",
       "      <td>...</td>\n",
       "      <td>0</td>\n",
       "      <td>0</td>\n",
       "      <td>0</td>\n",
       "      <td>0</td>\n",
       "      <td>0</td>\n",
       "      <td>0</td>\n",
       "      <td>0</td>\n",
       "      <td>0.0</td>\n",
       "      <td>0</td>\n",
       "      <td>0</td>\n",
       "    </tr>\n",
       "    <tr>\n",
       "      <th>12395.0</th>\n",
       "      <td>0</td>\n",
       "      <td>0</td>\n",
       "      <td>0</td>\n",
       "      <td>0</td>\n",
       "      <td>0</td>\n",
       "      <td>0</td>\n",
       "      <td>0.0</td>\n",
       "      <td>0</td>\n",
       "      <td>0</td>\n",
       "      <td>0</td>\n",
       "      <td>...</td>\n",
       "      <td>0</td>\n",
       "      <td>0</td>\n",
       "      <td>0</td>\n",
       "      <td>0</td>\n",
       "      <td>0</td>\n",
       "      <td>0</td>\n",
       "      <td>0</td>\n",
       "      <td>0.0</td>\n",
       "      <td>0</td>\n",
       "      <td>0</td>\n",
       "    </tr>\n",
       "    <tr>\n",
       "      <th>12427.0</th>\n",
       "      <td>0</td>\n",
       "      <td>0</td>\n",
       "      <td>0</td>\n",
       "      <td>0</td>\n",
       "      <td>0</td>\n",
       "      <td>0</td>\n",
       "      <td>0.0</td>\n",
       "      <td>0</td>\n",
       "      <td>0</td>\n",
       "      <td>0</td>\n",
       "      <td>...</td>\n",
       "      <td>0</td>\n",
       "      <td>0</td>\n",
       "      <td>0</td>\n",
       "      <td>0</td>\n",
       "      <td>0</td>\n",
       "      <td>0</td>\n",
       "      <td>0</td>\n",
       "      <td>0.0</td>\n",
       "      <td>0</td>\n",
       "      <td>0</td>\n",
       "    </tr>\n",
       "  </tbody>\n",
       "</table>\n",
       "<p>5 rows × 2230 columns</p>\n",
       "</div>"
      ],
      "text/plain": [
       "StockCode   10002  10120  10123C  10124A  10124G  10125  10133  10135  11001  \\\n",
       "CustomerId                                                                     \n",
       "12347.0         0      0       0       0       0      0    0.0      0      0   \n",
       "12370.0         0      0       0       0       0      0    0.0      0      0   \n",
       "12386.0         0      0       0       0       0      0    0.0      0      0   \n",
       "12395.0         0      0       0       0       0      0    0.0      0      0   \n",
       "12427.0         0      0       0       0       0      0    0.0      0      0   \n",
       "\n",
       "StockCode   15034  ...  90212B  90212C  90214B  90214C  90214J  90214K  \\\n",
       "CustomerId         ...                                                   \n",
       "12347.0         0  ...       0       0       0       0       0       0   \n",
       "12370.0         0  ...       0       0       0       0       0       0   \n",
       "12386.0         0  ...       0       0       0       0       0       0   \n",
       "12395.0         0  ...       0       0       0       0       0       0   \n",
       "12427.0         0  ...       0       0       0       0       0       0   \n",
       "\n",
       "StockCode   90214M  90214S  90214V  BANK CHARGES  \n",
       "CustomerId                                        \n",
       "12347.0          0     0.0       0             0  \n",
       "12370.0          0     0.0       0             0  \n",
       "12386.0          0     0.0       0             0  \n",
       "12395.0          0     0.0       0             0  \n",
       "12427.0          0     0.0       0             0  \n",
       "\n",
       "[5 rows x 2230 columns]"
      ]
     },
     "execution_count": 150,
     "metadata": {},
     "output_type": "execute_result"
    }
   ],
   "source": [
    "ratings_utility_matrix = df_recommend.pivot_table(values='Qty', index='CustomerId', columns='StockCode', fill_value=0)\n",
    "ratings_utility_matrix.head()"
   ]
  },
  {
   "cell_type": "markdown",
   "id": "4aeb281f",
   "metadata": {},
   "source": [
    "This is our Matrix wherein the X axis has the Product Code and the Y Axis has the detail of the customer. \n",
    "The intersection has the Quantity said customer has purchsed of said product. "
   ]
  },
  {
   "cell_type": "code",
   "execution_count": 151,
   "id": "b4f22546",
   "metadata": {},
   "outputs": [],
   "source": [
    "X = ratings_utility_matrix.T\n",
    "X.head()\n",
    "X1 = X"
   ]
  },
  {
   "cell_type": "code",
   "execution_count": 152,
   "id": "0539cf0d",
   "metadata": {},
   "outputs": [
    {
     "data": {
      "text/plain": [
       "(2230, 10)"
      ]
     },
     "execution_count": 152,
     "metadata": {},
     "output_type": "execute_result"
    }
   ],
   "source": [
    "SVD = TruncatedSVD(n_components=10)\n",
    "decomposed_matrix = SVD.fit_transform(X)\n",
    "decomposed_matrix.shape"
   ]
  },
  {
   "cell_type": "markdown",
   "id": "c870cbb3",
   "metadata": {},
   "source": [
    "Here is where we reduce the above matrix into a matrix having only 10 columns without losing any data. \n",
    "Now, we will find the correlation of each product with every other product. \n",
    "For a given product P , the 10 most hihgly correlated products are the ones the customer is most likely to buy based on the Support Vector Decompositon.\n",
    "We have shown an example of this in the code below."
   ]
  },
  {
   "cell_type": "code",
   "execution_count": 153,
   "id": "b568ae52",
   "metadata": {
    "scrolled": true
   },
   "outputs": [
    {
     "data": {
      "text/plain": [
       "(2230, 2230)"
      ]
     },
     "execution_count": 153,
     "metadata": {},
     "output_type": "execute_result"
    }
   ],
   "source": [
    "correlation_matrix = np.corrcoef(decomposed_matrix)\n",
    "product_names = list(X.index)\n",
    "product_ID = product_names.index(testdata)\n",
    "correlation_product_ID = correlation_matrix[product_ID]\n",
    "\n",
    "recommended_products = list(X.index[correlation_product_ID > 0.90])\n",
    "recommended_products.remove(testdata) \n",
    "\n",
    "print(data_main.loc[data_main['StockCode'] == testdata]['Description'].unique()[0])\n",
    "\n",
    "print(\"\")\n",
    "\n",
    "for i in recommended_products[0:9]:\n",
    "    print(data_main.loc[data_main['StockCode'] == i]['Description'].unique()[0])"
   ]
  },
  {
   "cell_type": "code",
   "execution_count": 196,
   "id": "27d4004b",
   "metadata": {},
   "outputs": [],
   "source": [
    "def findRecommendText(testdata):\n",
    "    product_names = list(X.index)\n",
    "    product_ID = product_names.index(testdata)\n",
    "    correlation_product_ID = correlation_matrix[product_ID]\n",
    "    recommended_products = list(X.index[correlation_product_ID > 0.90])\n",
    "    recommended_products.remove(testdata) \n",
    "    print(\"The product previously purchased is \" + data_main.loc[data_main['StockCode'] == testdata]['Description'].unique()[0])\n",
    "    print(\"\")\n",
    "    print(\"The user is most likely to purchase the following :-\")\n",
    "    print(\"\")\n",
    "    for i in recommended_products[0:9]:\n",
    "        print(data_main.loc[data_main['StockCode'] == i]['Description'].unique()[0])\n",
    "        \n",
    "    return recommended_products[0:9]\n",
    "    "
   ]
  },
  {
   "cell_type": "code",
   "execution_count": 197,
   "id": "573e67c3",
   "metadata": {},
   "outputs": [],
   "source": [
    "def findRecommend(testdata):\n",
    "    product_names = list(X.index)\n",
    "    product_ID = product_names.index(testdata)\n",
    "    correlation_product_ID = correlation_matrix[product_ID]\n",
    "    recommended_products = list(X.index[correlation_product_ID > 0.90])\n",
    "    recommended_products.remove(testdata) \n",
    "        \n",
    "    return recommended_products[0:9]\n",
    "    "
   ]
  },
  {
   "cell_type": "code",
   "execution_count": 193,
   "id": "a47f1e44",
   "metadata": {},
   "outputs": [],
   "source": [
    "correct_class =0\n",
    "wrong = 0\n",
    "for i in X.index:\n",
    "    recommendation = findRecommend(i)\n",
    "    \n",
    "    product_pool = []\n",
    "    \n",
    "    for j in (cleaned_desc.loc[cleaned_desc['StockCode'] == i]['CustomerID']):\n",
    "        test=list(cleaned_desc.loc[cleaned_desc['CustomerID'] == j]['StockCode'])\n",
    "        product_pool.extend(test)\n",
    "        \n",
    "    for k in recommendation:\n",
    "        if (k in list(test)):\n",
    "            correct_class = correct_class +1\n",
    "            break\n",
    "    else:\n",
    "        wrong = wrong +1\n",
    "    \n"
   ]
  },
  {
   "cell_type": "code",
   "execution_count": 194,
   "id": "28ae1862",
   "metadata": {},
   "outputs": [
    {
     "data": {
      "text/plain": [
       "524"
      ]
     },
     "execution_count": 194,
     "metadata": {},
     "output_type": "execute_result"
    }
   ],
   "source": [
    "correct_class"
   ]
  },
  {
   "cell_type": "code",
   "execution_count": 195,
   "id": "937fc842",
   "metadata": {},
   "outputs": [
    {
     "data": {
      "text/plain": [
       "1706"
      ]
     },
     "execution_count": 195,
     "metadata": {},
     "output_type": "execute_result"
    }
   ],
   "source": [
    " wrong "
   ]
  },
  {
   "cell_type": "markdown",
   "id": "80fe55a5",
   "metadata": {},
   "source": [
    "#### How the tester works : \n",
    "For every produdct in our dataframe(Say p), we pass it to the recommender.\n",
    "The Recommender returns a list of 10 most likely products. \n",
    "Then, we take this product p and find every customer that has purcahsed this p. \n",
    "Then, we find every product purchased by every customer that has purchased p, This creates the product_pool. \n",
    "If even one of the recommendations are present in the product pool for product p , we classify it as a correct recommendation, else its a wrong recommendation. "
   ]
  },
  {
   "cell_type": "code",
   "execution_count": null,
   "id": "165aef6c",
   "metadata": {},
   "outputs": [],
   "source": []
  }
 ],
 "metadata": {
  "kernelspec": {
   "display_name": "Python 3 (ipykernel)",
   "language": "python",
   "name": "python3"
  },
  "language_info": {
   "codemirror_mode": {
    "name": "ipython",
    "version": 3
   },
   "file_extension": ".py",
   "mimetype": "text/x-python",
   "name": "python",
   "nbconvert_exporter": "python",
   "pygments_lexer": "ipython3",
   "version": "3.11.1"
  }
 },
 "nbformat": 4,
 "nbformat_minor": 5
}
