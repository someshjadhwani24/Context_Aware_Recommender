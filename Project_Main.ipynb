{
 "cells": [
  {
   "cell_type": "markdown",
   "id": "de453510",
   "metadata": {},
   "source": [
    "### Imports "
   ]
  },
  {
   "cell_type": "code",
   "execution_count": 1,
   "id": "a895ee48",
   "metadata": {},
   "outputs": [],
   "source": [
    "import pandas as pd\n",
    "import seaborn as sns\n",
    "import matplotlib.pyplot as plt\n",
    "import datetime as dt\n",
    "from operator import attrgetter\n",
    "import sklearn\n",
    "from sklearn.decomposition import TruncatedSVD\n",
    "import numpy as np"
   ]
  },
  {
   "cell_type": "code",
   "execution_count": 2,
   "id": "301a20e3",
   "metadata": {},
   "outputs": [],
   "source": [
    "#Reading the main dataset \n",
    "data_main = pd.read_csv(\"data.csv\" ,encoding= 'unicode_escape',parse_dates=['InvoiceDate'], infer_datetime_format=True)\n",
    "df=pd.read_csv(\"data.csv\" ,encoding= 'unicode_escape',parse_dates=['InvoiceDate'], infer_datetime_format=True)"
   ]
  },
  {
   "cell_type": "markdown",
   "id": "ff536b10",
   "metadata": {},
   "source": [
    "## Task 1 : Data cleaning and EDA "
   ]
  },
  {
   "cell_type": "markdown",
   "id": "fdb54a32",
   "metadata": {},
   "source": [
    "Subtask 1 : \n",
    "1. Find data types \n",
    "2. Find the shape\n",
    "3. Find the Null values \n",
    "4. Find Unique values for Country \n",
    "5. Remove Duplicates "
   ]
  },
  {
   "cell_type": "code",
   "execution_count": 61,
   "id": "99257e5a",
   "metadata": {},
   "outputs": [
    {
     "data": {
      "text/html": [
       "<div>\n",
       "<style scoped>\n",
       "    .dataframe tbody tr th:only-of-type {\n",
       "        vertical-align: middle;\n",
       "    }\n",
       "\n",
       "    .dataframe tbody tr th {\n",
       "        vertical-align: top;\n",
       "    }\n",
       "\n",
       "    .dataframe thead th {\n",
       "        text-align: right;\n",
       "    }\n",
       "</style>\n",
       "<table border=\"1\" class=\"dataframe\">\n",
       "  <thead>\n",
       "    <tr style=\"text-align: right;\">\n",
       "      <th></th>\n",
       "      <th>InvoiceNo</th>\n",
       "      <th>StockCode</th>\n",
       "      <th>Description</th>\n",
       "      <th>Quantity</th>\n",
       "      <th>InvoiceDate</th>\n",
       "      <th>UnitPrice</th>\n",
       "      <th>CustomerID</th>\n",
       "      <th>Country</th>\n",
       "    </tr>\n",
       "  </thead>\n",
       "  <tbody>\n",
       "    <tr>\n",
       "      <th>0</th>\n",
       "      <td>536365</td>\n",
       "      <td>85123A</td>\n",
       "      <td>WHITE HANGING HEART T-LIGHT HOLDER</td>\n",
       "      <td>6</td>\n",
       "      <td>12/1/2010 8:26</td>\n",
       "      <td>2.55</td>\n",
       "      <td>17850.0</td>\n",
       "      <td>United Kingdom</td>\n",
       "    </tr>\n",
       "    <tr>\n",
       "      <th>1</th>\n",
       "      <td>536365</td>\n",
       "      <td>71053</td>\n",
       "      <td>WHITE METAL LANTERN</td>\n",
       "      <td>6</td>\n",
       "      <td>12/1/2010 8:26</td>\n",
       "      <td>3.39</td>\n",
       "      <td>17850.0</td>\n",
       "      <td>United Kingdom</td>\n",
       "    </tr>\n",
       "    <tr>\n",
       "      <th>2</th>\n",
       "      <td>536365</td>\n",
       "      <td>84406B</td>\n",
       "      <td>CREAM CUPID HEARTS COAT HANGER</td>\n",
       "      <td>8</td>\n",
       "      <td>12/1/2010 8:26</td>\n",
       "      <td>2.75</td>\n",
       "      <td>17850.0</td>\n",
       "      <td>United Kingdom</td>\n",
       "    </tr>\n",
       "    <tr>\n",
       "      <th>3</th>\n",
       "      <td>536365</td>\n",
       "      <td>84029G</td>\n",
       "      <td>KNITTED UNION FLAG HOT WATER BOTTLE</td>\n",
       "      <td>6</td>\n",
       "      <td>12/1/2010 8:26</td>\n",
       "      <td>3.39</td>\n",
       "      <td>17850.0</td>\n",
       "      <td>United Kingdom</td>\n",
       "    </tr>\n",
       "    <tr>\n",
       "      <th>4</th>\n",
       "      <td>536365</td>\n",
       "      <td>84029E</td>\n",
       "      <td>RED WOOLLY HOTTIE WHITE HEART.</td>\n",
       "      <td>6</td>\n",
       "      <td>12/1/2010 8:26</td>\n",
       "      <td>3.39</td>\n",
       "      <td>17850.0</td>\n",
       "      <td>United Kingdom</td>\n",
       "    </tr>\n",
       "  </tbody>\n",
       "</table>\n",
       "</div>"
      ],
      "text/plain": [
       "  InvoiceNo StockCode                          Description  Quantity  \\\n",
       "0    536365    85123A   WHITE HANGING HEART T-LIGHT HOLDER         6   \n",
       "1    536365     71053                  WHITE METAL LANTERN         6   \n",
       "2    536365    84406B       CREAM CUPID HEARTS COAT HANGER         8   \n",
       "3    536365    84029G  KNITTED UNION FLAG HOT WATER BOTTLE         6   \n",
       "4    536365    84029E       RED WOOLLY HOTTIE WHITE HEART.         6   \n",
       "\n",
       "      InvoiceDate  UnitPrice  CustomerID         Country  \n",
       "0  12/1/2010 8:26       2.55     17850.0  United Kingdom  \n",
       "1  12/1/2010 8:26       3.39     17850.0  United Kingdom  \n",
       "2  12/1/2010 8:26       2.75     17850.0  United Kingdom  \n",
       "3  12/1/2010 8:26       3.39     17850.0  United Kingdom  \n",
       "4  12/1/2010 8:26       3.39     17850.0  United Kingdom  "
      ]
     },
     "execution_count": 61,
     "metadata": {},
     "output_type": "execute_result"
    }
   ],
   "source": [
    "#Basic features of the dataset : \n",
    "data_main.head(5)\n"
   ]
  },
  {
   "cell_type": "code",
   "execution_count": 15,
   "id": "928edc4e",
   "metadata": {
    "scrolled": true
   },
   "outputs": [
    {
     "data": {
      "text/plain": [
       "InvoiceNo              object\n",
       "StockCode              object\n",
       "Description            object\n",
       "Quantity                int64\n",
       "InvoiceDate    datetime64[ns]\n",
       "UnitPrice             float64\n",
       "CustomerID            float64\n",
       "Country                object\n",
       "dtype: object"
      ]
     },
     "execution_count": 15,
     "metadata": {},
     "output_type": "execute_result"
    }
   ],
   "source": [
    "data_main.dtypes"
   ]
  },
  {
   "cell_type": "code",
   "execution_count": 16,
   "id": "13b0a8b8",
   "metadata": {
    "scrolled": false
   },
   "outputs": [
    {
     "data": {
      "text/plain": [
       "InvoiceNo           0\n",
       "StockCode           0\n",
       "Description      1454\n",
       "Quantity            0\n",
       "InvoiceDate         0\n",
       "UnitPrice           0\n",
       "CustomerID     135080\n",
       "Country             0\n",
       "dtype: int64"
      ]
     },
     "execution_count": 16,
     "metadata": {},
     "output_type": "execute_result"
    }
   ],
   "source": [
    "data_main.isnull().sum()"
   ]
  },
  {
   "cell_type": "markdown",
   "id": "4e3259be",
   "metadata": {},
   "source": [
    "Here, we can see that there are 1454 items with description as Null. Since the dataset is over 5,00,000 lines long, we can let go of 1454 lines without no considerable loss of data. For the data items without CustomerID, we can still use the other columns for analysis hence for now we will not tamper with those columns. "
   ]
  },
  {
   "cell_type": "code",
   "execution_count": 17,
   "id": "e54cc385",
   "metadata": {},
   "outputs": [],
   "source": [
    "data_main = data_main.dropna(subset=['Description'])"
   ]
  },
  {
   "cell_type": "code",
   "execution_count": 18,
   "id": "adfb8e3f",
   "metadata": {},
   "outputs": [
    {
     "data": {
      "text/plain": [
       "InvoiceNo           0\n",
       "StockCode           0\n",
       "Description         0\n",
       "Quantity            0\n",
       "InvoiceDate         0\n",
       "UnitPrice           0\n",
       "CustomerID     133626\n",
       "Country             0\n",
       "dtype: int64"
      ]
     },
     "execution_count": 18,
     "metadata": {},
     "output_type": "execute_result"
    }
   ],
   "source": [
    "data_main.isnull().sum()"
   ]
  },
  {
   "cell_type": "code",
   "execution_count": 19,
   "id": "52bf7a2c",
   "metadata": {
    "scrolled": true
   },
   "outputs": [
    {
     "data": {
      "text/plain": [
       "array(['WHITE HANGING HEART T-LIGHT HOLDER', 'WHITE METAL LANTERN',\n",
       "       'CREAM CUPID HEARTS COAT HANGER', ..., 'lost',\n",
       "       'CREAM HANGING HEART T-LIGHT HOLDER',\n",
       "       'PAPER CRAFT , LITTLE BIRDIE'], dtype=object)"
      ]
     },
     "execution_count": 19,
     "metadata": {},
     "output_type": "execute_result"
    }
   ],
   "source": [
    "data_main['Description'].unique()"
   ]
  },
  {
   "cell_type": "markdown",
   "id": "b478af49",
   "metadata": {},
   "source": [
    "Since we will be using a lot of description based segmentation for our classification, we need to make sure this space is as clean as possible, even if it means loss of data. Hence we will go ahead and see the garbage values and drop them in the following parts of this code. "
   ]
  },
  {
   "cell_type": "code",
   "execution_count": 20,
   "id": "5679f864",
   "metadata": {},
   "outputs": [
    {
     "data": {
      "text/plain": [
       "array(['POSTAGE', 'Discount', 'CARRIAGE', 'Manual', 'amazon', '?',\n",
       "       'check', 'damages', 'SAMPLES', 'faulty', 'Found', 'found',\n",
       "       'counted', 'Dotcom', 'showroom', 'MIA', 'broken', '?lost',\n",
       "       'damages?', 'cracked', 'Damaged', 'damaged', 'DAMAGED', 'Display',\n",
       "       'Missing', 'returned', 'adjust', 'crushed', 'samples', 'mailout ',\n",
       "       'mailout', 'smashed', 'missing', 'FOUND', 'dotcom', 'FBA', 'ebay',\n",
       "       '?missing', 'Crushed', 'test', '??', 'Amazon', 'Dagamed', 'mouldy',\n",
       "       '20713', 'Damages', 'CHECK', 'missing?', '???lost', 'check?',\n",
       "       'AMAZON', 'wet?', 'lost??', '???', 'wet', 'mixed up', 'lost'],\n",
       "      dtype=object)"
      ]
     },
     "execution_count": 20,
     "metadata": {},
     "output_type": "execute_result"
    }
   ],
   "source": [
    "data_main[data_main['Description'].map(len) < 9]['Description'].unique()"
   ]
  },
  {
   "cell_type": "markdown",
   "id": "ea249a9a",
   "metadata": {},
   "source": [
    "Here is a list of most of the garabge values and there is no useful data in these. However, to preserve the integrity of the dataset for furthur analysis, we will subset this data into a new dataframe. "
   ]
  },
  {
   "cell_type": "code",
   "execution_count": 21,
   "id": "f92f6924",
   "metadata": {},
   "outputs": [],
   "source": [
    "cleaned_desc=data_main.drop(data_main[data_main['Description'].map(len) < 9].index,)"
   ]
  },
  {
   "cell_type": "code",
   "execution_count": 8,
   "id": "beaf91e0",
   "metadata": {},
   "outputs": [
    {
     "data": {
      "text/plain": [
       "array(['WHITE HANGING HEART T-LIGHT HOLDER', 'WHITE METAL LANTERN',\n",
       "       'CREAM CUPID HEARTS COAT HANGER', ..., '????damages????',\n",
       "       'CREAM HANGING HEART T-LIGHT HOLDER',\n",
       "       'PAPER CRAFT , LITTLE BIRDIE'], dtype=object)"
      ]
     },
     "execution_count": 8,
     "metadata": {},
     "output_type": "execute_result"
    }
   ],
   "source": [
    "cleaned_desc['Description'].unique()"
   ]
  },
  {
   "cell_type": "code",
   "execution_count": 22,
   "id": "b1caa2e9",
   "metadata": {
    "scrolled": true
   },
   "outputs": [],
   "source": [
    "drop_values=cleaned_desc[cleaned_desc['Description'].str.startswith('?')].index"
   ]
  },
  {
   "cell_type": "code",
   "execution_count": 23,
   "id": "a0bbc91d",
   "metadata": {},
   "outputs": [],
   "source": [
    "for i in drop_values:\n",
    "    \n",
    "    cleaned_desc=cleaned_desc.drop(i)"
   ]
  },
  {
   "cell_type": "code",
   "execution_count": 24,
   "id": "f5b08f01",
   "metadata": {
    "scrolled": false
   },
   "outputs": [
    {
     "data": {
      "text/plain": [
       "array(['WHITE HANGING HEART T-LIGHT HOLDER', 'WHITE METAL LANTERN',\n",
       "       'CREAM CUPID HEARTS COAT HANGER', ..., 'wet boxes',\n",
       "       'CREAM HANGING HEART T-LIGHT HOLDER',\n",
       "       'PAPER CRAFT , LITTLE BIRDIE'], dtype=object)"
      ]
     },
     "execution_count": 24,
     "metadata": {},
     "output_type": "execute_result"
    }
   ],
   "source": [
    "cleaned_desc['Description'].unique()"
   ]
  },
  {
   "cell_type": "code",
   "execution_count": 25,
   "id": "0686f76f",
   "metadata": {
    "scrolled": true
   },
   "outputs": [
    {
     "data": {
      "text/plain": [
       "array(['United Kingdom', 'France', 'Australia', 'Netherlands', 'Germany',\n",
       "       'Norway', 'EIRE', 'Switzerland', 'Spain', 'Poland', 'Portugal',\n",
       "       'Italy', 'Belgium', 'Lithuania', 'Japan', 'Iceland',\n",
       "       'Channel Islands', 'Denmark', 'Cyprus', 'Sweden', 'Austria',\n",
       "       'Israel', 'Finland', 'Bahrain', 'Greece', 'Hong Kong', 'Singapore',\n",
       "       'Lebanon', 'United Arab Emirates', 'Saudi Arabia',\n",
       "       'Czech Republic', 'Canada', 'Unspecified', 'Brazil', 'USA',\n",
       "       'European Community', 'Malta', 'RSA'], dtype=object)"
      ]
     },
     "execution_count": 25,
     "metadata": {},
     "output_type": "execute_result"
    }
   ],
   "source": [
    "cleaned_desc['Country'].unique()"
   ]
  },
  {
   "cell_type": "markdown",
   "id": "1ef141d0",
   "metadata": {},
   "source": [
    "We will be needing country values for some analysis and here there are no unknown values so we can proceed with that. "
   ]
  },
  {
   "cell_type": "markdown",
   "id": "f0386340",
   "metadata": {},
   "source": [
    "Lastely, we will be dropping duplicates so as to not corrupt our recommender system. "
   ]
  },
  {
   "cell_type": "code",
   "execution_count": 11,
   "id": "22810ab4",
   "metadata": {},
   "outputs": [],
   "source": [
    "cleaned_desc = cleaned_desc.drop_duplicates()"
   ]
  },
  {
   "cell_type": "markdown",
   "id": "567bb3a8",
   "metadata": {},
   "source": [
    "Subtask 2 : \n",
    "1. Remove null values for description. \n",
    "2. Remove values where price or quantity is negative \n",
    "3. Convert Dates to Year\n",
    "4. Create a new subset having no null values at all "
   ]
  },
  {
   "cell_type": "markdown",
   "id": "44dba172",
   "metadata": {},
   "source": [
    "## Task 2 : Data Visualization "
   ]
  },
  {
   "cell_type": "markdown",
   "id": "652e32e0",
   "metadata": {},
   "source": [
    "Subtasks : \n",
    "1. Find the number of repeat customers and number of first time customers \n",
    "2. Find YOY growth for each country \n",
    "3. Find Sales of each country year wise\n",
    "4. Identify customer segments or personas based on purchasing patterns, and how do these segments differ in terms of their purchasing behavior\n",
    "5. Which products had the most cancellations and their descriptions\n",
    "6. Segment the customers based on scores (https://www.kaggle.com/code/sercanyesiloz/crm-analytics)"
   ]
  },
  {
   "cell_type": "markdown",
   "id": "c9580812",
   "metadata": {},
   "source": [
    "## 1. Number of Repeat Customers"
   ]
  },
  {
   "cell_type": "code",
   "execution_count": 12,
   "id": "4924ae0a",
   "metadata": {},
   "outputs": [],
   "source": [
    "df_clean = df[df['Quantity'] >= 0]\n",
    "dick=df_clean.groupby(['Country']).nunique()"
   ]
  },
  {
   "cell_type": "code",
   "execution_count": 44,
   "id": "446b0be1",
   "metadata": {},
   "outputs": [],
   "source": [
    "unique_cust_count=df_clean['CustomerID'].value_counts().to_dict()"
   ]
  },
  {
   "cell_type": "code",
   "execution_count": 45,
   "id": "3b43dfbf",
   "metadata": {},
   "outputs": [
    {
     "data": {
      "text/plain": [
       "4267"
      ]
     },
     "execution_count": 45,
     "metadata": {},
     "output_type": "execute_result"
    }
   ],
   "source": [
    "repeat=[]\n",
    "first_time = []\n",
    "for key, value in unique_cust_count.items():\n",
    "    if value<2:\n",
    "        first_time.append(key)\n",
    "    else:\n",
    "        repeat.append(key)\n"
   ]
  },
  {
   "cell_type": "code",
   "execution_count": 51,
   "id": "f19eb289",
   "metadata": {},
   "outputs": [
    {
     "data": {
      "text/plain": [
       "([<matplotlib.patches.Wedge at 0x28af6d010>,\n",
       "  <matplotlib.patches.Wedge at 0x28af92f50>],\n",
       " [Text(1.098505658759626, 0.05731769075146093, 'First Time Customers'),\n",
       "  Text(-1.0985056604366472, -0.05731765861098493, 'Repeat Customers')])"
      ]
     },
     "execution_count": 51,
     "metadata": {},
     "output_type": "execute_result"
    },
    {
     "data": {
      "image/png": "[encoded data removed]",
      "text/plain": [
       "<Figure size 640x480 with 1 Axes>"
      ]
     },
     "metadata": {},
     "output_type": "display_data"
    }
   ],
   "source": [
    "mylabels=[\"First Time Customers\",\"Repeat Customers\"]\n",
    "plt.title(\"Number of repeat customers vs first timers\")\n",
    "plt.pie([len(first_time),len(repeat)],labels = mylabels,colors = ['plum', 'moccasin'])"
   ]
  },
  {
   "cell_type": "markdown",
   "id": "7d9ac697",
   "metadata": {},
   "source": [
    "From this plot we can see that > 95% of customers have made multiple purchases and hence the customer retention rate of the company is good."
   ]
  },
  {
   "cell_type": "markdown",
   "id": "d6f9389e",
   "metadata": {},
   "source": [
    "## 2. Retention rate country wise : "
   ]
  },
  {
   "cell_type": "code",
   "execution_count": 20,
   "id": "12283810",
   "metadata": {
    "collapsed": true
   },
   "outputs": [
    {
     "name": "stderr",
     "output_type": "stream",
     "text": [
      "/var/folders/mr/kssk23v57tb4236qqsb_hp1m0000gp/T/ipykernel_12083/3793910601.py:3: SettingWithCopyWarning: \n",
      "A value is trying to be set on a copy of a slice from a DataFrame.\n",
      "Try using .loc[row_indexer,col_indexer] = value instead\n",
      "\n",
      "See the caveats in the documentation: https://pandas.pydata.org/pandas-docs/stable/user_guide/indexing.html#returning-a-view-versus-a-copy\n",
      "  df_clean['InvoiceDate'] = pd.to_datetime(df_clean['InvoiceDate'])\n",
      "/var/folders/mr/kssk23v57tb4236qqsb_hp1m0000gp/T/ipykernel_12083/3793910601.py:4: SettingWithCopyWarning: \n",
      "A value is trying to be set on a copy of a slice from a DataFrame.\n",
      "Try using .loc[row_indexer,col_indexer] = value instead\n",
      "\n",
      "See the caveats in the documentation: https://pandas.pydata.org/pandas-docs/stable/user_guide/indexing.html#returning-a-view-versus-a-copy\n",
      "  df_clean['Year'] = df_clean['InvoiceDate'].dt.year\n"
     ]
    }
   ],
   "source": [
    "#Data engineeering : \n",
    "df_clean = df[df['Quantity'] >= 0]\n",
    "df_clean['InvoiceDate'] = pd.to_datetime(df_clean['InvoiceDate'])\n",
    "df_clean['Year'] = df_clean['InvoiceDate'].dt.year\n",
    "\n",
    "df2010=df_clean[df_clean['Year'] == 2010]\n",
    "final2010=[]\n",
    "df2010group=df2010.groupby(['Country'])['CustomerID'].nunique()\n",
    "list_2010 = df2010group.tolist() #List of values \n",
    "\n",
    "df2010list=df2010group.axes #List of countries\n",
    "\n",
    "for i in range(len(list_2010)):\n",
    "    final2010.append([df2010list[0][i],list_2010[i]])\n",
    "\n",
    "df2010list=df2010list[0].tolist()\n",
    "df2010group=df2010.groupby(['Country'])['CustomerID'].nunique()\n",
    "df2010list=df2010group.axes\n",
    "df2010list=df2010list[0].tolist()\n",
    "\n",
    "df2011=df_clean[df_clean['Year'] == 2011]\n",
    "final2011=[]\n",
    "df2011group=df2011.groupby(['Country'])['CustomerID'].nunique()\n",
    "list_2011 = df2011group.tolist()\n",
    "\n",
    "df2011list=df2011group.axes\n",
    "\n",
    "for i in range(len(list_2011)):\n",
    "    final2011.append([df2011list[0][i],list_2011[i]])\n",
    "df2011list=df2011list[0].tolist()\n",
    "\n",
    "df2011list.append('Lithuania')\n",
    "list_2011.append(0)\n",
    "\n",
    "#Computing the growth : \n",
    "\n",
    "country_list=[]\n",
    "change_list=[]\n",
    "for i in range(0,len(df2010list)):\n",
    "    temp=df2011list.index(df2010list[i])\n",
    "    country = df2011list[temp]\n",
    "\n",
    "    val2010 = list_2010[i]\n",
    "    val2011 = list_2011[temp]\n",
    "    \n",
    "    if(val2010==0):\n",
    "        country_list.append(df2010list[i])\n",
    "        change_list.append(0)\n",
    "    else:\n",
    "        change = (val2011-val2010)/val2010\n",
    "        country_list.append(df2010list[i])\n",
    "        change_list.append(change)\n"
   ]
  },
  {
   "cell_type": "code",
   "execution_count": 21,
   "id": "ff324f5c",
   "metadata": {},
   "outputs": [
    {
     "data": {
      "text/plain": [
       "Text(0, 0.5, 'Retention %')"
      ]
     },
     "execution_count": 21,
     "metadata": {},
     "output_type": "execute_result"
    },
    {
     "data": {
      "image/png": "[encoded data removed]",
      "text/plain": [
       "<Figure size 640x480 with 1 Axes>"
      ]
     },
     "metadata": {},
     "output_type": "display_data"
    }
   ],
   "source": [
    "#Plotting the growth rate : \n",
    "fig, ax = plt.subplots(nrows=1, ncols=1)\n",
    "ax.set_facecolor('white')\n",
    "\n",
    "plt.xticks(ticks=range(len(country_list)), labels=country_list, rotation=90)\n",
    "plt.bar(country_list,change_list, color=['plum', 'moccasin'],edgecolor = \"black\")\n",
    "plt.title(\"Retention % by country\")\n",
    "plt.ylabel(\"Retention %\", fontweight='bold')"
   ]
  },
  {
   "cell_type": "markdown",
   "id": "b71f337a",
   "metadata": {},
   "source": [
    "## 3. Sales per country annualised"
   ]
  },
  {
   "cell_type": "code",
   "execution_count": 136,
   "id": "a598a0d7",
   "metadata": {
    "collapsed": true
   },
   "outputs": [
    {
     "name": "stderr",
     "output_type": "stream",
     "text": [
      "/var/folders/mr/kssk23v57tb4236qqsb_hp1m0000gp/T/ipykernel_12083/3514464664.py:2: SettingWithCopyWarning: \n",
      "A value is trying to be set on a copy of a slice from a DataFrame.\n",
      "Try using .loc[row_indexer,col_indexer] = value instead\n",
      "\n",
      "See the caveats in the documentation: https://pandas.pydata.org/pandas-docs/stable/user_guide/indexing.html#returning-a-view-versus-a-copy\n",
      "  df_topitems['TotalPrice'] = df['Quantity'] * df['UnitPrice']\n"
     ]
    },
    {
     "name": "stdout",
     "output_type": "stream",
     "text": [
      "1032.85\n",
      "277.2\n",
      "205.74\n",
      "1809.91\n",
      "363.53\n",
      "1590.82\n",
      "1281.5\n",
      "10033.26\n",
      "892.8\n",
      "9616.31\n",
      "15241.14\n",
      "711.79\n",
      "811.5\n",
      "7705.07\n",
      "8784.48\n",
      "3787.12\n",
      "248.16\n",
      "2439.9700000000003\n",
      "1843.73\n",
      "3834.2999999999997\n",
      "1304.92\n",
      "748268.98\n"
     ]
    },
    {
     "name": "stderr",
     "output_type": "stream",
     "text": [
      "/var/folders/mr/kssk23v57tb4236qqsb_hp1m0000gp/T/ipykernel_12083/3514464664.py:3: SettingWithCopyWarning: \n",
      "A value is trying to be set on a copy of a slice from a DataFrame.\n",
      "Try using .loc[row_indexer,col_indexer] = value instead\n",
      "\n",
      "See the caveats in the documentation: https://pandas.pydata.org/pandas-docs/stable/user_guide/indexing.html#returning-a-view-versus-a-copy\n",
      "  df_topitems['InvoiceDate'] = pd.to_datetime(df_topitems['InvoiceDate'])\n",
      "/var/folders/mr/kssk23v57tb4236qqsb_hp1m0000gp/T/ipykernel_12083/3514464664.py:4: SettingWithCopyWarning: \n",
      "A value is trying to be set on a copy of a slice from a DataFrame.\n",
      "Try using .loc[row_indexer,col_indexer] = value instead\n",
      "\n",
      "See the caveats in the documentation: https://pandas.pydata.org/pandas-docs/stable/user_guide/indexing.html#returning-a-view-versus-a-copy\n",
      "  df_topitems['Year'] = df_topitems['InvoiceDate'].dt.year\n",
      "/var/folders/mr/kssk23v57tb4236qqsb_hp1m0000gp/T/ipykernel_12083/3514464664.py:8: FutureWarning: The default value of numeric_only in DataFrameGroupBy.sum is deprecated. In a future version, numeric_only will default to False. Either specify numeric_only or select only columns which should be valid for the function.\n",
      "  df_sum_2010 =df_sum_2010.groupby(['Country']).sum()\n",
      "/var/folders/mr/kssk23v57tb4236qqsb_hp1m0000gp/T/ipykernel_12083/3514464664.py:11: FutureWarning: The default value of numeric_only in DataFrameGroupBy.sum is deprecated. In a future version, numeric_only will default to False. Either specify numeric_only or select only columns which should be valid for the function.\n",
      "  df_sum_2011 =df_sum_2011.groupby(['Country']).sum()\n"
     ]
    }
   ],
   "source": [
    "#Creating a subset having the reqiuered variables\n",
    "df_topitems = df[df['Quantity'] >= 0]\n",
    "df_topitems['TotalPrice'] = df['Quantity'] * df['UnitPrice']\n",
    "df_topitems['InvoiceDate'] = pd.to_datetime(df_topitems['InvoiceDate'])\n",
    "df_topitems['Year'] = df_topitems['InvoiceDate'].dt.year\n",
    "\n",
    "#Creating subsets for 2010 and 2011 and grouping them by country\n",
    "df_sum_2010 = df_topitems[df_topitems['Year']==2010]\n",
    "df_sum_2010 =df_sum_2010.groupby(['Country']).sum()\n",
    "\n",
    "df_sum_2011 = df_topitems[df_topitems['Year']==2011]\n",
    "df_sum_2011 =df_sum_2011.groupby(['Country']).sum()\n",
    "\n",
    "#Extracting the list of countries in 2010 and 2011\n",
    "bar_list2011=df_sum_2011.axes[0].tolist()\n",
    "bar_list2010=df_sum_2010.axes[0].tolist()\n",
    "\n",
    "#Extracting the total sales country wise in 2010 and 2011\n",
    "bar_sales2011 = df_sum_2011['TotalPrice'].tolist()\n",
    "bar_sales2010 = df_sum_2010['TotalPrice'].tolist()\n",
    "\n",
    "#Dropping Lithuaina from the 2010 list as it doesnt exist in the 2011 list\n",
    "bar_list2010.pop(14)\n",
    "bar_sales2010.pop(14)\n",
    "\n",
    "#Creating a list which has the sales data from 2010 and dimensions of 2011 lists. Whichever country wasnt recorded in 2010 is assigned 0\n",
    "final_sales2010=[]\n",
    "count=0\n",
    "for i in range(len(bar_list2011)):\n",
    "    country2011 = bar_list2011[i]\n",
    "    if(country2011 in bar_list2010):\n",
    "        final_sales2010.append(bar_sales2010[count])\n",
    "        count=count+1\n",
    "    else:\n",
    "        final_sales2010.append(0)\n",
    "        \n",
    "#Dropping United Kingdom for scaling purposes\n",
    "\n",
    "test2010=bar_list2010.copy()\n",
    "test2010.pop()\n",
    "test2010.pop()\n",
    "val2010=final_sales2010.copy()\n",
    "val2010.pop()\n",
    "uk2010=val2010.pop()\n",
    "\n",
    "test2011=bar_list2011.copy()\n",
    "test2011.pop()\n",
    "test2011.pop()\n",
    "val2011=bar_sales2011.copy()\n",
    "val2011.pop()\n",
    "uk2011=val2011.pop()"
   ]
  },
  {
   "cell_type": "code",
   "execution_count": 156,
   "id": "50615f2e",
   "metadata": {},
   "outputs": [
    {
     "data": {
      "text/plain": [
       "<matplotlib.legend.Legend at 0x28659b7d0>"
      ]
     },
     "execution_count": 156,
     "metadata": {},
     "output_type": "execute_result"
    },
    {
     "data": {
      "image/png": "[encoded data removed]",
      "text/plain": [
       "<Figure size 640x480 with 1 Axes>"
      ]
     },
     "metadata": {},
     "output_type": "display_data"
    }
   ],
   "source": [
    "#Plotting the graphs \n",
    "\n",
    "fig, ax = plt.subplots(nrows=1, ncols=1)\n",
    "ax.set_facecolor('white')\n",
    "\n",
    "plt.title(\"Annualised Sales by Country\")\n",
    "plt.ylabel(\"Sales in $\", fontweight='bold')\n",
    "\n",
    "plt.xticks(ticks=range(len(test2011)), labels=test2011, rotation=90)\n",
    "plt.bar(test2011,val2011)\n",
    "\n",
    "x1=plt.bar(test2011, val2010, color='plum',edgecolor = \"black\")\n",
    "x2=plt.bar(test2011, val2011, bottom=val2010, color='moccasin',edgecolor = \"black\")\n",
    "\n",
    "plt.legend([x1, x2], ['Sales : 2010', 'Sales : 2011'])"
   ]
  },
  {
   "cell_type": "markdown",
   "id": "9780be2f",
   "metadata": {},
   "source": [
    "In the above graph, we can see that the sales of most countries in 2010 was very poor and absolutelty insignificant. However, to view this on a better scale, we have also plotted the graphs seperately. "
   ]
  },
  {
   "cell_type": "code",
   "execution_count": 230,
   "id": "bf80fda6",
   "metadata": {},
   "outputs": [
    {
     "data": {
      "text/plain": [
       "<matplotlib.legend.Legend at 0x287bcef10>"
      ]
     },
     "execution_count": 230,
     "metadata": {},
     "output_type": "execute_result"
    },
    {
     "data": {
      "image/png": "[encoded data removed]",
      "text/plain": [
       "<Figure size 1400x1000 with 2 Axes>"
      ]
     },
     "metadata": {},
     "output_type": "display_data"
    }
   ],
   "source": [
    "plt.figure(figsize=(14,10))\n",
    "plt.subplot(2,2,1)\n",
    "plt.xticks(ticks=range(len(bar_list2010)), labels=bar_list2010, rotation=90)\n",
    "x1=plt.bar(only2010_bar,only2010_sales,color=['plum'],edgecolor = \"black\")\n",
    "\n",
    "plt.title(\"Total Sales in 2010 by country\")\n",
    "plt.ylabel(\"Sales in $\", fontweight='bold')\n",
    "\n",
    "plt.legend([x1], ['Sales : 2010'])\n",
    "\n",
    "plt.subplot(2,2,2)\n",
    "plt.xticks(ticks=range(len(test2011)), labels=test2011, rotation=90)\n",
    "x1=plt.bar(test2011,val2011,color=['moccasin'],edgecolor = \"black\")\n",
    "\n",
    "plt.title(\"Total Sales in 2011 by country\")\n",
    "plt.ylabel(\"Sales in $\", fontweight='bold')\n",
    "\n",
    "plt.legend([x1], ['Sales : 2011'])\n"
   ]
  },
  {
   "cell_type": "markdown",
   "id": "e2ea91a7",
   "metadata": {},
   "source": [
    "In the above graphs, the value for United Kingdom has been left out due to scaling issues. Comparision of sales of United Kingdom are given below. "
   ]
  },
  {
   "cell_type": "code",
   "execution_count": 160,
   "id": "07d4e267",
   "metadata": {
    "scrolled": false
   },
   "outputs": [
    {
     "data": {
      "image/png": "[encoded data removed]",
      "text/plain": [
       "<Figure size 500x500 with 1 Axes>"
      ]
     },
     "metadata": {},
     "output_type": "display_data"
    }
   ],
   "source": [
    "plt.figure(figsize=(5,5)) \n",
    "plt.title(\"Sales for United Kingdom in 2010 and 2011\")\n",
    "plt.ylabel(\"Sales in $million\", fontweight='bold')\n",
    "x1=plt.bar([\"UK 2010\",\"UK 2011\"],[uk2010,uk2011],color=['plum', 'moccasin'],edgecolor = \"black\",width=0.3)"
   ]
  },
  {
   "cell_type": "markdown",
   "id": "3cc66982",
   "metadata": {},
   "source": [
    "## 4. Customer Segmentation "
   ]
  },
  {
   "cell_type": "code",
   "execution_count": 4,
   "id": "a3877880",
   "metadata": {
    "scrolled": false
   },
   "outputs": [
    {
     "data": {
      "text/html": [
       "<div>\n",
       "<style scoped>\n",
       "    .dataframe tbody tr th:only-of-type {\n",
       "        vertical-align: middle;\n",
       "    }\n",
       "\n",
       "    .dataframe tbody tr th {\n",
       "        vertical-align: top;\n",
       "    }\n",
       "\n",
       "    .dataframe thead th {\n",
       "        text-align: right;\n",
       "    }\n",
       "</style>\n",
       "<table border=\"1\" class=\"dataframe\">\n",
       "  <thead>\n",
       "    <tr style=\"text-align: right;\">\n",
       "      <th></th>\n",
       "      <th>CustomerID</th>\n",
       "      <th>recency</th>\n",
       "      <th>frequency</th>\n",
       "      <th>monetary</th>\n",
       "    </tr>\n",
       "  </thead>\n",
       "  <tbody>\n",
       "    <tr>\n",
       "      <th>0</th>\n",
       "      <td>12346.0</td>\n",
       "      <td>326</td>\n",
       "      <td>2</td>\n",
       "      <td>0.00</td>\n",
       "    </tr>\n",
       "    <tr>\n",
       "      <th>1</th>\n",
       "      <td>12347.0</td>\n",
       "      <td>3</td>\n",
       "      <td>7</td>\n",
       "      <td>4310.00</td>\n",
       "    </tr>\n",
       "    <tr>\n",
       "      <th>2</th>\n",
       "      <td>12348.0</td>\n",
       "      <td>76</td>\n",
       "      <td>4</td>\n",
       "      <td>1797.24</td>\n",
       "    </tr>\n",
       "    <tr>\n",
       "      <th>3</th>\n",
       "      <td>12349.0</td>\n",
       "      <td>19</td>\n",
       "      <td>1</td>\n",
       "      <td>1757.55</td>\n",
       "    </tr>\n",
       "    <tr>\n",
       "      <th>4</th>\n",
       "      <td>12350.0</td>\n",
       "      <td>311</td>\n",
       "      <td>1</td>\n",
       "      <td>334.40</td>\n",
       "    </tr>\n",
       "  </tbody>\n",
       "</table>\n",
       "</div>"
      ],
      "text/plain": [
       "   CustomerID  recency  frequency  monetary\n",
       "0     12346.0      326          2      0.00\n",
       "1     12347.0        3          7   4310.00\n",
       "2     12348.0       76          4   1797.24\n",
       "3     12349.0       19          1   1757.55\n",
       "4     12350.0      311          1    334.40"
      ]
     },
     "execution_count": 4,
     "metadata": {},
     "output_type": "execute_result"
    }
   ],
   "source": [
    "df['InvoiceDate'].max()\n",
    "df['TotalPrice'] = df['Quantity']*df['UnitPrice']\n",
    "today_date = dt.datetime(2011,12,11)\n",
    "\n",
    "rfm = df.groupby('CustomerID').agg({'InvoiceDate': lambda x: (today_date - x.max()).days,\n",
    "                                    'InvoiceNo': lambda x: x.nunique(),\n",
    "                                    'TotalPrice': lambda x: x.sum()})\n",
    "\n",
    "rfm.columns = ['recency', 'frequency', 'monetary']\n",
    "#rfm['monetary'] = rfm[rfm['monetary'] > 0]\n",
    "rfm = rfm.reset_index()\n",
    "\n",
    "rfm.head() \n",
    "\n",
    "#Here, we are assigning certain scores to the customers based on their purchase history.\n",
    "#We count the recency based on the number of days passed since the last purchase\n",
    "#We determine the frequency based on the number of unique invoice numbers of the user\n",
    "#The monetary is the total sums of purchase made by each consumer "
   ]
  },
  {
   "cell_type": "code",
   "execution_count": 53,
   "id": "e63610be",
   "metadata": {},
   "outputs": [
    {
     "data": {
      "text/plain": [
       "1              Iceland\n",
       "2              Finland\n",
       "3                Italy\n",
       "4               Norway\n",
       "5               Norway\n",
       "             ...      \n",
       "4367    United Kingdom\n",
       "4368    United Kingdom\n",
       "4369    United Kingdom\n",
       "4370    United Kingdom\n",
       "4371    United Kingdom\n",
       "Name: Country, Length: 4320, dtype: object"
      ]
     },
     "execution_count": 53,
     "metadata": {},
     "output_type": "execute_result"
    }
   ],
   "source": [
    "rfm['Country']"
   ]
  },
  {
   "cell_type": "code",
   "execution_count": 5,
   "id": "01af00e2",
   "metadata": {},
   "outputs": [],
   "source": [
    "drop_values1=rfm[rfm['monetary']<=0].index"
   ]
  },
  {
   "cell_type": "code",
   "execution_count": 6,
   "id": "f38ffe1f",
   "metadata": {},
   "outputs": [],
   "source": [
    "for i in drop_values1:\n",
    "    \n",
    "    rfm=rfm.drop(i) \n",
    "#We remove those values where total score is 0 since these customers havent really made any purchases"
   ]
  },
  {
   "cell_type": "code",
   "execution_count": 7,
   "id": "0c33c0fa",
   "metadata": {},
   "outputs": [],
   "source": [
    "rfm_country=[]\n",
    "for i in rfm['CustomerID']:\n",
    "    cust_country=df['Country'][df['CustomerID']==i]\n",
    "    rfm_country.append(cust_country.tolist()[0])\n",
    "rfm['Country']=rfm_country"
   ]
  },
  {
   "cell_type": "code",
   "execution_count": 8,
   "id": "688a5b8a",
   "metadata": {},
   "outputs": [
    {
     "ename": "NameError",
     "evalue": "name 'rfm_stats' is not defined",
     "output_type": "error",
     "traceback": [
      "\u001b[0;31m---------------------------------------------------------------------------\u001b[0m",
      "\u001b[0;31mNameError\u001b[0m                                 Traceback (most recent call last)",
      "Cell \u001b[0;32mIn[8], line 1\u001b[0m\n\u001b[0;32m----> 1\u001b[0m rfm_customers\u001b[38;5;241m=\u001b[39m\u001b[43mrfm_stats\u001b[49m[\u001b[38;5;124m'\u001b[39m\u001b[38;5;124mCustomerID\u001b[39m\u001b[38;5;124m'\u001b[39m]\u001b[38;5;241m.\u001b[39mtolist() \n\u001b[1;32m      2\u001b[0m \u001b[38;5;66;03m#Put this as the top of the bar to indicate the max spender\u001b[39;00m\n",
      "\u001b[0;31mNameError\u001b[0m: name 'rfm_stats' is not defined"
     ]
    }
   ],
   "source": [
    "rfm_customers=rfm_stats['CustomerID'].tolist() \n",
    "#Put this as the top of the bar to indicate the max spender"
   ]
  },
  {
   "cell_type": "code",
   "execution_count": 9,
   "id": "e6c7398b",
   "metadata": {},
   "outputs": [
    {
     "data": {
      "image/png": "[encoded data removed]",
      "text/plain": [
       "<Figure size 1200x500 with 1 Axes>"
      ]
     },
     "metadata": {},
     "output_type": "display_data"
    }
   ],
   "source": [
    "plt.figure(figsize=(12,5)) \n",
    "rfm_stats=rfm.groupby(['Country']).max()\n",
    "\n",
    "\n",
    "plt.xticks(ticks=range(len(rfm_stats.axes[0].tolist())), labels=rfm_stats.axes[0].tolist(), rotation=90)\n",
    "\n",
    "rfm_stats.sort_values(by='monetary', ascending=False)\n",
    "x=plt.bar(rfm_stats.axes[0].tolist(),rfm_stats['monetary'],color=['plum', 'moccasin'],edgecolor = \"black\")\n"
   ]
  },
  {
   "cell_type": "markdown",
   "id": "fd393449",
   "metadata": {},
   "source": [
    "This graph shows us the biggest spenders per conutry."
   ]
  },
  {
   "cell_type": "code",
   "execution_count": 10,
   "id": "e6822efb",
   "metadata": {},
   "outputs": [],
   "source": [
    "def get_rfm_scores(dataframe) -> pd.core.frame.DataFrame:\n",
    "\n",
    "    df_ = dataframe.copy()\n",
    "    df_[\"recency_score\"] = pd.qcut(df_[\"recency\"], 5, labels=[5, 4, 3, 2, 1])\n",
    "    df_[\"frequency_score\"] = pd.qcut(\n",
    "        df_[\"frequency\"].rank(method=\"first\"), 5, labels=[1, 2, 3, 4, 5]\n",
    "    )\n",
    "    df_[\"monetary_score\"] = pd.qcut(df_[\"monetary\"], 5, labels=[1, 2, 3, 4, 5])\n",
    "    df_[\"RFM_SCORE\"] = df_[\"recency_score\"].astype(str) + df_[\"frequency_score\"].astype(\n",
    "        str\n",
    "    )\n",
    "\n",
    "    return df_\n",
    "\n",
    "\n",
    "rfm = get_rfm_scores(rfm)\n",
    "#This function creates a new dataframe after encoding the scores using Qcuts. Qcut distirbutes the values into x number of quartiles specified by the user"
   ]
  },
  {
   "cell_type": "code",
   "execution_count": 11,
   "id": "c8d40a76",
   "metadata": {},
   "outputs": [],
   "source": [
    "seg_map = {r'[1-2][1-2]': 'hibernating',\n",
    "           r'[1-2][3-4]': 'at_Risk',\n",
    "           r'[1-2]5': 'cant_loose',\n",
    "           r'3[1-2]': 'about_to_sleep',\n",
    "           r'33': 'need_attention',\n",
    "           r'[3-4][4-5]': 'loyal_customers',\n",
    "           r'41': 'promising',\n",
    "           r'51': 'new_customers',\n",
    "           r'[4-5][2-3]': 'potential_loyalists',\n",
    "           r'5[4-5]': 'champions'}\n",
    "\n",
    "rfm['segment'] = rfm['RFM_SCORE'].replace(seg_map, regex = True)\n",
    "\n",
    "#Here, we are assinging labels based on the 2 segment values. "
   ]
  },
  {
   "cell_type": "code",
   "execution_count": 95,
   "id": "c4c5bef5",
   "metadata": {},
   "outputs": [
    {
     "data": {
      "text/html": [
       "<div>\n",
       "<style scoped>\n",
       "    .dataframe tbody tr th:only-of-type {\n",
       "        vertical-align: middle;\n",
       "    }\n",
       "\n",
       "    .dataframe tbody tr th {\n",
       "        vertical-align: top;\n",
       "    }\n",
       "\n",
       "    .dataframe thead th {\n",
       "        text-align: right;\n",
       "    }\n",
       "</style>\n",
       "<table border=\"1\" class=\"dataframe\">\n",
       "  <thead>\n",
       "    <tr style=\"text-align: right;\">\n",
       "      <th></th>\n",
       "      <th>CustomerID</th>\n",
       "      <th>recency</th>\n",
       "      <th>frequency</th>\n",
       "      <th>monetary</th>\n",
       "      <th>Country</th>\n",
       "      <th>recency_score</th>\n",
       "      <th>frequency_score</th>\n",
       "      <th>monetary_score</th>\n",
       "      <th>RFM_SCORE</th>\n",
       "    </tr>\n",
       "  </thead>\n",
       "  <tbody>\n",
       "    <tr>\n",
       "      <th>1</th>\n",
       "      <td>12347.0</td>\n",
       "      <td>3</td>\n",
       "      <td>7</td>\n",
       "      <td>4310.00</td>\n",
       "      <td>Iceland</td>\n",
       "      <td>5</td>\n",
       "      <td>4</td>\n",
       "      <td>5</td>\n",
       "      <td>54</td>\n",
       "    </tr>\n",
       "    <tr>\n",
       "      <th>2</th>\n",
       "      <td>12348.0</td>\n",
       "      <td>76</td>\n",
       "      <td>4</td>\n",
       "      <td>1797.24</td>\n",
       "      <td>Finland</td>\n",
       "      <td>2</td>\n",
       "      <td>3</td>\n",
       "      <td>4</td>\n",
       "      <td>23</td>\n",
       "    </tr>\n",
       "    <tr>\n",
       "      <th>3</th>\n",
       "      <td>12349.0</td>\n",
       "      <td>19</td>\n",
       "      <td>1</td>\n",
       "      <td>1757.55</td>\n",
       "      <td>Italy</td>\n",
       "      <td>4</td>\n",
       "      <td>1</td>\n",
       "      <td>4</td>\n",
       "      <td>41</td>\n",
       "    </tr>\n",
       "    <tr>\n",
       "      <th>4</th>\n",
       "      <td>12350.0</td>\n",
       "      <td>311</td>\n",
       "      <td>1</td>\n",
       "      <td>334.40</td>\n",
       "      <td>Norway</td>\n",
       "      <td>1</td>\n",
       "      <td>1</td>\n",
       "      <td>2</td>\n",
       "      <td>11</td>\n",
       "    </tr>\n",
       "    <tr>\n",
       "      <th>5</th>\n",
       "      <td>12352.0</td>\n",
       "      <td>37</td>\n",
       "      <td>11</td>\n",
       "      <td>1545.41</td>\n",
       "      <td>Norway</td>\n",
       "      <td>3</td>\n",
       "      <td>5</td>\n",
       "      <td>4</td>\n",
       "      <td>35</td>\n",
       "    </tr>\n",
       "    <tr>\n",
       "      <th>...</th>\n",
       "      <td>...</td>\n",
       "      <td>...</td>\n",
       "      <td>...</td>\n",
       "      <td>...</td>\n",
       "      <td>...</td>\n",
       "      <td>...</td>\n",
       "      <td>...</td>\n",
       "      <td>...</td>\n",
       "      <td>...</td>\n",
       "    </tr>\n",
       "    <tr>\n",
       "      <th>4367</th>\n",
       "      <td>18280.0</td>\n",
       "      <td>278</td>\n",
       "      <td>1</td>\n",
       "      <td>180.60</td>\n",
       "      <td>United Kingdom</td>\n",
       "      <td>1</td>\n",
       "      <td>2</td>\n",
       "      <td>1</td>\n",
       "      <td>12</td>\n",
       "    </tr>\n",
       "    <tr>\n",
       "      <th>4368</th>\n",
       "      <td>18281.0</td>\n",
       "      <td>181</td>\n",
       "      <td>1</td>\n",
       "      <td>80.82</td>\n",
       "      <td>United Kingdom</td>\n",
       "      <td>1</td>\n",
       "      <td>2</td>\n",
       "      <td>1</td>\n",
       "      <td>12</td>\n",
       "    </tr>\n",
       "    <tr>\n",
       "      <th>4369</th>\n",
       "      <td>18282.0</td>\n",
       "      <td>8</td>\n",
       "      <td>3</td>\n",
       "      <td>176.60</td>\n",
       "      <td>United Kingdom</td>\n",
       "      <td>5</td>\n",
       "      <td>3</td>\n",
       "      <td>1</td>\n",
       "      <td>53</td>\n",
       "    </tr>\n",
       "    <tr>\n",
       "      <th>4370</th>\n",
       "      <td>18283.0</td>\n",
       "      <td>4</td>\n",
       "      <td>16</td>\n",
       "      <td>2094.88</td>\n",
       "      <td>United Kingdom</td>\n",
       "      <td>5</td>\n",
       "      <td>5</td>\n",
       "      <td>5</td>\n",
       "      <td>55</td>\n",
       "    </tr>\n",
       "    <tr>\n",
       "      <th>4371</th>\n",
       "      <td>18287.0</td>\n",
       "      <td>43</td>\n",
       "      <td>3</td>\n",
       "      <td>1837.28</td>\n",
       "      <td>United Kingdom</td>\n",
       "      <td>3</td>\n",
       "      <td>3</td>\n",
       "      <td>4</td>\n",
       "      <td>33</td>\n",
       "    </tr>\n",
       "  </tbody>\n",
       "</table>\n",
       "<p>4320 rows × 9 columns</p>\n",
       "</div>"
      ],
      "text/plain": [
       "      CustomerID  recency  frequency  monetary         Country recency_score  \\\n",
       "1        12347.0        3          7   4310.00         Iceland             5   \n",
       "2        12348.0       76          4   1797.24         Finland             2   \n",
       "3        12349.0       19          1   1757.55           Italy             4   \n",
       "4        12350.0      311          1    334.40          Norway             1   \n",
       "5        12352.0       37         11   1545.41          Norway             3   \n",
       "...          ...      ...        ...       ...             ...           ...   \n",
       "4367     18280.0      278          1    180.60  United Kingdom             1   \n",
       "4368     18281.0      181          1     80.82  United Kingdom             1   \n",
       "4369     18282.0        8          3    176.60  United Kingdom             5   \n",
       "4370     18283.0        4         16   2094.88  United Kingdom             5   \n",
       "4371     18287.0       43          3   1837.28  United Kingdom             3   \n",
       "\n",
       "     frequency_score monetary_score RFM_SCORE  \n",
       "1                  4              5        54  \n",
       "2                  3              4        23  \n",
       "3                  1              4        41  \n",
       "4                  1              2        11  \n",
       "5                  5              4        35  \n",
       "...              ...            ...       ...  \n",
       "4367               2              1        12  \n",
       "4368               2              1        12  \n",
       "4369               3              1        53  \n",
       "4370               5              5        55  \n",
       "4371               3              4        33  \n",
       "\n",
       "[4320 rows x 9 columns]"
      ]
     },
     "execution_count": 95,
     "metadata": {},
     "output_type": "execute_result"
    }
   ],
   "source": [
    "rfm"
   ]
  },
  {
   "cell_type": "code",
   "execution_count": 15,
   "id": "32f58873",
   "metadata": {},
   "outputs": [
    {
     "data": {
      "text/plain": [
       "Text(0, 0.5, 'Recency')"
      ]
     },
     "execution_count": 15,
     "metadata": {},
     "output_type": "execute_result"
    },
    {
     "data": {
      "image/png": "[encoded data removed]",
      "text/plain": [
       "<Figure size 1600x1000 with 1 Axes>"
      ]
     },
     "metadata": {},
     "output_type": "display_data"
    }
   ],
   "source": [
    "import squarify\n",
    "segments = rfm[\"segment\"].value_counts().sort_values(ascending=False)\n",
    "fig = plt.gcf()\n",
    "ax = fig.add_subplot()\n",
    "fig.set_size_inches(16, 10)\n",
    "labels=[label for label in seg_map.values()]\n",
    "squarify.plot(\n",
    "    sizes=segments,\n",
    "    edgecolor=\"white\", linewidth=6,\n",
    "    color=[\n",
    "        \"#E9F4FF\",\n",
    "        \"plum\",\n",
    "        \"lightsalmon\",\n",
    "        \"lightskyblue\",\n",
    "        \"rosybrown\",\n",
    "        \"lavenderblush\",\n",
    "        \"lightsteelblue\",\n",
    "        \"darkseagreen\",\n",
    "        \"moccasin\",\n",
    "        \"silver\",\n",
    "    ],\n",
    "    pad=False,\n",
    "    bar_kwargs={\"alpha\": 1},\n",
    "    text_kwargs={\"fontsize\": 15},\n",
    ")\n",
    "plt.legend(handles=ax.containers[0], labels=labels,loc=3)\n",
    "plt.title(\"Customer Segmentation Map\", fontsize=20)\n",
    "plt.xlabel(\"Frequency\", fontsize=18)\n",
    "plt.ylabel(\"Recency\", fontsize=18)\n"
   ]
  },
  {
   "cell_type": "markdown",
   "id": "1f78f81c",
   "metadata": {},
   "source": [
    "This map gives us the number of customers under a given segment and shows us the Frequency and Recency values for that segment. Hence, The customers which lie to the top right are the ones which have made most purchases and most recently made those purchases, meanwhile the ones at the bottom have made the lowest number of purchases and they made it a while ago."
   ]
  },
  {
   "cell_type": "markdown",
   "id": "9049785b",
   "metadata": {},
   "source": [
    "Higher the recency, the lesser number of days since the last purchase.\n",
    "The higher the Frequency, the more number of total purchases(unique order id for a given customer id) "
   ]
  },
  {
   "cell_type": "markdown",
   "id": "46c07871",
   "metadata": {},
   "source": [
    "## Task 3 : Machine Learning Model for Customer Recommender"
   ]
  },
  {
   "cell_type": "code",
   "execution_count": 29,
   "id": "75dd4ad7",
   "metadata": {
    "scrolled": false
   },
   "outputs": [
    {
     "data": {
      "text/html": [
       "<div>\n",
       "<style scoped>\n",
       "    .dataframe tbody tr th:only-of-type {\n",
       "        vertical-align: middle;\n",
       "    }\n",
       "\n",
       "    .dataframe tbody tr th {\n",
       "        vertical-align: top;\n",
       "    }\n",
       "\n",
       "    .dataframe thead th {\n",
       "        text-align: right;\n",
       "    }\n",
       "</style>\n",
       "<table border=\"1\" class=\"dataframe\">\n",
       "  <thead>\n",
       "    <tr style=\"text-align: right;\">\n",
       "      <th></th>\n",
       "      <th>InvoiceNo</th>\n",
       "      <th>StockCode</th>\n",
       "      <th>Description</th>\n",
       "      <th>Quantity</th>\n",
       "      <th>InvoiceDate</th>\n",
       "      <th>UnitPrice</th>\n",
       "      <th>CustomerID</th>\n",
       "      <th>Country</th>\n",
       "    </tr>\n",
       "  </thead>\n",
       "  <tbody>\n",
       "    <tr>\n",
       "      <th>0</th>\n",
       "      <td>536365</td>\n",
       "      <td>85123A</td>\n",
       "      <td>WHITE HANGING HEART T-LIGHT HOLDER</td>\n",
       "      <td>6</td>\n",
       "      <td>2010-12-01 08:26:00</td>\n",
       "      <td>2.55</td>\n",
       "      <td>17850.0</td>\n",
       "      <td>United Kingdom</td>\n",
       "    </tr>\n",
       "    <tr>\n",
       "      <th>1</th>\n",
       "      <td>536365</td>\n",
       "      <td>71053</td>\n",
       "      <td>WHITE METAL LANTERN</td>\n",
       "      <td>6</td>\n",
       "      <td>2010-12-01 08:26:00</td>\n",
       "      <td>3.39</td>\n",
       "      <td>17850.0</td>\n",
       "      <td>United Kingdom</td>\n",
       "    </tr>\n",
       "    <tr>\n",
       "      <th>2</th>\n",
       "      <td>536365</td>\n",
       "      <td>84406B</td>\n",
       "      <td>CREAM CUPID HEARTS COAT HANGER</td>\n",
       "      <td>8</td>\n",
       "      <td>2010-12-01 08:26:00</td>\n",
       "      <td>2.75</td>\n",
       "      <td>17850.0</td>\n",
       "      <td>United Kingdom</td>\n",
       "    </tr>\n",
       "    <tr>\n",
       "      <th>3</th>\n",
       "      <td>536365</td>\n",
       "      <td>84029G</td>\n",
       "      <td>KNITTED UNION FLAG HOT WATER BOTTLE</td>\n",
       "      <td>6</td>\n",
       "      <td>2010-12-01 08:26:00</td>\n",
       "      <td>3.39</td>\n",
       "      <td>17850.0</td>\n",
       "      <td>United Kingdom</td>\n",
       "    </tr>\n",
       "    <tr>\n",
       "      <th>4</th>\n",
       "      <td>536365</td>\n",
       "      <td>84029E</td>\n",
       "      <td>RED WOOLLY HOTTIE WHITE HEART.</td>\n",
       "      <td>6</td>\n",
       "      <td>2010-12-01 08:26:00</td>\n",
       "      <td>3.39</td>\n",
       "      <td>17850.0</td>\n",
       "      <td>United Kingdom</td>\n",
       "    </tr>\n",
       "    <tr>\n",
       "      <th>...</th>\n",
       "      <td>...</td>\n",
       "      <td>...</td>\n",
       "      <td>...</td>\n",
       "      <td>...</td>\n",
       "      <td>...</td>\n",
       "      <td>...</td>\n",
       "      <td>...</td>\n",
       "      <td>...</td>\n",
       "    </tr>\n",
       "    <tr>\n",
       "      <th>541904</th>\n",
       "      <td>581587</td>\n",
       "      <td>22613</td>\n",
       "      <td>PACK OF 20 SPACEBOY NAPKINS</td>\n",
       "      <td>12</td>\n",
       "      <td>2011-12-09 12:50:00</td>\n",
       "      <td>0.85</td>\n",
       "      <td>12680.0</td>\n",
       "      <td>France</td>\n",
       "    </tr>\n",
       "    <tr>\n",
       "      <th>541905</th>\n",
       "      <td>581587</td>\n",
       "      <td>22899</td>\n",
       "      <td>CHILDREN'S APRON DOLLY GIRL</td>\n",
       "      <td>6</td>\n",
       "      <td>2011-12-09 12:50:00</td>\n",
       "      <td>2.10</td>\n",
       "      <td>12680.0</td>\n",
       "      <td>France</td>\n",
       "    </tr>\n",
       "    <tr>\n",
       "      <th>541906</th>\n",
       "      <td>581587</td>\n",
       "      <td>23254</td>\n",
       "      <td>CHILDRENS CUTLERY DOLLY GIRL</td>\n",
       "      <td>4</td>\n",
       "      <td>2011-12-09 12:50:00</td>\n",
       "      <td>4.15</td>\n",
       "      <td>12680.0</td>\n",
       "      <td>France</td>\n",
       "    </tr>\n",
       "    <tr>\n",
       "      <th>541907</th>\n",
       "      <td>581587</td>\n",
       "      <td>23255</td>\n",
       "      <td>CHILDRENS CUTLERY CIRCUS PARADE</td>\n",
       "      <td>4</td>\n",
       "      <td>2011-12-09 12:50:00</td>\n",
       "      <td>4.15</td>\n",
       "      <td>12680.0</td>\n",
       "      <td>France</td>\n",
       "    </tr>\n",
       "    <tr>\n",
       "      <th>541908</th>\n",
       "      <td>581587</td>\n",
       "      <td>22138</td>\n",
       "      <td>BAKING SET 9 PIECE RETROSPOT</td>\n",
       "      <td>3</td>\n",
       "      <td>2011-12-09 12:50:00</td>\n",
       "      <td>4.95</td>\n",
       "      <td>12680.0</td>\n",
       "      <td>France</td>\n",
       "    </tr>\n",
       "  </tbody>\n",
       "</table>\n",
       "<p>540455 rows × 8 columns</p>\n",
       "</div>"
      ],
      "text/plain": [
       "       InvoiceNo StockCode                          Description  Quantity  \\\n",
       "0         536365    85123A   WHITE HANGING HEART T-LIGHT HOLDER         6   \n",
       "1         536365     71053                  WHITE METAL LANTERN         6   \n",
       "2         536365    84406B       CREAM CUPID HEARTS COAT HANGER         8   \n",
       "3         536365    84029G  KNITTED UNION FLAG HOT WATER BOTTLE         6   \n",
       "4         536365    84029E       RED WOOLLY HOTTIE WHITE HEART.         6   \n",
       "...          ...       ...                                  ...       ...   \n",
       "541904    581587     22613          PACK OF 20 SPACEBOY NAPKINS        12   \n",
       "541905    581587     22899         CHILDREN'S APRON DOLLY GIRL          6   \n",
       "541906    581587     23254        CHILDRENS CUTLERY DOLLY GIRL          4   \n",
       "541907    581587     23255      CHILDRENS CUTLERY CIRCUS PARADE         4   \n",
       "541908    581587     22138        BAKING SET 9 PIECE RETROSPOT          3   \n",
       "\n",
       "               InvoiceDate  UnitPrice  CustomerID         Country  \n",
       "0      2010-12-01 08:26:00       2.55     17850.0  United Kingdom  \n",
       "1      2010-12-01 08:26:00       3.39     17850.0  United Kingdom  \n",
       "2      2010-12-01 08:26:00       2.75     17850.0  United Kingdom  \n",
       "3      2010-12-01 08:26:00       3.39     17850.0  United Kingdom  \n",
       "4      2010-12-01 08:26:00       3.39     17850.0  United Kingdom  \n",
       "...                    ...        ...         ...             ...  \n",
       "541904 2011-12-09 12:50:00       0.85     12680.0          France  \n",
       "541905 2011-12-09 12:50:00       2.10     12680.0          France  \n",
       "541906 2011-12-09 12:50:00       4.15     12680.0          France  \n",
       "541907 2011-12-09 12:50:00       4.15     12680.0          France  \n",
       "541908 2011-12-09 12:50:00       4.95     12680.0          France  \n",
       "\n",
       "[540455 rows x 8 columns]"
      ]
     },
     "execution_count": 29,
     "metadata": {},
     "output_type": "execute_result"
    }
   ],
   "source": [
    "data_main"
   ]
  },
  {
   "cell_type": "code",
   "execution_count": 31,
   "id": "3ad4514e",
   "metadata": {},
   "outputs": [
    {
     "data": {
      "text/plain": [
       "InvoiceNo           0\n",
       "StockCode           0\n",
       "Description         0\n",
       "Quantity            0\n",
       "InvoiceDate         0\n",
       "UnitPrice           0\n",
       "CustomerID     133626\n",
       "Country             0\n",
       "dtype: int64"
      ]
     },
     "execution_count": 31,
     "metadata": {},
     "output_type": "execute_result"
    }
   ],
   "source": [
    "data_main.isnull().sum()"
   ]
  },
  {
   "cell_type": "markdown",
   "id": "2a63fa19",
   "metadata": {},
   "source": [
    "Since the Customer ID is requiered for furthur processing , we need to drop all those which are null."
   ]
  },
  {
   "cell_type": "code",
   "execution_count": 3,
   "id": "a13e1d09",
   "metadata": {},
   "outputs": [],
   "source": [
    "df_r = data_main.dropna()"
   ]
  },
  {
   "cell_type": "code",
   "execution_count": 4,
   "id": "8f6038f3",
   "metadata": {},
   "outputs": [
    {
     "data": {
      "text/plain": [
       "InvoiceNo      0\n",
       "StockCode      0\n",
       "Description    0\n",
       "Quantity       0\n",
       "InvoiceDate    0\n",
       "UnitPrice      0\n",
       "CustomerID     0\n",
       "Country        0\n",
       "dtype: int64"
      ]
     },
     "execution_count": 4,
     "metadata": {},
     "output_type": "execute_result"
    }
   ],
   "source": [
    "df_r.isnull().sum()"
   ]
  },
  {
   "cell_type": "markdown",
   "id": "552c81d5",
   "metadata": {},
   "source": [
    "We also know that some orderes were cancelled and we need to remove these too."
   ]
  },
  {
   "cell_type": "code",
   "execution_count": 5,
   "id": "e0f03e7e",
   "metadata": {},
   "outputs": [],
   "source": [
    "drop_values=df_r[df_r['StockCode'].str.endswith('C')].index"
   ]
  },
  {
   "cell_type": "code",
   "execution_count": 6,
   "id": "e7f37516",
   "metadata": {},
   "outputs": [
    {
     "data": {
      "text/plain": [
       "Int64Index([    87,     91,    121,    154,    176,    200,    297,    373,\n",
       "               396,    483,\n",
       "            ...\n",
       "            539902, 540095, 540119, 540150, 540152, 540161, 540375, 541649,\n",
       "            541778, 541809],\n",
       "           dtype='int64', length=4171)"
      ]
     },
     "execution_count": 6,
     "metadata": {},
     "output_type": "execute_result"
    }
   ],
   "source": [
    "drop_values"
   ]
  },
  {
   "cell_type": "code",
   "execution_count": 7,
   "id": "d73b42d5",
   "metadata": {},
   "outputs": [],
   "source": [
    "for i in drop_values:\n",
    "    df_r.drop(i)\n",
    "    "
   ]
  },
  {
   "cell_type": "code",
   "execution_count": 44,
   "id": "c10ff22e",
   "metadata": {},
   "outputs": [
    {
     "data": {
      "text/plain": [
       "(406829, 8)"
      ]
     },
     "execution_count": 44,
     "metadata": {},
     "output_type": "execute_result"
    }
   ],
   "source": [
    "df_r.shape"
   ]
  },
  {
   "cell_type": "markdown",
   "id": "613e6560",
   "metadata": {},
   "source": [
    "From the remainder of the dataset, we only need the UserId and StockCode. Also since the model we are applying is computationally intensive, we will have to cut the datatset and only provide a Proof of Concept, To do so , we will sort the data based on customers and pick the first 20,000 data points. "
   ]
  },
  {
   "cell_type": "code",
   "execution_count": 8,
   "id": "a7505581",
   "metadata": {},
   "outputs": [],
   "source": [
    "df_r = df_r[['CustomerID','StockCode']]"
   ]
  },
  {
   "cell_type": "code",
   "execution_count": 9,
   "id": "ed132e4f",
   "metadata": {},
   "outputs": [
    {
     "data": {
      "text/html": [
       "<div>\n",
       "<style scoped>\n",
       "    .dataframe tbody tr th:only-of-type {\n",
       "        vertical-align: middle;\n",
       "    }\n",
       "\n",
       "    .dataframe tbody tr th {\n",
       "        vertical-align: top;\n",
       "    }\n",
       "\n",
       "    .dataframe thead th {\n",
       "        text-align: right;\n",
       "    }\n",
       "</style>\n",
       "<table border=\"1\" class=\"dataframe\">\n",
       "  <thead>\n",
       "    <tr style=\"text-align: right;\">\n",
       "      <th></th>\n",
       "      <th>CustomerID</th>\n",
       "      <th>StockCode</th>\n",
       "    </tr>\n",
       "  </thead>\n",
       "  <tbody>\n",
       "    <tr>\n",
       "      <th>61619</th>\n",
       "      <td>12346.0</td>\n",
       "      <td>23166</td>\n",
       "    </tr>\n",
       "    <tr>\n",
       "      <th>61624</th>\n",
       "      <td>12346.0</td>\n",
       "      <td>23166</td>\n",
       "    </tr>\n",
       "    <tr>\n",
       "      <th>286628</th>\n",
       "      <td>12347.0</td>\n",
       "      <td>21578</td>\n",
       "    </tr>\n",
       "    <tr>\n",
       "      <th>72263</th>\n",
       "      <td>12347.0</td>\n",
       "      <td>47559B</td>\n",
       "    </tr>\n",
       "    <tr>\n",
       "      <th>72264</th>\n",
       "      <td>12347.0</td>\n",
       "      <td>21154</td>\n",
       "    </tr>\n",
       "    <tr>\n",
       "      <th>...</th>\n",
       "      <td>...</td>\n",
       "      <td>...</td>\n",
       "    </tr>\n",
       "    <tr>\n",
       "      <th>392737</th>\n",
       "      <td>18287.0</td>\n",
       "      <td>23269</td>\n",
       "    </tr>\n",
       "    <tr>\n",
       "      <th>392736</th>\n",
       "      <td>18287.0</td>\n",
       "      <td>23223</td>\n",
       "    </tr>\n",
       "    <tr>\n",
       "      <th>392735</th>\n",
       "      <td>18287.0</td>\n",
       "      <td>23378</td>\n",
       "    </tr>\n",
       "    <tr>\n",
       "      <th>423939</th>\n",
       "      <td>18287.0</td>\n",
       "      <td>23264</td>\n",
       "    </tr>\n",
       "    <tr>\n",
       "      <th>392751</th>\n",
       "      <td>18287.0</td>\n",
       "      <td>22421</td>\n",
       "    </tr>\n",
       "  </tbody>\n",
       "</table>\n",
       "<p>406829 rows × 2 columns</p>\n",
       "</div>"
      ],
      "text/plain": [
       "        CustomerID StockCode\n",
       "61619      12346.0     23166\n",
       "61624      12346.0     23166\n",
       "286628     12347.0     21578\n",
       "72263      12347.0    47559B\n",
       "72264      12347.0     21154\n",
       "...            ...       ...\n",
       "392737     18287.0     23269\n",
       "392736     18287.0     23223\n",
       "392735     18287.0     23378\n",
       "423939     18287.0     23264\n",
       "392751     18287.0     22421\n",
       "\n",
       "[406829 rows x 2 columns]"
      ]
     },
     "execution_count": 9,
     "metadata": {},
     "output_type": "execute_result"
    }
   ],
   "source": [
    "df_r.sort_values(by=['CustomerID'])"
   ]
  },
  {
   "cell_type": "code",
   "execution_count": 10,
   "id": "7484f642",
   "metadata": {},
   "outputs": [],
   "source": [
    "df_work = df_r.head(20000)"
   ]
  },
  {
   "cell_type": "code",
   "execution_count": 79,
   "id": "7ed78064",
   "metadata": {},
   "outputs": [
    {
     "data": {
      "text/plain": [
       "756"
      ]
     },
     "execution_count": 79,
     "metadata": {},
     "output_type": "execute_result"
    }
   ],
   "source": [
    "len(df_work['CustomerID'].unique())"
   ]
  },
  {
   "cell_type": "code",
   "execution_count": 80,
   "id": "230c0803",
   "metadata": {},
   "outputs": [
    {
     "data": {
      "text/plain": [
       "2226"
      ]
     },
     "execution_count": 80,
     "metadata": {},
     "output_type": "execute_result"
    }
   ],
   "source": [
    "len(df_work['StockCode'].unique())"
   ]
  },
  {
   "cell_type": "markdown",
   "id": "a82763ad",
   "metadata": {},
   "source": [
    "We will now be working with data for 756 customers and 2226 products that they have purchased."
   ]
  },
  {
   "cell_type": "code",
   "execution_count": 11,
   "id": "916f1edc",
   "metadata": {},
   "outputs": [],
   "source": [
    "df2 = df_work.pivot_table(index = ['CustomerID', 'StockCode'], aggfunc ='size')"
   ]
  },
  {
   "cell_type": "markdown",
   "id": "27d97eca",
   "metadata": {},
   "source": [
    "df2 has the Quantity of a Stock purchased by a customer. Now we need to transform this data to a dataframe. "
   ]
  },
  {
   "cell_type": "code",
   "execution_count": 12,
   "id": "d236bb66",
   "metadata": {},
   "outputs": [
    {
     "data": {
      "text/plain": [
       "CustomerID  StockCode\n",
       "12347.0     20780        1\n",
       "            20782        1\n",
       "            21064        1\n",
       "            21171        1\n",
       "            21731        1\n",
       "                        ..\n",
       "18269.0     22449        1\n",
       "            22450        1\n",
       "            22451        1\n",
       "            22617        1\n",
       "            22837        1\n",
       "Length: 17923, dtype: int64"
      ]
     },
     "execution_count": 12,
     "metadata": {},
     "output_type": "execute_result"
    }
   ],
   "source": [
    "df2"
   ]
  },
  {
   "cell_type": "code",
   "execution_count": 13,
   "id": "b14263e2",
   "metadata": {
    "scrolled": false
   },
   "outputs": [],
   "source": [
    "df2=df2.to_frame()"
   ]
  },
  {
   "cell_type": "code",
   "execution_count": 14,
   "id": "b1c667df",
   "metadata": {},
   "outputs": [
    {
     "data": {
      "text/html": [
       "<div>\n",
       "<style scoped>\n",
       "    .dataframe tbody tr th:only-of-type {\n",
       "        vertical-align: middle;\n",
       "    }\n",
       "\n",
       "    .dataframe tbody tr th {\n",
       "        vertical-align: top;\n",
       "    }\n",
       "\n",
       "    .dataframe thead th {\n",
       "        text-align: right;\n",
       "    }\n",
       "</style>\n",
       "<table border=\"1\" class=\"dataframe\">\n",
       "  <thead>\n",
       "    <tr style=\"text-align: right;\">\n",
       "      <th></th>\n",
       "      <th></th>\n",
       "      <th>0</th>\n",
       "    </tr>\n",
       "    <tr>\n",
       "      <th>CustomerID</th>\n",
       "      <th>StockCode</th>\n",
       "      <th></th>\n",
       "    </tr>\n",
       "  </thead>\n",
       "  <tbody>\n",
       "    <tr>\n",
       "      <th rowspan=\"5\" valign=\"top\">12347.0</th>\n",
       "      <th>20780</th>\n",
       "      <td>1</td>\n",
       "    </tr>\n",
       "    <tr>\n",
       "      <th>20782</th>\n",
       "      <td>1</td>\n",
       "    </tr>\n",
       "    <tr>\n",
       "      <th>21064</th>\n",
       "      <td>1</td>\n",
       "    </tr>\n",
       "    <tr>\n",
       "      <th>21171</th>\n",
       "      <td>1</td>\n",
       "    </tr>\n",
       "    <tr>\n",
       "      <th>21731</th>\n",
       "      <td>1</td>\n",
       "    </tr>\n",
       "    <tr>\n",
       "      <th>...</th>\n",
       "      <th>...</th>\n",
       "      <td>...</td>\n",
       "    </tr>\n",
       "    <tr>\n",
       "      <th rowspan=\"5\" valign=\"top\">18269.0</th>\n",
       "      <th>22449</th>\n",
       "      <td>1</td>\n",
       "    </tr>\n",
       "    <tr>\n",
       "      <th>22450</th>\n",
       "      <td>1</td>\n",
       "    </tr>\n",
       "    <tr>\n",
       "      <th>22451</th>\n",
       "      <td>1</td>\n",
       "    </tr>\n",
       "    <tr>\n",
       "      <th>22617</th>\n",
       "      <td>1</td>\n",
       "    </tr>\n",
       "    <tr>\n",
       "      <th>22837</th>\n",
       "      <td>1</td>\n",
       "    </tr>\n",
       "  </tbody>\n",
       "</table>\n",
       "<p>17923 rows × 1 columns</p>\n",
       "</div>"
      ],
      "text/plain": [
       "                      0\n",
       "CustomerID StockCode   \n",
       "12347.0    20780      1\n",
       "           20782      1\n",
       "           21064      1\n",
       "           21171      1\n",
       "           21731      1\n",
       "...                  ..\n",
       "18269.0    22449      1\n",
       "           22450      1\n",
       "           22451      1\n",
       "           22617      1\n",
       "           22837      1\n",
       "\n",
       "[17923 rows x 1 columns]"
      ]
     },
     "execution_count": 14,
     "metadata": {},
     "output_type": "execute_result"
    }
   ],
   "source": [
    "df2"
   ]
  },
  {
   "cell_type": "code",
   "execution_count": 16,
   "id": "d33244a0",
   "metadata": {},
   "outputs": [],
   "source": [
    "final_dict = df2.to_dict()[0]"
   ]
  },
  {
   "cell_type": "code",
   "execution_count": 17,
   "id": "0021e2a0",
   "metadata": {},
   "outputs": [
    {
     "data": {
      "text/plain": [
       "{(12347.0, '20780'): 1,\n",
       " (12347.0, '20782'): 1,\n",
       " (12347.0, '21064'): 1,\n",
       " (12347.0, '21171'): 1,\n",
       " (12347.0, '21731'): 1,\n",
       " (12347.0, '22195'): 1,\n",
       " (12347.0, '22212'): 1,\n",
       " (12347.0, '22375'): 1,\n",
       " (12347.0, '22492'): 1,\n",
       " (12347.0, '22494'): 1,\n",
       " (12347.0, '22497'): 1,\n",
       " (12347.0, '22725'): 1,\n",
       " (12347.0, '22726'): 1,\n",
       " (12347.0, '22727'): 1,\n",
       " (12347.0, '22728'): 1,\n",
       " (12347.0, '22729'): 1,\n",
       " (12347.0, '22771'): 1,\n",
       " (12347.0, '22772'): 1,\n",
       " (12347.0, '22773'): 1,\n",
       " (12347.0, '22774'): 1,\n",
       " (12347.0, '22775'): 1,\n",
       " (12347.0, '22805'): 1,\n",
       " (12347.0, '71477'): 1,\n",
       " (12347.0, '84558A'): 1,\n",
       " (12347.0, '84969'): 1,\n",
       " (12347.0, '84997B'): 1,\n",
       " (12347.0, '84997C'): 1,\n",
       " (12347.0, '84997D'): 1,\n",
       " (12347.0, '85116'): 1,\n",
       " (12347.0, '85167B'): 1,\n",
       " (12347.0, '85232D'): 1,\n",
       " (12370.0, '18097C'): 1,\n",
       " (12370.0, '20707'): 1,\n",
       " (12370.0, '20846'): 1,\n",
       " (12370.0, '20961'): 1,\n",
       " (12370.0, '20963'): 1,\n",
       " (12370.0, '20966'): 1,\n",
       " (12370.0, '20967'): 1,\n",
       " (12370.0, '20969'): 1,\n",
       " (12370.0, '20970'): 1,\n",
       " (12370.0, '20972'): 1,\n",
       " (12370.0, '20974'): 1,\n",
       " (12370.0, '21025'): 1,\n",
       " (12370.0, '21026'): 1,\n",
       " (12370.0, '21027'): 1,\n",
       " (12370.0, '21030'): 1,\n",
       " (12370.0, '21031'): 1,\n",
       " (12370.0, '21032'): 1,\n",
       " (12370.0, '21106'): 1,\n",
       " (12370.0, '21107'): 1,\n",
       " (12370.0, '21108'): 1,\n",
       " (12370.0, '21109'): 1,\n",
       " (12370.0, '21110'): 1,\n",
       " (12370.0, '21111'): 1,\n",
       " (12370.0, '21112'): 1,\n",
       " (12370.0, '21188'): 1,\n",
       " (12370.0, '21189'): 1,\n",
       " (12370.0, '21207'): 1,\n",
       " (12370.0, '21231'): 1,\n",
       " (12370.0, '21232'): 1,\n",
       " (12370.0, '21326'): 1,\n",
       " (12370.0, '21355'): 1,\n",
       " (12370.0, '21356'): 1,\n",
       " (12370.0, '21357'): 1,\n",
       " (12370.0, '21358'): 1,\n",
       " (12370.0, '21380'): 1,\n",
       " (12370.0, '21381'): 1,\n",
       " (12370.0, '21385'): 1,\n",
       " (12370.0, '21390'): 1,\n",
       " (12370.0, '21683'): 1,\n",
       " (12370.0, '21684'): 1,\n",
       " (12370.0, '21733'): 1,\n",
       " (12370.0, '22070'): 1,\n",
       " (12370.0, '22071'): 1,\n",
       " (12370.0, '22083'): 1,\n",
       " (12370.0, '22085'): 1,\n",
       " (12370.0, '22087'): 1,\n",
       " (12370.0, '22088'): 1,\n",
       " (12370.0, '22147'): 1,\n",
       " (12370.0, '22149'): 1,\n",
       " (12370.0, '22150'): 1,\n",
       " (12370.0, '22214'): 1,\n",
       " (12370.0, '22270'): 1,\n",
       " (12370.0, '22272'): 1,\n",
       " (12370.0, '22274'): 1,\n",
       " (12370.0, '22291'): 1,\n",
       " (12370.0, '22294'): 1,\n",
       " (12370.0, '22296'): 1,\n",
       " (12370.0, '22297'): 1,\n",
       " (12370.0, '22335'): 1,\n",
       " (12370.0, '22465'): 1,\n",
       " (12370.0, '22568'): 1,\n",
       " (12370.0, '22569'): 1,\n",
       " (12370.0, '22582'): 1,\n",
       " (12370.0, '22745'): 1,\n",
       " (12370.0, '22746'): 1,\n",
       " (12370.0, '22747'): 1,\n",
       " (12370.0, '22748'): 1,\n",
       " (12370.0, '22749'): 2,\n",
       " (12370.0, '22751'): 1,\n",
       " (12370.0, '22784'): 1,\n",
       " (12370.0, '22804'): 1,\n",
       " (12370.0, '35924'): 1,\n",
       " (12370.0, '35961'): 1,\n",
       " (12370.0, '47566'): 1,\n",
       " (12370.0, '47574A'): 1,\n",
       " (12370.0, '47590A'): 1,\n",
       " (12370.0, '47590B'): 1,\n",
       " (12370.0, '72741'): 1,\n",
       " (12370.0, '84879'): 1,\n",
       " (12370.0, '85123A'): 1,\n",
       " (12370.0, '85194L'): 1,\n",
       " (12370.0, '85195'): 1,\n",
       " (12386.0, '21906'): 1,\n",
       " (12386.0, '22495'): 1,\n",
       " (12386.0, '22555'): 1,\n",
       " (12386.0, '22557'): 1,\n",
       " (12386.0, '22567'): 1,\n",
       " (12386.0, '22915'): 1,\n",
       " (12386.0, '22926'): 1,\n",
       " (12386.0, '22953'): 1,\n",
       " (12395.0, '21212'): 1,\n",
       " (12395.0, '21217'): 1,\n",
       " (12395.0, '21975'): 1,\n",
       " (12395.0, '21976'): 1,\n",
       " (12395.0, '21977'): 1,\n",
       " (12395.0, '22355'): 1,\n",
       " (12395.0, '22417'): 1,\n",
       " (12395.0, '22551'): 1,\n",
       " (12395.0, '84375'): 1,\n",
       " (12395.0, '84992'): 1,\n",
       " (12395.0, '85099B'): 1,\n",
       " (12395.0, 'POST'): 1,\n",
       " (12427.0, '21249'): 1,\n",
       " (12427.0, '21328'): 1,\n",
       " (12427.0, '21329'): 1,\n",
       " (12427.0, '22077'): 1,\n",
       " (12427.0, '22149'): 1,\n",
       " (12427.0, '22300'): 1,\n",
       " (12427.0, '22301'): 1,\n",
       " (12427.0, '22634'): 1,\n",
       " (12427.0, '22636'): 1,\n",
       " (12427.0, 'POST'): 1,\n",
       " (12429.0, '22326'): 1,\n",
       " (12429.0, '22331'): 1,\n",
       " (12429.0, '22365'): 1,\n",
       " (12429.0, '22567'): 1,\n",
       " (12429.0, '22670'): 1,\n",
       " (12429.0, '22673'): 1,\n",
       " (12429.0, '22726'): 1,\n",
       " (12429.0, '22727'): 1,\n",
       " (12429.0, '22728'): 1,\n",
       " (12429.0, '22729'): 1,\n",
       " (12429.0, '22730'): 1,\n",
       " (12429.0, '22752'): 1,\n",
       " (12429.0, '22779'): 1,\n",
       " (12429.0, '22847'): 1,\n",
       " (12429.0, '22914'): 1,\n",
       " (12429.0, '22951'): 1,\n",
       " (12429.0, '22956'): 1,\n",
       " (12429.0, '22960'): 1,\n",
       " (12429.0, '82582'): 1,\n",
       " (12429.0, 'POST'): 1,\n",
       " (12431.0, '21622'): 1,\n",
       " (12431.0, '21791'): 1,\n",
       " (12431.0, '22191'): 1,\n",
       " (12431.0, '22192'): 1,\n",
       " (12431.0, '22193'): 1,\n",
       " (12431.0, '22195'): 1,\n",
       " (12431.0, '22196'): 1,\n",
       " (12431.0, '22726'): 1,\n",
       " (12431.0, '22727'): 1,\n",
       " (12431.0, '22941'): 1,\n",
       " (12431.0, '35004C'): 1,\n",
       " (12431.0, '35004G'): 1,\n",
       " (12431.0, '85014A'): 1,\n",
       " (12431.0, '85014B'): 1,\n",
       " (12433.0, '20685'): 2,\n",
       " (12433.0, '21080'): 2,\n",
       " (12433.0, '21156'): 2,\n",
       " (12433.0, '21166'): 2,\n",
       " (12433.0, '21212'): 2,\n",
       " (12433.0, '21213'): 2,\n",
       " (12433.0, '21260'): 2,\n",
       " (12433.0, '21506'): 2,\n",
       " (12433.0, '21520'): 2,\n",
       " (12433.0, '21733'): 2,\n",
       " (12433.0, '21786'): 2,\n",
       " (12433.0, '21870'): 2,\n",
       " (12433.0, '21873'): 2,\n",
       " (12433.0, '21874'): 2,\n",
       " (12433.0, '21967'): 2,\n",
       " (12433.0, '21977'): 2,\n",
       " (12433.0, '21980'): 2,\n",
       " (12433.0, '21981'): 2,\n",
       " (12433.0, '21982'): 2,\n",
       " (12433.0, '21983'): 2,\n",
       " (12433.0, '21984'): 2,\n",
       " (12433.0, '22092'): 2,\n",
       " (12433.0, '22094'): 2,\n",
       " (12433.0, '22095'): 2,\n",
       " (12433.0, '22114'): 2,\n",
       " (12433.0, '22197'): 2,\n",
       " (12433.0, '22198'): 2,\n",
       " (12433.0, '22315'): 2,\n",
       " (12433.0, '22413'): 1,\n",
       " (12433.0, '22444'): 1,\n",
       " (12433.0, '22489'): 2,\n",
       " (12433.0, '22494'): 2,\n",
       " (12433.0, '22530'): 2,\n",
       " (12433.0, '22531'): 2,\n",
       " (12433.0, '22534'): 2,\n",
       " (12433.0, '22539'): 2,\n",
       " (12433.0, '22540'): 2,\n",
       " (12433.0, '22543'): 2,\n",
       " (12433.0, '22544'): 2,\n",
       " (12433.0, '22547'): 2,\n",
       " (12433.0, '22551'): 2,\n",
       " (12433.0, '22553'): 2,\n",
       " (12433.0, '22554'): 2,\n",
       " (12433.0, '22555'): 2,\n",
       " (12433.0, '22556'): 2,\n",
       " (12433.0, '22557'): 2,\n",
       " (12433.0, '22558'): 2,\n",
       " (12433.0, '22561'): 2,\n",
       " (12433.0, '22567'): 2,\n",
       " (12433.0, '22614'): 2,\n",
       " (12433.0, '22615'): 2,\n",
       " (12433.0, '22624'): 1,\n",
       " (12433.0, '22625'): 1,\n",
       " (12433.0, '22626'): 1,\n",
       " (12433.0, '22632'): 1,\n",
       " (12433.0, '22665'): 2,\n",
       " (12433.0, '22666'): 2,\n",
       " (12433.0, '22667'): 2,\n",
       " (12433.0, '22688'): 1,\n",
       " (12433.0, '22690'): 1,\n",
       " (12433.0, '22716'): 2,\n",
       " (12433.0, '22814'): 2,\n",
       " (12433.0, '22842'): 2,\n",
       " (12433.0, '22865'): 1,\n",
       " (12433.0, '22866'): 1,\n",
       " (12433.0, '22899'): 2,\n",
       " (12433.0, '22956'): 2,\n",
       " (12433.0, '22961'): 2,\n",
       " (12433.0, '22962'): 2,\n",
       " (12433.0, '22963'): 2,\n",
       " (12433.0, '22966'): 2,\n",
       " (12433.0, '82600'): 2,\n",
       " (12433.0, '84050'): 2,\n",
       " (12433.0, '84375'): 2,\n",
       " (12433.0, '84692'): 2,\n",
       " (12433.0, '84991'): 2,\n",
       " (12433.0, '84992'): 2,\n",
       " (12433.0, '85150'): 2,\n",
       " (12433.0, '85152'): 1,\n",
       " (12434.0, '21217'): 1,\n",
       " (12434.0, '22094'): 1,\n",
       " (12434.0, '22333'): 1,\n",
       " (12441.0, '22051'): 1,\n",
       " (12441.0, '22052'): 1,\n",
       " (12441.0, '22086'): 1,\n",
       " (12441.0, '22710'): 1,\n",
       " (12441.0, '22742'): 1,\n",
       " (12441.0, '22744'): 1,\n",
       " (12441.0, '22910'): 1,\n",
       " (12441.0, '37495'): 1,\n",
       " (12441.0, '47566B'): 1,\n",
       " (12441.0, '85049A'): 1,\n",
       " (12441.0, 'POST'): 1,\n",
       " (12471.0, '16235'): 1,\n",
       " (12471.0, '21210'): 1,\n",
       " (12471.0, '21212'): 1,\n",
       " (12471.0, '21231'): 1,\n",
       " (12471.0, '21232'): 1,\n",
       " (12471.0, '21577'): 1,\n",
       " (12471.0, '21578'): 1,\n",
       " (12471.0, '21700'): 1,\n",
       " (12471.0, '21731'): 1,\n",
       " (12471.0, '21787'): 1,\n",
       " (12471.0, '22077'): 1,\n",
       " (12471.0, '22326'): 2,\n",
       " (12471.0, '22419'): 1,\n",
       " (12471.0, '22423'): 1,\n",
       " (12471.0, '22445'): 1,\n",
       " (12471.0, '22472'): 1,\n",
       " (12471.0, '22489'): 1,\n",
       " (12471.0, '22491'): 1,\n",
       " (12471.0, '22549'): 1,\n",
       " (12471.0, '22554'): 1,\n",
       " (12471.0, '22555'): 1,\n",
       " (12471.0, '22556'): 1,\n",
       " (12471.0, '22621'): 1,\n",
       " (12471.0, '22625'): 1,\n",
       " (12471.0, '22644'): 1,\n",
       " (12471.0, '22646'): 1,\n",
       " (12471.0, '22649'): 1,\n",
       " (12471.0, '22728'): 1,\n",
       " (12471.0, '22741'): 1,\n",
       " (12471.0, '22745'): 1,\n",
       " (12471.0, '22746'): 1,\n",
       " (12471.0, '22748'): 1,\n",
       " (12471.0, '22752'): 2,\n",
       " (12471.0, '22759'): 1,\n",
       " (12471.0, '22797'): 1,\n",
       " (12471.0, '22808'): 1,\n",
       " (12471.0, '22848'): 1,\n",
       " (12471.0, '22856'): 1,\n",
       " (12471.0, '22859'): 1,\n",
       " (12471.0, '22897'): 1,\n",
       " (12471.0, '22907'): 1,\n",
       " (12471.0, '22908'): 1,\n",
       " (12471.0, '22934'): 1,\n",
       " (12471.0, '22937'): 1,\n",
       " (12471.0, '22968'): 1,\n",
       " (12471.0, '84228'): 1,\n",
       " (12471.0, 'POST'): 1,\n",
       " (12472.0, '20668'): 1,\n",
       " (12472.0, '20719'): 1,\n",
       " (12472.0, '20724'): 1,\n",
       " (12472.0, '20750'): 1,\n",
       " (12472.0, '20914'): 2,\n",
       " (12472.0, '20957'): 1,\n",
       " (12472.0, '21218'): 1,\n",
       " (12472.0, '21817'): 1,\n",
       " (12472.0, '21914'): 1,\n",
       " (12472.0, '21915'): 1,\n",
       " (12472.0, '22077'): 2,\n",
       " (12472.0, '22078'): 1,\n",
       " (12472.0, '22079'): 1,\n",
       " (12472.0, '22080'): 1,\n",
       " (12472.0, '22141'): 1,\n",
       " (12472.0, '22144'): 1,\n",
       " (12472.0, '22168'): 1,\n",
       " (12472.0, '22242'): 2,\n",
       " (12472.0, '22244'): 2,\n",
       " (12472.0, '22245'): 2,\n",
       " (12472.0, '22321'): 1,\n",
       " (12472.0, '22326'): 1,\n",
       " (12472.0, '22328'): 1,\n",
       " (12472.0, '22333'): 2,\n",
       " (12472.0, '22337'): 1,\n",
       " (12472.0, '22354'): 1,\n",
       " (12472.0, '22423'): 1,\n",
       " (12472.0, '22467'): 1,\n",
       " (12472.0, '22556'): 1,\n",
       " (12472.0, '22568'): 1,\n",
       " (12472.0, '22571'): 1,\n",
       " (12472.0, '22572'): 1,\n",
       " (12472.0, '22573'): 1,\n",
       " (12472.0, '22574'): 1,\n",
       " (12472.0, '22577'): 1,\n",
       " (12472.0, '22578'): 1,\n",
       " (12472.0, '22579'): 1,\n",
       " (12472.0, '22580'): 1,\n",
       " (12472.0, '22593'): 1,\n",
       " (12472.0, '22594'): 1,\n",
       " (12472.0, '22595'): 1,\n",
       " (12472.0, '22600'): 1,\n",
       " (12472.0, '22601'): 1,\n",
       " (12472.0, '22602'): 1,\n",
       " (12472.0, '22629'): 1,\n",
       " (12472.0, '22631'): 2,\n",
       " (12472.0, '22636'): 1,\n",
       " (12472.0, '22654'): 1,\n",
       " (12472.0, '22767'): 1,\n",
       " (12472.0, '22781'): 1,\n",
       " (12472.0, '22816'): 1,\n",
       " (12472.0, '22818'): 1,\n",
       " (12472.0, '22834'): 1,\n",
       " (12472.0, '22837'): 1,\n",
       " (12472.0, '22865'): 1,\n",
       " (12472.0, '22867'): 1,\n",
       " (12472.0, '22892'): 1,\n",
       " (12472.0, '22895'): 1,\n",
       " (12472.0, '22898'): 1,\n",
       " (12472.0, '22940'): 1,\n",
       " (12472.0, '22960'): 1,\n",
       " (12472.0, '22961'): 1,\n",
       " (12472.0, '22962'): 1,\n",
       " (12472.0, '22963'): 1,\n",
       " (12472.0, '22964'): 1,\n",
       " (12472.0, '22968'): 1,\n",
       " (12472.0, '22972'): 1,\n",
       " (12472.0, '22973'): 1,\n",
       " (12472.0, '22975'): 1,\n",
       " (12472.0, '22976'): 1,\n",
       " (12472.0, '84341B'): 1,\n",
       " (12472.0, '84375'): 1,\n",
       " (12472.0, '85049D'): 1,\n",
       " (12472.0, '85049E'): 1,\n",
       " (12472.0, '85049F'): 1,\n",
       " (12472.0, '85049G'): 1,\n",
       " (12472.0, 'POST'): 1,\n",
       " (12474.0, '22636'): 1,\n",
       " (12476.0, '21658'): 3,\n",
       " (12476.0, '22636'): 3,\n",
       " (12481.0, '21156'): 1,\n",
       " (12481.0, '21791'): 1,\n",
       " (12481.0, '21918'): 1,\n",
       " (12481.0, '22326'): 1,\n",
       " (12481.0, '22328'): 1,\n",
       " (12481.0, '22468'): 1,\n",
       " (12481.0, '22556'): 1,\n",
       " (12481.0, '22620'): 1,\n",
       " (12481.0, '22636'): 1,\n",
       " (12481.0, 'POST'): 1,\n",
       " (12494.0, '21843'): 1,\n",
       " (12494.0, '22667'): 1,\n",
       " (12494.0, 'POST'): 1,\n",
       " (12540.0, '21164'): 1,\n",
       " (12540.0, '21340'): 1,\n",
       " (12540.0, '21479'): 1,\n",
       " (12540.0, '21506'): 1,\n",
       " (12540.0, '21519'): 1,\n",
       " (12540.0, '21754'): 1,\n",
       " (12540.0, '21755'): 1,\n",
       " (12540.0, '22023'): 1,\n",
       " (12540.0, '22030'): 1,\n",
       " (12540.0, '22120'): 1,\n",
       " (12540.0, '22423'): 1,\n",
       " (12540.0, '22553'): 1,\n",
       " (12540.0, '22556'): 1,\n",
       " (12540.0, '22620'): 1,\n",
       " (12540.0, '22819'): 1,\n",
       " (12540.0, '22837'): 1,\n",
       " (12540.0, '84029E'): 1,\n",
       " (12540.0, '84077'): 1,\n",
       " (12540.0, '84347'): 1,\n",
       " (12540.0, 'POST'): 1,\n",
       " (12557.0, '20725'): 1,\n",
       " (12557.0, '20727'): 1,\n",
       " (12557.0, '20728'): 1,\n",
       " (12557.0, '22383'): 1,\n",
       " (12557.0, '22384'): 1,\n",
       " (12567.0, '16238'): 1,\n",
       " (12567.0, '20665'): 1,\n",
       " (12567.0, '20725'): 2,\n",
       " (12567.0, '20726'): 1,\n",
       " (12567.0, '20728'): 1,\n",
       " (12567.0, '20749'): 1,\n",
       " (12567.0, '20750'): 1,\n",
       " (12567.0, '21054'): 1,\n",
       " (12567.0, '21055'): 1,\n",
       " (12567.0, '21121'): 1,\n",
       " (12567.0, '21195'): 1,\n",
       " (12567.0, '21439'): 1,\n",
       " (12567.0, '21485'): 1,\n",
       " (12567.0, '21533'): 1,\n",
       " (12567.0, '21539'): 1,\n",
       " (12567.0, '21555'): 1,\n",
       " (12567.0, '21556'): 1,\n",
       " (12567.0, '21559'): 1,\n",
       " (12567.0, '21774'): 1,\n",
       " (12567.0, '21786'): 1,\n",
       " (12567.0, '21787'): 1,\n",
       " (12567.0, '21829'): 1,\n",
       " (12567.0, '21892'): 1,\n",
       " (12567.0, '21980'): 1,\n",
       " (12567.0, '21981'): 1,\n",
       " (12567.0, '21982'): 1,\n",
       " (12567.0, '22110'): 1,\n",
       " (12567.0, '22111'): 1,\n",
       " (12567.0, '22113'): 1,\n",
       " (12567.0, '22114'): 1,\n",
       " (12567.0, '22180'): 1,\n",
       " (12567.0, '22243'): 1,\n",
       " (12567.0, '22272'): 1,\n",
       " (12567.0, '22318'): 1,\n",
       " (12567.0, '22326'): 1,\n",
       " (12567.0, '22352'): 1,\n",
       " (12567.0, '22382'): 1,\n",
       " (12567.0, '22383'): 1,\n",
       " (12567.0, '22390'): 1,\n",
       " (12567.0, '22418'): 1,\n",
       " (12567.0, '22423'): 1,\n",
       " (12567.0, '22467'): 1,\n",
       " (12567.0, '22483'): 1,\n",
       " (12567.0, '22531'): 1,\n",
       " (12567.0, '22551'): 1,\n",
       " (12567.0, '22554'): 1,\n",
       " (12567.0, '22558'): 1,\n",
       " (12567.0, '22614'): 1,\n",
       " (12567.0, '22615'): 1,\n",
       " (12567.0, '22619'): 1,\n",
       " (12567.0, '22632'): 1,\n",
       " (12567.0, '22634'): 1,\n",
       " (12567.0, '22635'): 1,\n",
       " (12567.0, '22636'): 1,\n",
       " (12567.0, '22644'): 1,\n",
       " (12567.0, '22654'): 1,\n",
       " (12567.0, '22726'): 1,\n",
       " (12567.0, '22727'): 1,\n",
       " (12567.0, '22728'): 1,\n",
       " (12567.0, '22729'): 1,\n",
       " (12567.0, '22745'): 1,\n",
       " (12567.0, '22747'): 1,\n",
       " (12567.0, '22748'): 1,\n",
       " (12567.0, '22749'): 1,\n",
       " (12567.0, '22750'): 1,\n",
       " (12567.0, '22837'): 2,\n",
       " (12567.0, '22846'): 1,\n",
       " (12567.0, '22892'): 1,\n",
       " (12567.0, '22968'): 1,\n",
       " (12567.0, '47566'): 1,\n",
       " (12567.0, '84279P'): 1,\n",
       " (12567.0, '84678'): 1,\n",
       " (12567.0, '84870B'): 1,\n",
       " (12567.0, '84870C'): 1,\n",
       " (12567.0, '84963A'): 1,\n",
       " (12567.0, '84997A'): 1,\n",
       " (12567.0, '84997B'): 1,\n",
       " (12567.0, '84997C'): 1,\n",
       " (12567.0, '85227'): 1,\n",
       " (12567.0, 'POST'): 2,\n",
       " (12583.0, '10002'): 1,\n",
       " (12583.0, '21035'): 1,\n",
       " (12583.0, '21724'): 1,\n",
       " (12583.0, '21731'): 1,\n",
       " (12583.0, '21791'): 1,\n",
       " (12583.0, '21883'): 1,\n",
       " (12583.0, '21913'): 1,\n",
       " (12583.0, '22326'): 1,\n",
       " (12583.0, '22492'): 1,\n",
       " (12583.0, '22540'): 1,\n",
       " (12583.0, '22544'): 1,\n",
       " (12583.0, '22629'): 1,\n",
       " (12583.0, '22631'): 1,\n",
       " (12583.0, '22659'): 1,\n",
       " (12583.0, '22661'): 1,\n",
       " (12583.0, '22726'): 1,\n",
       " (12583.0, '22727'): 1,\n",
       " (12583.0, '22728'): 1,\n",
       " (12583.0, '22900'): 1,\n",
       " (12583.0, 'POST'): 1,\n",
       " (12586.0, '84840'): 1,\n",
       " (12600.0, '85099B'): 1,\n",
       " (12600.0, 'POST'): 1,\n",
       " (12605.0, '22331'): 1,\n",
       " (12605.0, '22333'): 1,\n",
       " (12605.0, '22956'): 1,\n",
       " (12621.0, '17003'): 1,\n",
       " (12621.0, '21680'): 1,\n",
       " (12621.0, '22326'): 1,\n",
       " (12621.0, '22331'): 1,\n",
       " (12621.0, '22551'): 1,\n",
       " (12621.0, '22585'): 1,\n",
       " (12621.0, '22725'): 1,\n",
       " (12621.0, '22727'): 1,\n",
       " (12621.0, '22730'): 1,\n",
       " (12621.0, '22891'): 1,\n",
       " (12621.0, '22943'): 1,\n",
       " (12621.0, '22964'): 1,\n",
       " (12621.0, '22972'): 1,\n",
       " (12621.0, 'POST'): 1,\n",
       " (12647.0, '20685'): 1,\n",
       " (12647.0, '21035'): 1,\n",
       " (12647.0, '21452'): 1,\n",
       " (12647.0, '21731'): 1,\n",
       " (12647.0, '21789'): 1,\n",
       " (12647.0, '21949'): 1,\n",
       " (12647.0, '22199'): 2,\n",
       " (12647.0, '22200'): 2,\n",
       " (12647.0, '22202'): 1,\n",
       " (12647.0, '22203'): 1,\n",
       " (12647.0, '22244'): 1,\n",
       " (12647.0, '22505'): 1,\n",
       " (12647.0, '22507'): 1,\n",
       " (12647.0, '22624'): 2,\n",
       " (12647.0, '22841'): 1,\n",
       " (12647.0, '22842'): 1,\n",
       " (12647.0, '22843'): 1,\n",
       " (12647.0, '22846'): 1,\n",
       " (12647.0, '22847'): 2,\n",
       " (12647.0, '22961'): 1,\n",
       " (12647.0, '22962'): 1,\n",
       " (12647.0, '22963'): 1,\n",
       " (12647.0, '47559B'): 1,\n",
       " (12647.0, '84050'): 1,\n",
       " (12647.0, '84968A'): 2,\n",
       " (12647.0, '84968C'): 1,\n",
       " (12647.0, '84997D'): 1,\n",
       " (12647.0, '85055'): 1,\n",
       " (12647.0, 'POST'): 3,\n",
       " (12649.0, '22859'): 1,\n",
       " (12649.0, '22860'): 1,\n",
       " (12662.0, '20712'): 1,\n",
       " (12662.0, '20713'): 1,\n",
       " (12662.0, '22242'): 1,\n",
       " (12662.0, '22243'): 1,\n",
       " (12662.0, '22244'): 1,\n",
       " (12662.0, '22549'): 1,\n",
       " (12662.0, '22809'): 1,\n",
       " (12662.0, '22837'): 1,\n",
       " (12662.0, '22969'): 1,\n",
       " (12662.0, '22973'): 1,\n",
       " (12662.0, '47421'): 1,\n",
       " (12662.0, '84347'): 1,\n",
       " (12662.0, '84569B'): 1,\n",
       " (12662.0, '84945'): 1,\n",
       " (12662.0, 'POST'): 1,\n",
       " (12681.0, '20681'): 1,\n",
       " (12681.0, '20682'): 1,\n",
       " (12681.0, '20719'): 1,\n",
       " (12681.0, '21064'): 1,\n",
       " (12681.0, '21121'): 1,\n",
       " (12681.0, '21124'): 1,\n",
       " (12681.0, '21137'): 1,\n",
       " (12681.0, '21212'): 1,\n",
       " (12681.0, '21224'): 1,\n",
       " (12681.0, '21238'): 1,\n",
       " (12681.0, '21506'): 1,\n",
       " (12681.0, '21544'): 1,\n",
       " (12681.0, '21559'): 1,\n",
       " (12681.0, '21680'): 1,\n",
       " (12681.0, '21700'): 1,\n",
       " (12681.0, '21719'): 1,\n",
       " (12681.0, '21721'): 1,\n",
       " (12681.0, '21731'): 1,\n",
       " (12681.0, '22027'): 1,\n",
       " (12681.0, '22037'): 1,\n",
       " (12681.0, '22041'): 1,\n",
       " (12681.0, '22181'): 1,\n",
       " (12681.0, '22191'): 1,\n",
       " (12681.0, '22300'): 1,\n",
       " (12681.0, '22301'): 1,\n",
       " (12681.0, '22312'): 1,\n",
       " (12681.0, '22313'): 1,\n",
       " (12681.0, '22326'): 1,\n",
       " (12681.0, '22348'): 1,\n",
       " (12681.0, '22352'): 1,\n",
       " (12681.0, '22365'): 1,\n",
       " (12681.0, '22413'): 1,\n",
       " (12681.0, '22467'): 1,\n",
       " (12681.0, '22554'): 1,\n",
       " (12681.0, '22892'): 1,\n",
       " (12681.0, '22894'): 1,\n",
       " (12681.0, '22895'): 1,\n",
       " (12681.0, '22908'): 1,\n",
       " (12681.0, '22961'): 1,\n",
       " (12681.0, '84692'): 1,\n",
       " (12681.0, 'POST'): 1,\n",
       " (12682.0, '10002'): 1,\n",
       " (12682.0, '15056BL'): 2,\n",
       " (12682.0, '15056P'): 1,\n",
       " (12682.0, '20679'): 2,\n",
       " (12682.0, '20725'): 2,\n",
       " (12682.0, '20726'): 2,\n",
       " (12682.0, '20749'): 2,\n",
       " (12682.0, '20750'): 2,\n",
       " (12682.0, '21452'): 1,\n",
       " (12682.0, '21558'): 1,\n",
       " (12682.0, '21559'): 1,\n",
       " (12682.0, '21700'): 2,\n",
       " (12682.0, '21731'): 1,\n",
       " (12682.0, '21791'): 1,\n",
       " (12682.0, '21915'): 1,\n",
       " (12682.0, '22027'): 1,\n",
       " (12682.0, '22077'): 1,\n",
       " (12682.0, '22080'): 1,\n",
       " (12682.0, '22082'): 1,\n",
       " (12682.0, '22197'): 1,\n",
       " (12682.0, '22319'): 1,\n",
       " (12682.0, '22321'): 1,\n",
       " (12682.0, '22352'): 1,\n",
       " (12682.0, '22382'): 1,\n",
       " (12682.0, '22383'): 1,\n",
       " (12682.0, '22385'): 1,\n",
       " (12682.0, '22386'): 1,\n",
       " (12682.0, '22551'): 1,\n",
       " (12682.0, '22554'): 1,\n",
       " (12682.0, '22556'): 1,\n",
       " (12682.0, '22620'): 1,\n",
       " (12682.0, '22659'): 1,\n",
       " (12682.0, '22736'): 1,\n",
       " (12682.0, '22738'): 1,\n",
       " (12682.0, '22748'): 1,\n",
       " (12682.0, '22892'): 1,\n",
       " (12682.0, '22909'): 1,\n",
       " (12682.0, '22948'): 1,\n",
       " (12682.0, '22961'): 1,\n",
       " (12682.0, '85232D'): 1,\n",
       " (12682.0, 'POST'): 2,\n",
       " (12683.0, '20685'): 1,\n",
       " (12683.0, '20972'): 1,\n",
       " (12683.0, '21086'): 1,\n",
       " (12683.0, '21094'): 1,\n",
       " (12683.0, '21121'): 1,\n",
       " (12683.0, '21122'): 1,\n",
       " (12683.0, '21123'): 1,\n",
       " (12683.0, '21124'): 1,\n",
       " (12683.0, '21154'): 1,\n",
       " (12683.0, '21481'): 1,\n",
       " (12683.0, '21559'): 1,\n",
       " (12683.0, '21731'): 1,\n",
       " (12683.0, '21843'): 1,\n",
       " (12683.0, '22255'): 1,\n",
       " (12683.0, '22331'): 1,\n",
       " (12683.0, '22333'): 1,\n",
       " (12683.0, '22352'): 1,\n",
       " (12683.0, '22435'): 1,\n",
       " (12683.0, '22437'): 1,\n",
       " (12683.0, '22454'): 1,\n",
       " (12683.0, '22495'): 1,\n",
       " (12683.0, '22558'): 1,\n",
       " (12683.0, '22601'): 1,\n",
       " (12683.0, '22630'): 1,\n",
       " (12683.0, '22636'): 1,\n",
       " (12683.0, '22661'): 1,\n",
       " (12683.0, '22704'): 1,\n",
       " (12683.0, '22705'): 1,\n",
       " (12683.0, '22752'): 1,\n",
       " (12683.0, '22859'): 1,\n",
       " (12683.0, '22894'): 1,\n",
       " (12683.0, '22895'): 1,\n",
       " (12683.0, '22897'): 1,\n",
       " (12683.0, '22898'): 1,\n",
       " (12683.0, '22899'): 1,\n",
       " (12683.0, '22907'): 1,\n",
       " (12683.0, '22908'): 1,\n",
       " (12683.0, '22909'): 1,\n",
       " (12683.0, '22938'): 1,\n",
       " (12683.0, '22951'): 1,\n",
       " (12683.0, '22972'): 1,\n",
       " (12683.0, '22973'): 1,\n",
       " (12683.0, '22974'): 2,\n",
       " (12683.0, '22975'): 1,\n",
       " (12683.0, '22976'): 1,\n",
       " (12683.0, '22977'): 1,\n",
       " (12683.0, '47599A'): 1,\n",
       " (12683.0, '47599B'): 1,\n",
       " (12683.0, '84029E'): 1,\n",
       " (12683.0, '84992'): 1,\n",
       " (12683.0, '84997D'): 1,\n",
       " (12683.0, 'POST'): 2,\n",
       " (12686.0, '21786'): 1,\n",
       " (12686.0, '21791'): 1,\n",
       " (12686.0, '22539'): 1,\n",
       " (12686.0, '22544'): 1,\n",
       " (12686.0, '22549'): 1,\n",
       " (12686.0, '22661'): 1,\n",
       " (12686.0, 'POST'): 1,\n",
       " (12708.0, '20675'): 1,\n",
       " (12708.0, '20676'): 1,\n",
       " (12708.0, '21216'): 1,\n",
       " (12708.0, '21238'): 1,\n",
       " (12708.0, '21240'): 1,\n",
       " (12708.0, '21242'): 1,\n",
       " (12708.0, '21244'): 1,\n",
       " (12708.0, '21484'): 1,\n",
       " (12708.0, '22082'): 1,\n",
       " (12708.0, '22326'): 1,\n",
       " (12708.0, '22328'): 1,\n",
       " (12708.0, '22467'): 1,\n",
       " (12708.0, '84030E'): 1,\n",
       " (12708.0, 'POST'): 1,\n",
       " (12709.0, '20979'): 1,\n",
       " (12709.0, '21429'): 1,\n",
       " (12709.0, '22467'): 1,\n",
       " (12709.0, '22625'): 1,\n",
       " (12709.0, '22627'): 1,\n",
       " (12709.0, '85049E'): 1,\n",
       " (12709.0, 'POST'): 1,\n",
       " (12712.0, '16016'): 1,\n",
       " (12712.0, '20702'): 1,\n",
       " (12712.0, '20703'): 1,\n",
       " (12712.0, '20973'): 1,\n",
       " (12712.0, '21481'): 1,\n",
       " (12712.0, '21559'): 1,\n",
       " (12712.0, '22171'): 2,\n",
       " (12712.0, '22173'): 1,\n",
       " (12712.0, '22331'): 1,\n",
       " (12712.0, '22352'): 1,\n",
       " (12712.0, '22445'): 1,\n",
       " (12712.0, '22550'): 1,\n",
       " (12712.0, '22788'): 1,\n",
       " (12712.0, '22865'): 1,\n",
       " (12712.0, '22914'): 1,\n",
       " (12712.0, '22926'): 1,\n",
       " (12712.0, '82494L'): 1,\n",
       " (12712.0, '84849D'): 1,\n",
       " (12712.0, 'POST'): 2,\n",
       " (12720.0, '20677'): 1,\n",
       " (12720.0, '20712'): 1,\n",
       " (12720.0, '20718'): 1,\n",
       " (12720.0, '20719'): 1,\n",
       " (12720.0, '21238'): 1,\n",
       " (12720.0, '21239'): 1,\n",
       " (12720.0, '21243'): 1,\n",
       " (12720.0, '21430'): 1,\n",
       " (12720.0, '21481'): 1,\n",
       " (12720.0, '21883'): 1,\n",
       " (12720.0, '21981'): 1,\n",
       " (12720.0, '21984'): 1,\n",
       " (12720.0, '22111'): 1,\n",
       " (12720.0, '22149'): 1,\n",
       " (12720.0, '22197'): 1,\n",
       " (12720.0, '22344'): 1,\n",
       " (12720.0, '22345'): 1,\n",
       " (12720.0, '22346'): 1,\n",
       " (12720.0, '22386'): 1,\n",
       " (12720.0, '22554'): 1,\n",
       " (12720.0, '22557'): 1,\n",
       " (12720.0, '22624'): 1,\n",
       " (12720.0, '22625'): 1,\n",
       " (12720.0, '22960'): 1,\n",
       " (12720.0, '22961'): 1,\n",
       " (12720.0, '22962'): 1,\n",
       " (12720.0, '22963'): 1,\n",
       " (12720.0, '84920'): 1,\n",
       " (12720.0, '85099B'): 1,\n",
       " (12720.0, 'POST'): 1,\n",
       " (12721.0, '22450'): 1,\n",
       " (12721.0, '22630'): 1,\n",
       " (12721.0, '22634'): 1,\n",
       " (12725.0, '20956'): 1,\n",
       " (12725.0, '21287'): 1,\n",
       " (12725.0, '22307'): 1,\n",
       " (12725.0, '22697'): 1,\n",
       " (12725.0, '22791'): 1,\n",
       " (12725.0, '22809'): 1,\n",
       " (12725.0, '22810'): 1,\n",
       " (12725.0, '72741'): 1,\n",
       " (12725.0, '72802A'): 1,\n",
       " (12725.0, '72803A'): 1,\n",
       " (12725.0, '72807C'): 1,\n",
       " (12725.0, '79337'): 1,\n",
       " (12725.0, '84031A'): 1,\n",
       " (12725.0, '84614A'): 1,\n",
       " (12725.0, '85034A'): 1,\n",
       " (12725.0, '85034C'): 1,\n",
       " (12725.0, '85035A'): 1,\n",
       " (12725.0, '85035B'): 1,\n",
       " (12725.0, '85035C'): 1,\n",
       " (12725.0, '85036B'): 1,\n",
       " (12725.0, '85038'): 1,\n",
       " (12725.0, '85078'): 1,\n",
       " (12725.0, '85111'): 1,\n",
       " (12725.0, 'POST'): 1,\n",
       " (12731.0, '10002'): 1,\n",
       " (12731.0, '20682'): 1,\n",
       " (12731.0, '20685'): 1,\n",
       " (12731.0, '20725'): 1,\n",
       " (12731.0, '21507'): 1,\n",
       " (12731.0, '21527'): 1,\n",
       " (12731.0, '21533'): 1,\n",
       " (12731.0, '21889'): 1,\n",
       " (12731.0, '21914'): 1,\n",
       " (12731.0, '21915'): 1,\n",
       " (12731.0, '22549'): 1,\n",
       " (12731.0, '22558'): 1,\n",
       " (12731.0, '22560'): 1,\n",
       " (12731.0, '48138'): 1,\n",
       " (12731.0, '84879'): 1,\n",
       " (12731.0, 'POST'): 1,\n",
       " (12738.0, '21212'): 1,\n",
       " (12738.0, '21977'): 1,\n",
       " (12738.0, '22077'): 1,\n",
       " (12738.0, '22215'): 1,\n",
       " (12738.0, '22776'): 1,\n",
       " (12738.0, '22952'): 1,\n",
       " (12738.0, '22961'): 1,\n",
       " (12738.0, '22962'): 1,\n",
       " (12738.0, '22963'): 1,\n",
       " (12738.0, '84991'): 1,\n",
       " (12738.0, 'POST'): 1,\n",
       " (12747.0, '21136'): 1,\n",
       " (12747.0, '21754'): 1,\n",
       " (12747.0, '22795'): 1,\n",
       " (12747.0, '48138'): 1,\n",
       " (12747.0, '82482'): 1,\n",
       " (12747.0, '82484'): 2,\n",
       " (12747.0, '82494L'): 1,\n",
       " (12747.0, '84879'): 2,\n",
       " (12747.0, '85062'): 2,\n",
       " (12747.0, '85064'): 1,\n",
       " (12747.0, '85124B'): 1,\n",
       " (12747.0, '85124C'): 1,\n",
       " (12748.0, '10120'): 1,\n",
       " (12748.0, '10133'): 2,\n",
       " (12748.0, '15036'): 1,\n",
       " (12748.0, '15039'): 1,\n",
       " (12748.0, '15056BL'): 1,\n",
       " (12748.0, '16010'): 1,\n",
       " (12748.0, '16011'): 1,\n",
       " (12748.0, '16054'): 1,\n",
       " (12748.0, '16161U'): 1,\n",
       " (12748.0, '16169K'): 1,\n",
       " (12748.0, '16169P'): 1,\n",
       " (12748.0, '16236'): 1,\n",
       " (12748.0, '16237'): 2,\n",
       " (12748.0, '17091J'): 1,\n",
       " (12748.0, '17107D'): 1,\n",
       " (12748.0, '20674'): 1,\n",
       " (12748.0, '20684'): 1,\n",
       " (12748.0, '20685'): 2,\n",
       " (12748.0, '20686'): 1,\n",
       " (12748.0, '20719'): 1,\n",
       " (12748.0, '20724'): 1,\n",
       " (12748.0, '20725'): 1,\n",
       " (12748.0, '20726'): 1,\n",
       " (12748.0, '20727'): 3,\n",
       " (12748.0, '20728'): 2,\n",
       " (12748.0, '20748'): 1,\n",
       " (12748.0, '20751'): 1,\n",
       " (12748.0, '20754'): 1,\n",
       " (12748.0, '20757'): 3,\n",
       " (12748.0, '20764'): 1,\n",
       " (12748.0, '20765'): 1,\n",
       " (12748.0, '20770'): 1,\n",
       " (12748.0, '20771'): 1,\n",
       " (12748.0, '20773'): 1,\n",
       " (12748.0, '20774'): 2,\n",
       " (12748.0, '20780'): 1,\n",
       " (12748.0, '20798'): 1,\n",
       " (12748.0, '20839'): 1,\n",
       " (12748.0, '20861'): 1,\n",
       " (12748.0, '20894'): 1,\n",
       " (12748.0, '20931'): 1,\n",
       " (12748.0, '20961'): 1,\n",
       " (12748.0, '20963'): 1,\n",
       " (12748.0, '20966'): 1,\n",
       " (12748.0, '20967'): 2,\n",
       " (12748.0, '20970'): 2,\n",
       " (12748.0, '20973'): 1,\n",
       " (12748.0, '20975'): 2,\n",
       " (12748.0, '20978'): 1,\n",
       " (12748.0, '20980'): 1,\n",
       " (12748.0, '20981'): 1,\n",
       " (12748.0, '20982'): 2,\n",
       " (12748.0, '21033'): 1,\n",
       " (12748.0, '21034'): 9,\n",
       " (12748.0, '21058'): 2,\n",
       " (12748.0, '21062'): 1,\n",
       " (12748.0, '21063'): 1,\n",
       " (12748.0, '21064'): 1,\n",
       " (12748.0, '21090'): 2,\n",
       " (12748.0, '21098'): 4,\n",
       " (12748.0, '21121'): 1,\n",
       " (12748.0, '21143'): 1,\n",
       " (12748.0, '21159'): 1,\n",
       " (12748.0, '21162'): 1,\n",
       " (12748.0, '21166'): 2,\n",
       " (12748.0, '21167'): 1,\n",
       " (12748.0, '21174'): 1,\n",
       " (12748.0, '21175'): 1,\n",
       " (12748.0, '21179'): 1,\n",
       " (12748.0, '21209'): 1,\n",
       " (12748.0, '21231'): 2,\n",
       " (12748.0, '21232'): 1,\n",
       " (12748.0, '21239'): 1,\n",
       " (12748.0, '21243'): 1,\n",
       " (12748.0, '21326'): 1,\n",
       " (12748.0, '21327'): 1,\n",
       " (12748.0, '21328'): 2,\n",
       " (12748.0, '21329'): 3,\n",
       " (12748.0, '21351'): 1,\n",
       " (12748.0, '21360'): 1,\n",
       " (12748.0, '21367'): 1,\n",
       " (12748.0, '21380'): 1,\n",
       " (12748.0, '21383'): 1,\n",
       " (12748.0, '21413'): 1,\n",
       " (12748.0, '21427'): 1,\n",
       " (12748.0, '21428'): 1,\n",
       " (12748.0, '21446'): 1,\n",
       " (12748.0, '21447'): 1,\n",
       " (12748.0, '21467'): 1,\n",
       " (12748.0, '21479'): 2,\n",
       " (12748.0, '21499'): 2,\n",
       " (12748.0, '21500'): 1,\n",
       " (12748.0, '21544'): 1,\n",
       " (12748.0, '21556'): 1,\n",
       " (12748.0, '21563'): 1,\n",
       " (12748.0, '21581'): 1,\n",
       " (12748.0, '21586'): 1,\n",
       " (12748.0, '21621'): 1,\n",
       " (12748.0, '21624'): 1,\n",
       " (12748.0, '21635'): 1,\n",
       " (12748.0, '21640'): 1,\n",
       " (12748.0, '21644'): 1,\n",
       " (12748.0, '21650'): 4,\n",
       " (12748.0, '21657'): 1,\n",
       " (12748.0, '21658'): 1,\n",
       " (12748.0, '21664'): 1,\n",
       " (12748.0, '21669'): 1,\n",
       " (12748.0, '21677'): 1,\n",
       " (12748.0, '21682'): 1,\n",
       " (12748.0, '21683'): 1,\n",
       " (12748.0, '21700'): 1,\n",
       " (12748.0, '21709'): 1,\n",
       " (12748.0, '21719'): 1,\n",
       " (12748.0, '21720'): 1,\n",
       " (12748.0, '21721'): 1,\n",
       " (12748.0, '21722'): 1,\n",
       " (12748.0, '21723'): 1,\n",
       " (12748.0, '21724'): 1,\n",
       " (12748.0, '21725'): 1,\n",
       " (12748.0, '21726'): 1,\n",
       " (12748.0, '21785'): 3,\n",
       " (12748.0, '21786'): 3,\n",
       " ...}"
      ]
     },
     "execution_count": 17,
     "metadata": {},
     "output_type": "execute_result"
    }
   ],
   "source": [
    "final_dict"
   ]
  },
  {
   "cell_type": "code",
   "execution_count": 18,
   "id": "d0aa5af0",
   "metadata": {},
   "outputs": [],
   "source": [
    "cust = []\n",
    "code = []\n",
    "rating=[]"
   ]
  },
  {
   "cell_type": "code",
   "execution_count": 19,
   "id": "de81f42d",
   "metadata": {},
   "outputs": [],
   "source": [
    "for i in list(final_dict.keys()):\n",
    "    cust.append(i[0])\n",
    "    code.append(i[1])\n",
    "rating = list(final_dict.values())"
   ]
  },
  {
   "cell_type": "code",
   "execution_count": 20,
   "id": "ff41953c",
   "metadata": {},
   "outputs": [],
   "source": [
    "df_recommend = pd.DataFrame(list(zip(cust, code,rating)),\n",
    "               columns =['CustomerId', 'StockCode','Qty'])"
   ]
  },
  {
   "cell_type": "code",
   "execution_count": 21,
   "id": "bbe6080f",
   "metadata": {
    "scrolled": false
   },
   "outputs": [
    {
     "data": {
      "text/html": [
       "<div>\n",
       "<style scoped>\n",
       "    .dataframe tbody tr th:only-of-type {\n",
       "        vertical-align: middle;\n",
       "    }\n",
       "\n",
       "    .dataframe tbody tr th {\n",
       "        vertical-align: top;\n",
       "    }\n",
       "\n",
       "    .dataframe thead th {\n",
       "        text-align: right;\n",
       "    }\n",
       "</style>\n",
       "<table border=\"1\" class=\"dataframe\">\n",
       "  <thead>\n",
       "    <tr style=\"text-align: right;\">\n",
       "      <th></th>\n",
       "      <th>CustomerId</th>\n",
       "      <th>StockCode</th>\n",
       "      <th>Qty</th>\n",
       "    </tr>\n",
       "  </thead>\n",
       "  <tbody>\n",
       "    <tr>\n",
       "      <th>0</th>\n",
       "      <td>12347.0</td>\n",
       "      <td>20780</td>\n",
       "      <td>1</td>\n",
       "    </tr>\n",
       "    <tr>\n",
       "      <th>1</th>\n",
       "      <td>12347.0</td>\n",
       "      <td>20782</td>\n",
       "      <td>1</td>\n",
       "    </tr>\n",
       "    <tr>\n",
       "      <th>2</th>\n",
       "      <td>12347.0</td>\n",
       "      <td>21064</td>\n",
       "      <td>1</td>\n",
       "    </tr>\n",
       "    <tr>\n",
       "      <th>3</th>\n",
       "      <td>12347.0</td>\n",
       "      <td>21171</td>\n",
       "      <td>1</td>\n",
       "    </tr>\n",
       "    <tr>\n",
       "      <th>4</th>\n",
       "      <td>12347.0</td>\n",
       "      <td>21731</td>\n",
       "      <td>1</td>\n",
       "    </tr>\n",
       "    <tr>\n",
       "      <th>...</th>\n",
       "      <td>...</td>\n",
       "      <td>...</td>\n",
       "      <td>...</td>\n",
       "    </tr>\n",
       "    <tr>\n",
       "      <th>17918</th>\n",
       "      <td>18269.0</td>\n",
       "      <td>22449</td>\n",
       "      <td>1</td>\n",
       "    </tr>\n",
       "    <tr>\n",
       "      <th>17919</th>\n",
       "      <td>18269.0</td>\n",
       "      <td>22450</td>\n",
       "      <td>1</td>\n",
       "    </tr>\n",
       "    <tr>\n",
       "      <th>17920</th>\n",
       "      <td>18269.0</td>\n",
       "      <td>22451</td>\n",
       "      <td>1</td>\n",
       "    </tr>\n",
       "    <tr>\n",
       "      <th>17921</th>\n",
       "      <td>18269.0</td>\n",
       "      <td>22617</td>\n",
       "      <td>1</td>\n",
       "    </tr>\n",
       "    <tr>\n",
       "      <th>17922</th>\n",
       "      <td>18269.0</td>\n",
       "      <td>22837</td>\n",
       "      <td>1</td>\n",
       "    </tr>\n",
       "  </tbody>\n",
       "</table>\n",
       "<p>17923 rows × 3 columns</p>\n",
       "</div>"
      ],
      "text/plain": [
       "       CustomerId StockCode  Qty\n",
       "0         12347.0     20780    1\n",
       "1         12347.0     20782    1\n",
       "2         12347.0     21064    1\n",
       "3         12347.0     21171    1\n",
       "4         12347.0     21731    1\n",
       "...           ...       ...  ...\n",
       "17918     18269.0     22449    1\n",
       "17919     18269.0     22450    1\n",
       "17920     18269.0     22451    1\n",
       "17921     18269.0     22617    1\n",
       "17922     18269.0     22837    1\n",
       "\n",
       "[17923 rows x 3 columns]"
      ]
     },
     "execution_count": 21,
     "metadata": {},
     "output_type": "execute_result"
    }
   ],
   "source": [
    "df_recommend"
   ]
  },
  {
   "cell_type": "markdown",
   "id": "194e5d8c",
   "metadata": {},
   "source": [
    "This is the final Dataframe that we will be applying our support vector decomposition on. "
   ]
  },
  {
   "cell_type": "code",
   "execution_count": 22,
   "id": "5dece5a3",
   "metadata": {
    "scrolled": true
   },
   "outputs": [
    {
     "data": {
      "text/html": [
       "<div>\n",
       "<style scoped>\n",
       "    .dataframe tbody tr th:only-of-type {\n",
       "        vertical-align: middle;\n",
       "    }\n",
       "\n",
       "    .dataframe tbody tr th {\n",
       "        vertical-align: top;\n",
       "    }\n",
       "\n",
       "    .dataframe thead th {\n",
       "        text-align: right;\n",
       "    }\n",
       "</style>\n",
       "<table border=\"1\" class=\"dataframe\">\n",
       "  <thead>\n",
       "    <tr style=\"text-align: right;\">\n",
       "      <th>StockCode</th>\n",
       "      <th>10002</th>\n",
       "      <th>10120</th>\n",
       "      <th>10123C</th>\n",
       "      <th>10124A</th>\n",
       "      <th>10124G</th>\n",
       "      <th>10125</th>\n",
       "      <th>10133</th>\n",
       "      <th>10135</th>\n",
       "      <th>11001</th>\n",
       "      <th>15034</th>\n",
       "      <th>...</th>\n",
       "      <th>90214J</th>\n",
       "      <th>90214K</th>\n",
       "      <th>90214M</th>\n",
       "      <th>90214S</th>\n",
       "      <th>90214V</th>\n",
       "      <th>BANK CHARGES</th>\n",
       "      <th>C2</th>\n",
       "      <th>D</th>\n",
       "      <th>M</th>\n",
       "      <th>POST</th>\n",
       "    </tr>\n",
       "    <tr>\n",
       "      <th>CustomerId</th>\n",
       "      <th></th>\n",
       "      <th></th>\n",
       "      <th></th>\n",
       "      <th></th>\n",
       "      <th></th>\n",
       "      <th></th>\n",
       "      <th></th>\n",
       "      <th></th>\n",
       "      <th></th>\n",
       "      <th></th>\n",
       "      <th></th>\n",
       "      <th></th>\n",
       "      <th></th>\n",
       "      <th></th>\n",
       "      <th></th>\n",
       "      <th></th>\n",
       "      <th></th>\n",
       "      <th></th>\n",
       "      <th></th>\n",
       "      <th></th>\n",
       "      <th></th>\n",
       "    </tr>\n",
       "  </thead>\n",
       "  <tbody>\n",
       "    <tr>\n",
       "      <th>12347.0</th>\n",
       "      <td>0</td>\n",
       "      <td>0</td>\n",
       "      <td>0</td>\n",
       "      <td>0</td>\n",
       "      <td>0</td>\n",
       "      <td>0</td>\n",
       "      <td>0</td>\n",
       "      <td>0</td>\n",
       "      <td>0</td>\n",
       "      <td>0</td>\n",
       "      <td>...</td>\n",
       "      <td>0</td>\n",
       "      <td>0</td>\n",
       "      <td>0</td>\n",
       "      <td>0</td>\n",
       "      <td>0</td>\n",
       "      <td>0</td>\n",
       "      <td>0</td>\n",
       "      <td>0</td>\n",
       "      <td>0</td>\n",
       "      <td>0</td>\n",
       "    </tr>\n",
       "    <tr>\n",
       "      <th>12370.0</th>\n",
       "      <td>0</td>\n",
       "      <td>0</td>\n",
       "      <td>0</td>\n",
       "      <td>0</td>\n",
       "      <td>0</td>\n",
       "      <td>0</td>\n",
       "      <td>0</td>\n",
       "      <td>0</td>\n",
       "      <td>0</td>\n",
       "      <td>0</td>\n",
       "      <td>...</td>\n",
       "      <td>0</td>\n",
       "      <td>0</td>\n",
       "      <td>0</td>\n",
       "      <td>0</td>\n",
       "      <td>0</td>\n",
       "      <td>0</td>\n",
       "      <td>0</td>\n",
       "      <td>0</td>\n",
       "      <td>0</td>\n",
       "      <td>0</td>\n",
       "    </tr>\n",
       "    <tr>\n",
       "      <th>12386.0</th>\n",
       "      <td>0</td>\n",
       "      <td>0</td>\n",
       "      <td>0</td>\n",
       "      <td>0</td>\n",
       "      <td>0</td>\n",
       "      <td>0</td>\n",
       "      <td>0</td>\n",
       "      <td>0</td>\n",
       "      <td>0</td>\n",
       "      <td>0</td>\n",
       "      <td>...</td>\n",
       "      <td>0</td>\n",
       "      <td>0</td>\n",
       "      <td>0</td>\n",
       "      <td>0</td>\n",
       "      <td>0</td>\n",
       "      <td>0</td>\n",
       "      <td>0</td>\n",
       "      <td>0</td>\n",
       "      <td>0</td>\n",
       "      <td>0</td>\n",
       "    </tr>\n",
       "    <tr>\n",
       "      <th>12395.0</th>\n",
       "      <td>0</td>\n",
       "      <td>0</td>\n",
       "      <td>0</td>\n",
       "      <td>0</td>\n",
       "      <td>0</td>\n",
       "      <td>0</td>\n",
       "      <td>0</td>\n",
       "      <td>0</td>\n",
       "      <td>0</td>\n",
       "      <td>0</td>\n",
       "      <td>...</td>\n",
       "      <td>0</td>\n",
       "      <td>0</td>\n",
       "      <td>0</td>\n",
       "      <td>0</td>\n",
       "      <td>0</td>\n",
       "      <td>0</td>\n",
       "      <td>0</td>\n",
       "      <td>0</td>\n",
       "      <td>0</td>\n",
       "      <td>1</td>\n",
       "    </tr>\n",
       "    <tr>\n",
       "      <th>12427.0</th>\n",
       "      <td>0</td>\n",
       "      <td>0</td>\n",
       "      <td>0</td>\n",
       "      <td>0</td>\n",
       "      <td>0</td>\n",
       "      <td>0</td>\n",
       "      <td>0</td>\n",
       "      <td>0</td>\n",
       "      <td>0</td>\n",
       "      <td>0</td>\n",
       "      <td>...</td>\n",
       "      <td>0</td>\n",
       "      <td>0</td>\n",
       "      <td>0</td>\n",
       "      <td>0</td>\n",
       "      <td>0</td>\n",
       "      <td>0</td>\n",
       "      <td>0</td>\n",
       "      <td>0</td>\n",
       "      <td>0</td>\n",
       "      <td>1</td>\n",
       "    </tr>\n",
       "  </tbody>\n",
       "</table>\n",
       "<p>5 rows × 2226 columns</p>\n",
       "</div>"
      ],
      "text/plain": [
       "StockCode   10002  10120  10123C  10124A  10124G  10125  10133  10135  11001  \\\n",
       "CustomerId                                                                     \n",
       "12347.0         0      0       0       0       0      0      0      0      0   \n",
       "12370.0         0      0       0       0       0      0      0      0      0   \n",
       "12386.0         0      0       0       0       0      0      0      0      0   \n",
       "12395.0         0      0       0       0       0      0      0      0      0   \n",
       "12427.0         0      0       0       0       0      0      0      0      0   \n",
       "\n",
       "StockCode   15034  ...  90214J  90214K  90214M  90214S  90214V  BANK CHARGES  \\\n",
       "CustomerId         ...                                                         \n",
       "12347.0         0  ...       0       0       0       0       0             0   \n",
       "12370.0         0  ...       0       0       0       0       0             0   \n",
       "12386.0         0  ...       0       0       0       0       0             0   \n",
       "12395.0         0  ...       0       0       0       0       0             0   \n",
       "12427.0         0  ...       0       0       0       0       0             0   \n",
       "\n",
       "StockCode   C2  D  M  POST  \n",
       "CustomerId                  \n",
       "12347.0      0  0  0     0  \n",
       "12370.0      0  0  0     0  \n",
       "12386.0      0  0  0     0  \n",
       "12395.0      0  0  0     1  \n",
       "12427.0      0  0  0     1  \n",
       "\n",
       "[5 rows x 2226 columns]"
      ]
     },
     "execution_count": 22,
     "metadata": {},
     "output_type": "execute_result"
    }
   ],
   "source": [
    "ratings_utility_matrix = df_recommend.pivot_table(values='Qty', index='CustomerId', columns='StockCode', fill_value=0)\n",
    "ratings_utility_matrix.head()"
   ]
  },
  {
   "cell_type": "markdown",
   "id": "4aeb281f",
   "metadata": {},
   "source": [
    "This is our Matrix wherein the X axis has the Product Code and the Y Axis has the detail of the customer. \n",
    "The intersection has the Quantity said customer has purchsed of said product. "
   ]
  },
  {
   "cell_type": "code",
   "execution_count": 23,
   "id": "b4f22546",
   "metadata": {},
   "outputs": [],
   "source": [
    "X = ratings_utility_matrix.T\n",
    "X.head()\n",
    "X1 = X"
   ]
  },
  {
   "cell_type": "code",
   "execution_count": 24,
   "id": "0539cf0d",
   "metadata": {},
   "outputs": [
    {
     "data": {
      "text/plain": [
       "(2226, 10)"
      ]
     },
     "execution_count": 24,
     "metadata": {},
     "output_type": "execute_result"
    }
   ],
   "source": [
    "SVD = TruncatedSVD(n_components=10)\n",
    "decomposed_matrix = SVD.fit_transform(X)\n",
    "decomposed_matrix.shape"
   ]
  },
  {
   "cell_type": "markdown",
   "id": "c870cbb3",
   "metadata": {},
   "source": [
    "Here is where we reduce the above matrix into a matrix having only 10 columns without losing any data. \n",
    "Now, we will find the correlation of each product with every other product. \n",
    "For a given product P , the 10 most hihgly correlated products are the ones the customer is most likely to buy based on the Support Vector Decompositon.\n",
    "We have shown an example of this in the code below."
   ]
  },
  {
   "cell_type": "code",
   "execution_count": 25,
   "id": "b568ae52",
   "metadata": {},
   "outputs": [
    {
     "data": {
      "text/plain": [
       "(2226, 2226)"
      ]
     },
     "execution_count": 25,
     "metadata": {},
     "output_type": "execute_result"
    }
   ],
   "source": [
    "correlation_matrix = np.corrcoef(decomposed_matrix)\n",
    "correlation_matrix.shape"
   ]
  },
  {
   "cell_type": "code",
   "execution_count": 43,
   "id": "c02c058c",
   "metadata": {},
   "outputs": [],
   "source": [
    "testdata = X.index[322]"
   ]
  },
  {
   "cell_type": "code",
   "execution_count": 28,
   "id": "9ca15f05",
   "metadata": {},
   "outputs": [],
   "source": [
    "testdata2 = X.index[192]"
   ]
  },
  {
   "cell_type": "code",
   "execution_count": 44,
   "id": "ff7ac549",
   "metadata": {},
   "outputs": [
    {
     "data": {
      "text/plain": [
       "'21205'"
      ]
     },
     "execution_count": 44,
     "metadata": {},
     "output_type": "execute_result"
    }
   ],
   "source": [
    "testdata"
   ]
  },
  {
   "cell_type": "code",
   "execution_count": 45,
   "id": "dd9bb204",
   "metadata": {},
   "outputs": [
    {
     "data": {
      "text/plain": [
       "322"
      ]
     },
     "execution_count": 45,
     "metadata": {},
     "output_type": "execute_result"
    }
   ],
   "source": [
    "product_names = list(X.index)\n",
    "product_ID = product_names.index(testdata)\n",
    "product_ID"
   ]
  },
  {
   "cell_type": "code",
   "execution_count": 46,
   "id": "aa3dc913",
   "metadata": {},
   "outputs": [
    {
     "data": {
      "text/plain": [
       "(2226,)"
      ]
     },
     "execution_count": 46,
     "metadata": {},
     "output_type": "execute_result"
    }
   ],
   "source": [
    "correlation_product_ID = correlation_matrix[product_ID]\n",
    "correlation_product_ID.shape"
   ]
  },
  {
   "cell_type": "code",
   "execution_count": 47,
   "id": "2981eeb6",
   "metadata": {},
   "outputs": [
    {
     "data": {
      "text/plain": [
       "['16014',\n",
       " '16016',\n",
       " '20777',\n",
       " '21587',\n",
       " '21680',\n",
       " '22044',\n",
       " '22144',\n",
       " '22359',\n",
       " '22360']"
      ]
     },
     "execution_count": 47,
     "metadata": {},
     "output_type": "execute_result"
    }
   ],
   "source": [
    "recommended_products = list(X.index[correlation_product_ID > 0.90])\n",
    "recommended_products.remove(testdata) \n",
    "\n",
    "recommended_products[0:9]"
   ]
  },
  {
   "cell_type": "code",
   "execution_count": 48,
   "id": "fce23232",
   "metadata": {},
   "outputs": [
    {
     "name": "stdout",
     "output_type": "stream",
     "text": [
      "SMALL CHINESE STYLE SCISSOR\n",
      "LARGE CHINESE STYLE SCISSOR\n",
      "CHRYSANTHEMUM NOTEBOOK\n",
      "COSY HOUR GIANT TUBE MATCHES\n",
      "WOODLAND  STICKERS\n",
      "CHRISTMAS CARD STACK OF PRESENTS\n",
      "CHRISTMAS CRAFT LITTLE FRIENDS\n",
      "GLASS JAR KINGS CHOICE\n",
      "GLASS JAR ENGLISH CONFECTIONERY\n"
     ]
    }
   ],
   "source": [
    "for i in recommended_products[0:9]:\n",
    "    print(data_main.loc[data_main['StockCode'] == i]['Description'].unique()[0])\n",
    "  "
   ]
  },
  {
   "cell_type": "code",
   "execution_count": 49,
   "id": "fdd32f0e",
   "metadata": {},
   "outputs": [
    {
     "name": "stdout",
     "output_type": "stream",
     "text": [
      "MULTICOLOUR 3D BALLS GARLAND\n"
     ]
    }
   ],
   "source": [
    "print(data_main.loc[data_main['StockCode'] == testdata]['Description'].unique()[0])"
   ]
  },
  {
   "cell_type": "code",
   "execution_count": 53,
   "id": "573e67c3",
   "metadata": {},
   "outputs": [],
   "source": [
    "def findRecommend(testdata):\n",
    "    product_names = list(X.index)\n",
    "    product_ID = product_names.index(testdata)\n",
    "    correlation_product_ID = correlation_matrix[product_ID]\n",
    "    recommended_products = list(X.index[correlation_product_ID > 0.90])\n",
    "    recommended_products.remove(testdata) \n",
    "    print(\"The product previously purchased is \" + data_main.loc[data_main['StockCode'] == testdata]['Description'].unique()[0])\n",
    "    print(\"\")\n",
    "    print(\"The user is most likely to purchase the following :-\")\n",
    "    print(\"\")\n",
    "    for i in recommended_products[0:9]:\n",
    "        print(data_main.loc[data_main['StockCode'] == i]['Description'].unique()[0])\n",
    "\n",
    "\n",
    "    "
   ]
  },
  {
   "cell_type": "code",
   "execution_count": 54,
   "id": "e030043d",
   "metadata": {},
   "outputs": [
    {
     "name": "stdout",
     "output_type": "stream",
     "text": [
      "The product previously purchased is SKULL AND CROSSBONES  GARLAND \n",
      "\n",
      "The user is most likely to purchase the following :-\n",
      "\n",
      "ASS COL SMALL SAND GECKO P'WEIGHT\n",
      "ASS COL LARGE SAND FROG P'WEIGHT\n",
      "CRAZY DAISY HEART DECORATION\n",
      "PARTY FOOD SHOPPER BAG\n",
      "LARGE CAKE TOWEL, CHOCOLATE SPOTS\n",
      "SET 6 FOOTBALL CELEBRATION CANDLES\n",
      "RED SPOTTY BISCUIT TIN\n",
      "RED RETROSPOT PLATE \n",
      "GREEN POLKADOT PLATE \n"
     ]
    }
   ],
   "source": [
    "findRecommend(X.index[324])"
   ]
  },
  {
   "cell_type": "code",
   "execution_count": null,
   "id": "311a6e0a",
   "metadata": {},
   "outputs": [],
   "source": []
  }
 ],
 "metadata": {
  "kernelspec": {
   "display_name": "Python 3 (ipykernel)",
   "language": "python",
   "name": "python3"
  },
  "language_info": {
   "codemirror_mode": {
    "name": "ipython",
    "version": 3
   },
   "file_extension": ".py",
   "mimetype": "text/x-python",
   "name": "python",
   "nbconvert_exporter": "python",
   "pygments_lexer": "ipython3",
   "version": "3.11.1"
  }
 },
 "nbformat": 4,
 "nbformat_minor": 5
}
